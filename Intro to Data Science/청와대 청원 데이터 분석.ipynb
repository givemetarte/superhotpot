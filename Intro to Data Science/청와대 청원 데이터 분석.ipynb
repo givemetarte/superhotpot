{
 "cells": [
  {
   "cell_type": "markdown",
   "metadata": {},
   "source": [
    "# 청와대 청원 데이터 분석하기 \n",
    "\n",
    "## 웹크롤링"
   ]
  },
  {
   "cell_type": "code",
   "execution_count": 26,
   "metadata": {},
   "outputs": [],
   "source": [
    "from urllib.request import urlopen\n",
    "from bs4 import BeautifulSoup\n",
    "import pandas as pd"
   ]
  },
  {
   "cell_type": "code",
   "execution_count": 27,
   "metadata": {},
   "outputs": [],
   "source": [
    "titles = []\n",
    "start_date = []\n",
    "end_date = []\n",
    "num_consent = []\n",
    "answer_date = []\n",
    "address = []\n",
    "\n",
    "def get_info(url): \n",
    "    res = urlopen(url)\n",
    "    soup = BeautifulSoup(res, \"html.parser\")\n",
    "    \n",
    "    # get titles, address(url)\n",
    "    contents = soup.find_all('div', class_='ans_name_title')\n",
    "    for n in range(0,len(contents)):\n",
    "        content = contents[n]\n",
    "        titles.append(content.a.get_text())\n",
    "        add_url = str(content.find('a')['href'])\n",
    "        address.append('https://www1.president.go.kr'+add_url)\n",
    "    \n",
    "    # 청원시작과 끝 날짜, 참여인원, 답변일 정보 얻기 \n",
    "    infos = soup.find_all('ol', class_='ans_name_info')\n",
    "    for info in infos: \n",
    "        start_date.append(info.find('p', class_='ans_list1_2').get_text()[2:-2])\n",
    "        end_date.append(info.find('p', class_='ans_list2_2').get_text()[2:-2])\n",
    "        num_consent.append(info.find('p', class_='ans_list3_2').get_text()[2:-2])\n",
    "        answer_date.append(info.find('p', class_='ans_list4_2').get_text()[2:-2])          "
   ]
  },
  {
   "cell_type": "code",
   "execution_count": 28,
   "metadata": {},
   "outputs": [],
   "source": [
    "for n in range(1,13): \n",
    "    url = 'https://www1.president.go.kr/petitions/answer?page=%d' % n\n",
    "    get_info(url)"
   ]
  },
  {
   "cell_type": "code",
   "execution_count": 29,
   "metadata": {},
   "outputs": [
    {
     "data": {
      "text/html": [
       "<div>\n",
       "<style scoped>\n",
       "    .dataframe tbody tr th:only-of-type {\n",
       "        vertical-align: middle;\n",
       "    }\n",
       "\n",
       "    .dataframe tbody tr th {\n",
       "        vertical-align: top;\n",
       "    }\n",
       "\n",
       "    .dataframe thead th {\n",
       "        text-align: right;\n",
       "    }\n",
       "</style>\n",
       "<table border=\"1\" class=\"dataframe\">\n",
       "  <thead>\n",
       "    <tr style=\"text-align: right;\">\n",
       "      <th></th>\n",
       "      <th>제목</th>\n",
       "      <th>청원시작일</th>\n",
       "      <th>청원종료일</th>\n",
       "      <th>참여인원</th>\n",
       "      <th>청원답변일</th>\n",
       "      <th>URL</th>\n",
       "    </tr>\n",
       "  </thead>\n",
       "  <tbody>\n",
       "    <tr>\n",
       "      <th>0</th>\n",
       "      <td>방송통신위원회는 방송의 공적 책임 방기하고  언론이기를 포기한 채널A와 TV조선의 ...</td>\n",
       "      <td>2020. 04. 07</td>\n",
       "      <td>2020. 05. 07</td>\n",
       "      <td>273,513</td>\n",
       "      <td>2020. 06. 05</td>\n",
       "      <td>https://www1.president.go.kr/petitions/587827</td>\n",
       "    </tr>\n",
       "    <tr>\n",
       "      <th>1</th>\n",
       "      <td>렌트카 훔쳐 사망사고를 낸 10대 엄중 처벌해주세요</td>\n",
       "      <td>2020. 04. 02</td>\n",
       "      <td>2020. 05. 02</td>\n",
       "      <td>1,007,040</td>\n",
       "      <td>2020. 06. 02</td>\n",
       "      <td>https://www1.president.go.kr/petitions/587624</td>\n",
       "    </tr>\n",
       "    <tr>\n",
       "      <th>2</th>\n",
       "      <td>세월호 전면재수사</td>\n",
       "      <td>2020. 04. 01</td>\n",
       "      <td>2020. 05. 01</td>\n",
       "      <td>216,118</td>\n",
       "      <td>2020. 06. 01</td>\n",
       "      <td>https://www1.president.go.kr/petitions/587604</td>\n",
       "    </tr>\n",
       "    <tr>\n",
       "      <th>3</th>\n",
       "      <td>자가격리를 어기고 제주도 4박5일 여행.미국유학생 강남구 **번 확진자 처벌해주세요</td>\n",
       "      <td>2020. 03. 27</td>\n",
       "      <td>2020. 04. 26</td>\n",
       "      <td>207,563</td>\n",
       "      <td>2020. 05. 25</td>\n",
       "      <td>https://www1.president.go.kr/petitions/587334</td>\n",
       "    </tr>\n",
       "    <tr>\n",
       "      <th>4</th>\n",
       "      <td>수출용 코로나19 진단키트 이름을 독도로 해주세요</td>\n",
       "      <td>2020. 03. 25</td>\n",
       "      <td>2020. 04. 24</td>\n",
       "      <td>385,617</td>\n",
       "      <td>2020. 05. 25</td>\n",
       "      <td>https://www1.president.go.kr/petitions/587169</td>\n",
       "    </tr>\n",
       "    <tr>\n",
       "      <th>...</th>\n",
       "      <td>...</td>\n",
       "      <td>...</td>\n",
       "      <td>...</td>\n",
       "      <td>...</td>\n",
       "      <td>...</td>\n",
       "      <td>...</td>\n",
       "    </tr>\n",
       "    <tr>\n",
       "      <th>169</th>\n",
       "      <td>권역외상센터 (이국종 교수님) 추가적, 제도적, 환경적, 인력 지원</td>\n",
       "      <td>2017. 11. 17</td>\n",
       "      <td>2017. 12. 17</td>\n",
       "      <td>281,985</td>\n",
       "      <td>2018. 01. 16</td>\n",
       "      <td>https://www1.president.go.kr/petitions/45581</td>\n",
       "    </tr>\n",
       "    <tr>\n",
       "      <th>170</th>\n",
       "      <td>조두순 출소반대</td>\n",
       "      <td>2017. 09. 06</td>\n",
       "      <td>2017. 12. 05</td>\n",
       "      <td>615,354</td>\n",
       "      <td>2017. 12. 06</td>\n",
       "      <td>https://www1.president.go.kr/petitions/10949</td>\n",
       "    </tr>\n",
       "    <tr>\n",
       "      <th>171</th>\n",
       "      <td>'주취감형(술을 먹으면 형벌 감형)' 폐지를 건의(청원)합니다.</td>\n",
       "      <td>2017. 11. 04</td>\n",
       "      <td>2017. 12. 04</td>\n",
       "      <td>216,774</td>\n",
       "      <td>2017. 12. 06</td>\n",
       "      <td>https://www1.president.go.kr/petitions/26024</td>\n",
       "    </tr>\n",
       "    <tr>\n",
       "      <th>172</th>\n",
       "      <td>낙태죄 폐지와 자연유산 유도약(미프진) 합법화 및 도입을 부탁드립니다.</td>\n",
       "      <td>2017. 09. 30</td>\n",
       "      <td>2017. 10. 30</td>\n",
       "      <td>235,372</td>\n",
       "      <td>2017. 11. 26</td>\n",
       "      <td>https://www1.president.go.kr/petitions/18278</td>\n",
       "    </tr>\n",
       "    <tr>\n",
       "      <th>173</th>\n",
       "      <td>청소년이란 이유로 보호법을 악용하는 잔인무도한 청소년들이 늘어나고있습니다. 반드시 ...</td>\n",
       "      <td>2017. 09. 03</td>\n",
       "      <td>2017. 11. 02</td>\n",
       "      <td>296,330</td>\n",
       "      <td>2017. 09. 25</td>\n",
       "      <td>https://www1.president.go.kr/petitions/1785</td>\n",
       "    </tr>\n",
       "  </tbody>\n",
       "</table>\n",
       "<p>174 rows × 6 columns</p>\n",
       "</div>"
      ],
      "text/plain": [
       "                                                    제목         청원시작일  \\\n",
       "0    방송통신위원회는 방송의 공적 책임 방기하고  언론이기를 포기한 채널A와 TV조선의 ...  2020. 04. 07   \n",
       "1                         렌트카 훔쳐 사망사고를 낸 10대 엄중 처벌해주세요  2020. 04. 02   \n",
       "2                                            세월호 전면재수사  2020. 04. 01   \n",
       "3       자가격리를 어기고 제주도 4박5일 여행.미국유학생 강남구 **번 확진자 처벌해주세요  2020. 03. 27   \n",
       "4                          수출용 코로나19 진단키트 이름을 독도로 해주세요  2020. 03. 25   \n",
       "..                                                 ...           ...   \n",
       "169              권역외상센터 (이국종 교수님) 추가적, 제도적, 환경적, 인력 지원  2017. 11. 17   \n",
       "170                                           조두순 출소반대  2017. 09. 06   \n",
       "171                '주취감형(술을 먹으면 형벌 감형)' 폐지를 건의(청원)합니다.  2017. 11. 04   \n",
       "172            낙태죄 폐지와 자연유산 유도약(미프진) 합법화 및 도입을 부탁드립니다.  2017. 09. 30   \n",
       "173  청소년이란 이유로 보호법을 악용하는 잔인무도한 청소년들이 늘어나고있습니다. 반드시 ...  2017. 09. 03   \n",
       "\n",
       "            청원종료일       참여인원         청원답변일  \\\n",
       "0    2020. 05. 07    273,513  2020. 06. 05   \n",
       "1    2020. 05. 02  1,007,040  2020. 06. 02   \n",
       "2    2020. 05. 01    216,118  2020. 06. 01   \n",
       "3    2020. 04. 26    207,563  2020. 05. 25   \n",
       "4    2020. 04. 24    385,617  2020. 05. 25   \n",
       "..            ...        ...           ...   \n",
       "169  2017. 12. 17    281,985  2018. 01. 16   \n",
       "170  2017. 12. 05    615,354  2017. 12. 06   \n",
       "171  2017. 12. 04    216,774  2017. 12. 06   \n",
       "172  2017. 10. 30    235,372  2017. 11. 26   \n",
       "173  2017. 11. 02    296,330  2017. 09. 25   \n",
       "\n",
       "                                               URL  \n",
       "0    https://www1.president.go.kr/petitions/587827  \n",
       "1    https://www1.president.go.kr/petitions/587624  \n",
       "2    https://www1.president.go.kr/petitions/587604  \n",
       "3    https://www1.president.go.kr/petitions/587334  \n",
       "4    https://www1.president.go.kr/petitions/587169  \n",
       "..                                             ...  \n",
       "169   https://www1.president.go.kr/petitions/45581  \n",
       "170   https://www1.president.go.kr/petitions/10949  \n",
       "171   https://www1.president.go.kr/petitions/26024  \n",
       "172   https://www1.president.go.kr/petitions/18278  \n",
       "173    https://www1.president.go.kr/petitions/1785  \n",
       "\n",
       "[174 rows x 6 columns]"
      ]
     },
     "execution_count": 29,
     "metadata": {},
     "output_type": "execute_result"
    }
   ],
   "source": [
    "data = {'제목':titles, '청원시작일':start_date, '청원종료일': end_date,\n",
    "       '참여인원': num_consent, '청원답변일':answer_date, 'URL':address}\n",
    "df = pd.DataFrame(data)\n",
    "df"
   ]
  },
  {
   "cell_type": "code",
   "execution_count": 30,
   "metadata": {},
   "outputs": [],
   "source": [
    "df.to_csv('BlueHouse Petition data.csv', sep=',', encoding='utf-8')"
   ]
  },
  {
   "cell_type": "code",
   "execution_count": 31,
   "metadata": {},
   "outputs": [
    {
     "data": {
      "text/html": [
       "<div>\n",
       "<style scoped>\n",
       "    .dataframe tbody tr th:only-of-type {\n",
       "        vertical-align: middle;\n",
       "    }\n",
       "\n",
       "    .dataframe tbody tr th {\n",
       "        vertical-align: top;\n",
       "    }\n",
       "\n",
       "    .dataframe thead th {\n",
       "        text-align: right;\n",
       "    }\n",
       "</style>\n",
       "<table border=\"1\" class=\"dataframe\">\n",
       "  <thead>\n",
       "    <tr style=\"text-align: right;\">\n",
       "      <th></th>\n",
       "      <th>제목</th>\n",
       "      <th>청원시작일</th>\n",
       "      <th>청원종료일</th>\n",
       "      <th>참여인원</th>\n",
       "      <th>청원답변일</th>\n",
       "      <th>URL</th>\n",
       "    </tr>\n",
       "  </thead>\n",
       "  <tbody>\n",
       "    <tr>\n",
       "      <th>0</th>\n",
       "      <td>방송통신위원회는 방송의 공적 책임 방기하고  언론이기를 포기한 채널A와 TV조선의 ...</td>\n",
       "      <td>2020. 04. 07</td>\n",
       "      <td>2020. 05. 07</td>\n",
       "      <td>273513</td>\n",
       "      <td>2020. 06. 05</td>\n",
       "      <td>https://www1.president.go.kr/petitions/587827</td>\n",
       "    </tr>\n",
       "    <tr>\n",
       "      <th>1</th>\n",
       "      <td>렌트카 훔쳐 사망사고를 낸 10대 엄중 처벌해주세요</td>\n",
       "      <td>2020. 04. 02</td>\n",
       "      <td>2020. 05. 02</td>\n",
       "      <td>1007040</td>\n",
       "      <td>2020. 06. 02</td>\n",
       "      <td>https://www1.president.go.kr/petitions/587624</td>\n",
       "    </tr>\n",
       "    <tr>\n",
       "      <th>2</th>\n",
       "      <td>세월호 전면재수사</td>\n",
       "      <td>2020. 04. 01</td>\n",
       "      <td>2020. 05. 01</td>\n",
       "      <td>216118</td>\n",
       "      <td>2020. 06. 01</td>\n",
       "      <td>https://www1.president.go.kr/petitions/587604</td>\n",
       "    </tr>\n",
       "    <tr>\n",
       "      <th>3</th>\n",
       "      <td>자가격리를 어기고 제주도 4박5일 여행.미국유학생 강남구 **번 확진자 처벌해주세요</td>\n",
       "      <td>2020. 03. 27</td>\n",
       "      <td>2020. 04. 26</td>\n",
       "      <td>207563</td>\n",
       "      <td>2020. 05. 25</td>\n",
       "      <td>https://www1.president.go.kr/petitions/587334</td>\n",
       "    </tr>\n",
       "    <tr>\n",
       "      <th>4</th>\n",
       "      <td>수출용 코로나19 진단키트 이름을 독도로 해주세요</td>\n",
       "      <td>2020. 03. 25</td>\n",
       "      <td>2020. 04. 24</td>\n",
       "      <td>385617</td>\n",
       "      <td>2020. 05. 25</td>\n",
       "      <td>https://www1.president.go.kr/petitions/587169</td>\n",
       "    </tr>\n",
       "  </tbody>\n",
       "</table>\n",
       "</div>"
      ],
      "text/plain": [
       "                                                  제목         청원시작일  \\\n",
       "0  방송통신위원회는 방송의 공적 책임 방기하고  언론이기를 포기한 채널A와 TV조선의 ...  2020. 04. 07   \n",
       "1                       렌트카 훔쳐 사망사고를 낸 10대 엄중 처벌해주세요  2020. 04. 02   \n",
       "2                                          세월호 전면재수사  2020. 04. 01   \n",
       "3     자가격리를 어기고 제주도 4박5일 여행.미국유학생 강남구 **번 확진자 처벌해주세요  2020. 03. 27   \n",
       "4                        수출용 코로나19 진단키트 이름을 독도로 해주세요  2020. 03. 25   \n",
       "\n",
       "          청원종료일     참여인원         청원답변일  \\\n",
       "0  2020. 05. 07   273513  2020. 06. 05   \n",
       "1  2020. 05. 02  1007040  2020. 06. 02   \n",
       "2  2020. 05. 01   216118  2020. 06. 01   \n",
       "3  2020. 04. 26   207563  2020. 05. 25   \n",
       "4  2020. 04. 24   385617  2020. 05. 25   \n",
       "\n",
       "                                             URL  \n",
       "0  https://www1.president.go.kr/petitions/587827  \n",
       "1  https://www1.president.go.kr/petitions/587624  \n",
       "2  https://www1.president.go.kr/petitions/587604  \n",
       "3  https://www1.president.go.kr/petitions/587334  \n",
       "4  https://www1.president.go.kr/petitions/587169  "
      ]
     },
     "execution_count": 31,
     "metadata": {},
     "output_type": "execute_result"
    }
   ],
   "source": [
    "import pandas as pd\n",
    "\n",
    "petition = pd.read_csv('BlueHouse Petition data.csv', thousands=',', encoding='utf-8', index_col=0)\n",
    "petition.head()"
   ]
  },
  {
   "cell_type": "code",
   "execution_count": 32,
   "metadata": {},
   "outputs": [
    {
     "data": {
      "text/plain": [
       "174"
      ]
     },
     "execution_count": 32,
     "metadata": {},
     "output_type": "execute_result"
    }
   ],
   "source": [
    "len(petition)"
   ]
  },
  {
   "cell_type": "code",
   "execution_count": 33,
   "metadata": {
    "scrolled": true
   },
   "outputs": [
    {
     "name": "stderr",
     "output_type": "stream",
     "text": [
      "/usr/local/lib/python3.7/site-packages/ipykernel_launcher.py:11: TqdmDeprecationWarning: This function will be removed in tqdm==5.0.0\n",
      "Please use `tqdm.notebook.tqdm` instead of `tqdm.tqdm_notebook`\n",
      "  # This is added back by InteractiveShellApp.init_path()\n"
     ]
    },
    {
     "data": {
      "application/vnd.jupyter.widget-view+json": {
       "model_id": "526f849adb314b12a4b8502b13229f78",
       "version_major": 2,
       "version_minor": 0
      },
      "text/plain": [
       "HBox(children=(FloatProgress(value=0.0, max=174.0), HTML(value='')))"
      ]
     },
     "metadata": {},
     "output_type": "display_data"
    },
    {
     "name": "stdout",
     "output_type": "stream",
     "text": [
      "\n"
     ]
    }
   ],
   "source": [
    "import re \n",
    "import time\n",
    "from tqdm import tqdm_notebook\n",
    "from urllib.request import urlopen\n",
    "from bs4 import BeautifulSoup\n",
    "\n",
    "category =[]\n",
    "content = []\n",
    "answer = []\n",
    "\n",
    "for n in tqdm_notebook(petition.index): \n",
    "    url = urlopen(petition['URL'][n]) \n",
    "    if n / 2 == 0:\n",
    "        time.sleep(1)\n",
    "    else: \n",
    "        time.sleep(2)\n",
    "    soup = BeautifulSoup(url, \"html.parser\") \n",
    "    \n",
    "    # get category \n",
    "    sector = soup.find('ul', class_='petitionsView_info_list')\n",
    "    try: \n",
    "        category.append(sector.li.get_text()[4:])\n",
    "    except AttributeError:\n",
    "        print('AttributeError: index-', n, 'URL-', petition['URL'][n])\n",
    "    \n",
    "    # get petition content \n",
    "    content_raw = soup.find_all('div', class_='View_write')\n",
    "    try: \n",
    "        if len(content_raw) > 1:\n",
    "            content_raw_text = content_raw[1].get_text()\n",
    "        else: \n",
    "            content_raw_text = content_raw[0].get_text()   \n",
    "    except IndexError: \n",
    "        print('IndexError:', petition['URL'][n])\n",
    "    \n",
    "    content_split = re.split('\\r|\\t|\\n|\\xa0', content_raw_text)\n",
    "    content.append(''.join(content_split))\n",
    "\n",
    "    # get petition answer \n",
    "    answer_raw = soup.find_all('div', class_='pr_tk25')\n",
    "    if len(answer_raw) > 1: \n",
    "        answer_raw_text = re.split(\"\\r|\\t|\\n|\\xa0\", answer_raw[1].get_text())\n",
    "    else: \n",
    "        answer_raw_text = re.split(\"\\r|\\t|\\n|\\xa0\", answer_raw[0].get_text())\n",
    "    answer_raw_text = ' '.join(answer_raw_text)\n",
    "    answer.append(answer_raw_text[7:]) "
   ]
  },
  {
   "cell_type": "code",
   "execution_count": 34,
   "metadata": {},
   "outputs": [
    {
     "name": "stdout",
     "output_type": "stream",
     "text": [
      "174 174 174\n"
     ]
    }
   ],
   "source": [
    "print(len(category), len(content), len(answer))"
   ]
  },
  {
   "cell_type": "code",
   "execution_count": 35,
   "metadata": {},
   "outputs": [],
   "source": [
    "petition['카테고리'] = category\n",
    "petition['청원내용'] = content\n",
    "petition['청원답변'] = answer"
   ]
  },
  {
   "cell_type": "code",
   "execution_count": 36,
   "metadata": {},
   "outputs": [
    {
     "data": {
      "text/html": [
       "<div>\n",
       "<style scoped>\n",
       "    .dataframe tbody tr th:only-of-type {\n",
       "        vertical-align: middle;\n",
       "    }\n",
       "\n",
       "    .dataframe tbody tr th {\n",
       "        vertical-align: top;\n",
       "    }\n",
       "\n",
       "    .dataframe thead th {\n",
       "        text-align: right;\n",
       "    }\n",
       "</style>\n",
       "<table border=\"1\" class=\"dataframe\">\n",
       "  <thead>\n",
       "    <tr style=\"text-align: right;\">\n",
       "      <th></th>\n",
       "      <th>제목</th>\n",
       "      <th>청원시작일</th>\n",
       "      <th>청원종료일</th>\n",
       "      <th>참여인원</th>\n",
       "      <th>청원답변일</th>\n",
       "      <th>URL</th>\n",
       "      <th>카테고리</th>\n",
       "      <th>청원내용</th>\n",
       "      <th>청원답변</th>\n",
       "    </tr>\n",
       "  </thead>\n",
       "  <tbody>\n",
       "    <tr>\n",
       "      <th>144</th>\n",
       "      <td>합정 **** 불법 누드촬영</td>\n",
       "      <td>2018. 05. 17</td>\n",
       "      <td>2018. 06. 16</td>\n",
       "      <td>201590</td>\n",
       "      <td>2018. 05. 21</td>\n",
       "      <td>https://www1.president.go.kr/petitions/235102</td>\n",
       "      <td>인권/성평등</td>\n",
       "      <td></td>\n",
       "      <td></td>\n",
       "    </tr>\n",
       "    <tr>\n",
       "      <th>145</th>\n",
       "      <td>위장•몰래카메라 판매금지와 몰카범죄 처벌을 강화해주세요.</td>\n",
       "      <td>2018. 03. 23</td>\n",
       "      <td>2018. 04. 22</td>\n",
       "      <td>209494</td>\n",
       "      <td>2018. 05. 21</td>\n",
       "      <td>https://www1.president.go.kr/petitions/173355</td>\n",
       "      <td>안전/환경</td>\n",
       "      <td></td>\n",
       "      <td></td>\n",
       "    </tr>\n",
       "    <tr>\n",
       "      <th>146</th>\n",
       "      <td>여성도 대한민국 국민입니다. 성별 관계없는 국가의 보호를 요청합니다.</td>\n",
       "      <td>2018. 05. 11</td>\n",
       "      <td>2018. 06. 10</td>\n",
       "      <td>419006</td>\n",
       "      <td>2018. 05. 21</td>\n",
       "      <td>https://www1.president.go.kr/petitions/230552</td>\n",
       "      <td>인권/성평등</td>\n",
       "      <td></td>\n",
       "      <td></td>\n",
       "    </tr>\n",
       "    <tr>\n",
       "      <th>149</th>\n",
       "      <td>다산신도시 실버택배 비용은 입주민들의 관리비로 충당해야합니다.</td>\n",
       "      <td>2018. 04. 17</td>\n",
       "      <td>2018. 05. 17</td>\n",
       "      <td>302082</td>\n",
       "      <td>2018. 05. 04</td>\n",
       "      <td>https://www1.president.go.kr/petitions/203181</td>\n",
       "      <td>행정</td>\n",
       "      <td></td>\n",
       "      <td></td>\n",
       "    </tr>\n",
       "  </tbody>\n",
       "</table>\n",
       "</div>"
      ],
      "text/plain": [
       "                                         제목         청원시작일         청원종료일  \\\n",
       "144                         합정 **** 불법 누드촬영  2018. 05. 17  2018. 06. 16   \n",
       "145         위장•몰래카메라 판매금지와 몰카범죄 처벌을 강화해주세요.  2018. 03. 23  2018. 04. 22   \n",
       "146  여성도 대한민국 국민입니다. 성별 관계없는 국가의 보호를 요청합니다.  2018. 05. 11  2018. 06. 10   \n",
       "149      다산신도시 실버택배 비용은 입주민들의 관리비로 충당해야합니다.  2018. 04. 17  2018. 05. 17   \n",
       "\n",
       "       참여인원         청원답변일                                            URL  \\\n",
       "144  201590  2018. 05. 21  https://www1.president.go.kr/petitions/235102   \n",
       "145  209494  2018. 05. 21  https://www1.president.go.kr/petitions/173355   \n",
       "146  419006  2018. 05. 21  https://www1.president.go.kr/petitions/230552   \n",
       "149  302082  2018. 05. 04  https://www1.president.go.kr/petitions/203181   \n",
       "\n",
       "       카테고리 청원내용 청원답변  \n",
       "144  인권/성평등            \n",
       "145   안전/환경            \n",
       "146  인권/성평등            \n",
       "149      행정            "
      ]
     },
     "execution_count": 36,
     "metadata": {},
     "output_type": "execute_result"
    }
   ],
   "source": [
    "petition[petition['청원내용'] == '']"
   ]
  },
  {
   "cell_type": "code",
   "execution_count": 37,
   "metadata": {},
   "outputs": [
    {
     "name": "stderr",
     "output_type": "stream",
     "text": [
      "/usr/local/lib/python3.7/site-packages/ipykernel_launcher.py:9: SettingWithCopyWarning: \n",
      "A value is trying to be set on a copy of a slice from a DataFrame\n",
      "\n",
      "See the caveats in the documentation: http://pandas.pydata.org/pandas-docs/stable/user_guide/indexing.html#returning-a-view-versus-a-copy\n",
      "  if __name__ == '__main__':\n",
      "/usr/local/lib/python3.7/site-packages/ipykernel_launcher.py:15: SettingWithCopyWarning: \n",
      "A value is trying to be set on a copy of a slice from a DataFrame\n",
      "\n",
      "See the caveats in the documentation: http://pandas.pydata.org/pandas-docs/stable/user_guide/indexing.html#returning-a-view-versus-a-copy\n",
      "  from ipykernel import kernelapp as app\n"
     ]
    }
   ],
   "source": [
    "for n in [144, 145, 146, 149]: \n",
    "    url = urlopen(petition['URL'][n]) \n",
    "    soup = BeautifulSoup(url, \"html.parser\") \n",
    "    \n",
    "    # get petition content \n",
    "    content_raw = soup.find_all('div', class_='View_write')\n",
    "    content_raw_text = content_raw[2].get_text()   \n",
    "    content_split = re.split('\\r|\\t|\\n|\\xa0', content_raw_text)\n",
    "    petition['청원내용'][n] = ''.join(content_split)\n",
    "    \n",
    "    # get petition answer \n",
    "    answer_raw = soup.find_all('div', class_='pr_tk25')\n",
    "    answer_raw_text = re.split(\"\\r|\\t|\\n|\\xa0\", answer_raw[2].get_text())\n",
    "    answer_raw_text = ' '.join(answer_raw_text)\n",
    "    petition['청원답변'][n] = answer_raw_text[7:]"
   ]
  },
  {
   "cell_type": "code",
   "execution_count": 38,
   "metadata": {},
   "outputs": [
    {
     "data": {
      "text/html": [
       "<div>\n",
       "<style scoped>\n",
       "    .dataframe tbody tr th:only-of-type {\n",
       "        vertical-align: middle;\n",
       "    }\n",
       "\n",
       "    .dataframe tbody tr th {\n",
       "        vertical-align: top;\n",
       "    }\n",
       "\n",
       "    .dataframe thead th {\n",
       "        text-align: right;\n",
       "    }\n",
       "</style>\n",
       "<table border=\"1\" class=\"dataframe\">\n",
       "  <thead>\n",
       "    <tr style=\"text-align: right;\">\n",
       "      <th></th>\n",
       "      <th>제목</th>\n",
       "      <th>청원시작일</th>\n",
       "      <th>청원종료일</th>\n",
       "      <th>참여인원</th>\n",
       "      <th>청원답변일</th>\n",
       "      <th>URL</th>\n",
       "      <th>카테고리</th>\n",
       "      <th>청원내용</th>\n",
       "      <th>청원답변</th>\n",
       "    </tr>\n",
       "  </thead>\n",
       "  <tbody>\n",
       "    <tr>\n",
       "      <th>144</th>\n",
       "      <td>합정 **** 불법 누드촬영</td>\n",
       "      <td>2018. 05. 17</td>\n",
       "      <td>2018. 06. 16</td>\n",
       "      <td>201590</td>\n",
       "      <td>2018. 05. 21</td>\n",
       "      <td>https://www1.president.go.kr/petitions/235102</td>\n",
       "      <td>인권/성평등</td>\n",
       "      <td>한 유명 유튜버의 사례저는 성범죄 피해자입니다. 꼭 한번만 제 이야기를 들어주세요....</td>\n",
       "      <td>&lt;정혜승 뉴미디어 비서관&gt;   안녕하십니까. 뉴미디어비서관 정혜승입니다. 오늘 11...</td>\n",
       "    </tr>\n",
       "    <tr>\n",
       "      <th>145</th>\n",
       "      <td>위장•몰래카메라 판매금지와 몰카범죄 처벌을 강화해주세요.</td>\n",
       "      <td>2018. 03. 23</td>\n",
       "      <td>2018. 04. 22</td>\n",
       "      <td>209494</td>\n",
       "      <td>2018. 05. 21</td>\n",
       "      <td>https://www1.president.go.kr/petitions/173355</td>\n",
       "      <td>안전/환경</td>\n",
       "      <td>2012년 전국의 몰카범죄는 2400건 2015년에 들어 3배 이상 증가해 무려 7...</td>\n",
       "      <td>&lt;정혜승 뉴미디어 비서관&gt;   안녕하십니까. 뉴미디어비서관 정혜승입니다. 오늘 11...</td>\n",
       "    </tr>\n",
       "    <tr>\n",
       "      <th>146</th>\n",
       "      <td>여성도 대한민국 국민입니다. 성별 관계없는 국가의 보호를 요청합니다.</td>\n",
       "      <td>2018. 05. 11</td>\n",
       "      <td>2018. 06. 10</td>\n",
       "      <td>419006</td>\n",
       "      <td>2018. 05. 21</td>\n",
       "      <td>https://www1.president.go.kr/petitions/230552</td>\n",
       "      <td>인권/성평등</td>\n",
       "      <td>최근 홍대 누드크로키 모델의 불법촬영 사건이 있었습니다.사건은 굉장히 빠르게 처리되...</td>\n",
       "      <td>&lt;정혜승 뉴미디어 비서관&gt;   안녕하십니까. 뉴미디어비서관 정혜승입니다. 오늘 11...</td>\n",
       "    </tr>\n",
       "    <tr>\n",
       "      <th>147</th>\n",
       "      <td>미세먼지의 위험 그리고 오염 및 중국에대한 항의</td>\n",
       "      <td>2018. 03. 24</td>\n",
       "      <td>2018. 04. 23</td>\n",
       "      <td>278128</td>\n",
       "      <td>2018. 05. 16</td>\n",
       "      <td>https://www1.president.go.kr/petitions/174292</td>\n",
       "      <td>안전/환경</td>\n",
       "      <td>미세먼지가 10년전에 비해 상당히 자주 몰려오고있습니다.언론에서도 중국발이라고 얘기...</td>\n",
       "      <td>&lt;정혜승 뉴미디어 비서관&gt;   안녕하십니까. 뉴미디어비서관 정혜승입니다.   오늘 ...</td>\n",
       "    </tr>\n",
       "    <tr>\n",
       "      <th>148</th>\n",
       "      <td>GMO완전표시제 시행을 촉구합니다!</td>\n",
       "      <td>2018. 03. 12</td>\n",
       "      <td>2018. 04. 11</td>\n",
       "      <td>216886</td>\n",
       "      <td>2018. 05. 08</td>\n",
       "      <td>https://www1.president.go.kr/petitions/164255</td>\n",
       "      <td>기타</td>\n",
       "      <td>우리나라는 안전성 논란이 계속되고 있는 식용 GMO를 연간 200만 톤 이상 수입합...</td>\n",
       "      <td>&lt;정혜승 뉴미디어 비서관&gt;   - 안녕하세요. 뉴미디어비서관 정혜승입니다. 오늘 1...</td>\n",
       "    </tr>\n",
       "    <tr>\n",
       "      <th>149</th>\n",
       "      <td>다산신도시 실버택배 비용은 입주민들의 관리비로 충당해야합니다.</td>\n",
       "      <td>2018. 04. 17</td>\n",
       "      <td>2018. 05. 17</td>\n",
       "      <td>302082</td>\n",
       "      <td>2018. 05. 04</td>\n",
       "      <td>https://www1.president.go.kr/petitions/203181</td>\n",
       "      <td>행정</td>\n",
       "      <td>다산신도시 입주민들이 택배원 대상으로 갑질을 저질러 사회적으로 큰 물의를 빚은 바 ...</td>\n",
       "      <td>&lt;뉴미디어비서관&gt;  - 안녕하세요. 뉴미디어비서관 정혜승입니다. 오늘 11시 50분...</td>\n",
       "    </tr>\n",
       "  </tbody>\n",
       "</table>\n",
       "</div>"
      ],
      "text/plain": [
       "                                         제목         청원시작일         청원종료일  \\\n",
       "144                         합정 **** 불법 누드촬영  2018. 05. 17  2018. 06. 16   \n",
       "145         위장•몰래카메라 판매금지와 몰카범죄 처벌을 강화해주세요.  2018. 03. 23  2018. 04. 22   \n",
       "146  여성도 대한민국 국민입니다. 성별 관계없는 국가의 보호를 요청합니다.  2018. 05. 11  2018. 06. 10   \n",
       "147              미세먼지의 위험 그리고 오염 및 중국에대한 항의  2018. 03. 24  2018. 04. 23   \n",
       "148                     GMO완전표시제 시행을 촉구합니다!  2018. 03. 12  2018. 04. 11   \n",
       "149      다산신도시 실버택배 비용은 입주민들의 관리비로 충당해야합니다.  2018. 04. 17  2018. 05. 17   \n",
       "\n",
       "       참여인원         청원답변일                                            URL  \\\n",
       "144  201590  2018. 05. 21  https://www1.president.go.kr/petitions/235102   \n",
       "145  209494  2018. 05. 21  https://www1.president.go.kr/petitions/173355   \n",
       "146  419006  2018. 05. 21  https://www1.president.go.kr/petitions/230552   \n",
       "147  278128  2018. 05. 16  https://www1.president.go.kr/petitions/174292   \n",
       "148  216886  2018. 05. 08  https://www1.president.go.kr/petitions/164255   \n",
       "149  302082  2018. 05. 04  https://www1.president.go.kr/petitions/203181   \n",
       "\n",
       "       카테고리                                               청원내용  \\\n",
       "144  인권/성평등  한 유명 유튜버의 사례저는 성범죄 피해자입니다. 꼭 한번만 제 이야기를 들어주세요....   \n",
       "145   안전/환경  2012년 전국의 몰카범죄는 2400건 2015년에 들어 3배 이상 증가해 무려 7...   \n",
       "146  인권/성평등  최근 홍대 누드크로키 모델의 불법촬영 사건이 있었습니다.사건은 굉장히 빠르게 처리되...   \n",
       "147   안전/환경  미세먼지가 10년전에 비해 상당히 자주 몰려오고있습니다.언론에서도 중국발이라고 얘기...   \n",
       "148      기타  우리나라는 안전성 논란이 계속되고 있는 식용 GMO를 연간 200만 톤 이상 수입합...   \n",
       "149      행정  다산신도시 입주민들이 택배원 대상으로 갑질을 저질러 사회적으로 큰 물의를 빚은 바 ...   \n",
       "\n",
       "                                                  청원답변  \n",
       "144  <정혜승 뉴미디어 비서관>   안녕하십니까. 뉴미디어비서관 정혜승입니다. 오늘 11...  \n",
       "145  <정혜승 뉴미디어 비서관>   안녕하십니까. 뉴미디어비서관 정혜승입니다. 오늘 11...  \n",
       "146  <정혜승 뉴미디어 비서관>   안녕하십니까. 뉴미디어비서관 정혜승입니다. 오늘 11...  \n",
       "147  <정혜승 뉴미디어 비서관>   안녕하십니까. 뉴미디어비서관 정혜승입니다.   오늘 ...  \n",
       "148  <정혜승 뉴미디어 비서관>   - 안녕하세요. 뉴미디어비서관 정혜승입니다. 오늘 1...  \n",
       "149  <뉴미디어비서관>  - 안녕하세요. 뉴미디어비서관 정혜승입니다. 오늘 11시 50분...  "
      ]
     },
     "execution_count": 38,
     "metadata": {},
     "output_type": "execute_result"
    }
   ],
   "source": [
    "petition[144:150]"
   ]
  },
  {
   "cell_type": "code",
   "execution_count": 39,
   "metadata": {},
   "outputs": [],
   "source": [
    "petition.to_csv('Final BlueHouse Petition data.csv', sep=',', encoding='utf-8')"
   ]
  },
  {
   "cell_type": "markdown",
   "metadata": {},
   "source": [
    "### EDA"
   ]
  },
  {
   "cell_type": "code",
   "execution_count": 1,
   "metadata": {},
   "outputs": [],
   "source": [
    "import pandas as pd\n",
    "import platform\n",
    "import matplotlib.pyplot as plt\n",
    "import seaborn as sns\n",
    "%matplotlib inline\n",
    "\n",
    "path = \"c:/Windows/Fonts/malgun.ttf\"\n",
    "from matplotlib import font_manager, rc\n",
    "if platform.system() == 'Darwin':\n",
    "    rc('font', family='AppleGothic')\n",
    "elif platform.system() == 'Windows':\n",
    "    font_name = font_manager.FontProperties(fname=path).get_name()\n",
    "    rc('font', family=font_name)\n",
    "else:\n",
    "    print('Unknown system... sorry~~~~')    \n",
    "\n",
    "plt.rcParams['axes.unicode_minus'] = False"
   ]
  },
  {
   "cell_type": "code",
   "execution_count": 2,
   "metadata": {},
   "outputs": [
    {
     "data": {
      "text/html": [
       "<div>\n",
       "<style scoped>\n",
       "    .dataframe tbody tr th:only-of-type {\n",
       "        vertical-align: middle;\n",
       "    }\n",
       "\n",
       "    .dataframe tbody tr th {\n",
       "        vertical-align: top;\n",
       "    }\n",
       "\n",
       "    .dataframe thead th {\n",
       "        text-align: right;\n",
       "    }\n",
       "</style>\n",
       "<table border=\"1\" class=\"dataframe\">\n",
       "  <thead>\n",
       "    <tr style=\"text-align: right;\">\n",
       "      <th></th>\n",
       "      <th>제목</th>\n",
       "      <th>청원시작일</th>\n",
       "      <th>청원종료일</th>\n",
       "      <th>참여인원</th>\n",
       "      <th>청원답변일</th>\n",
       "      <th>URL</th>\n",
       "      <th>카테고리</th>\n",
       "      <th>청원내용</th>\n",
       "      <th>청원답변</th>\n",
       "    </tr>\n",
       "  </thead>\n",
       "  <tbody>\n",
       "    <tr>\n",
       "      <th>0</th>\n",
       "      <td>방송통신위원회는 방송의 공적 책임 방기하고  언론이기를 포기한 채널A와 TV조선의 ...</td>\n",
       "      <td>2020-04-07</td>\n",
       "      <td>2020-05-07</td>\n",
       "      <td>273513</td>\n",
       "      <td>2020-06-05</td>\n",
       "      <td>https://www1.president.go.kr/petitions/587827</td>\n",
       "      <td>문화/예술/체육/언론</td>\n",
       "      <td>최근 MBC의 잇따른 보도에 따르면 종편 채널A 기자가 현직 검사장과의 친분을 내세...</td>\n",
       "      <td>안녕하십니까. 방송통신위원회 위원장 한상혁입니다. 오늘 답변드릴 ‘채널A와 TV조선...</td>\n",
       "    </tr>\n",
       "    <tr>\n",
       "      <th>1</th>\n",
       "      <td>렌트카 훔쳐 사망사고를 낸 10대 엄중 처벌해주세요</td>\n",
       "      <td>2020-04-02</td>\n",
       "      <td>2020-05-02</td>\n",
       "      <td>1007040</td>\n",
       "      <td>2020-06-02</td>\n",
       "      <td>https://www1.president.go.kr/petitions/587624</td>\n",
       "      <td>기타</td>\n",
       "      <td>29일 오전 0시 1분쯤 대전 동구의 한 네거리에서 훔친 렌터카를 몰던 10대 청소...</td>\n",
       "      <td>안녕하십니까. 디지털소통센터장 강정수입니다.   오늘은 「렌트카 훔쳐 사망사고 낸 ...</td>\n",
       "    </tr>\n",
       "    <tr>\n",
       "      <th>2</th>\n",
       "      <td>세월호 전면재수사</td>\n",
       "      <td>2020-04-01</td>\n",
       "      <td>2020-05-01</td>\n",
       "      <td>216118</td>\n",
       "      <td>2020-06-01</td>\n",
       "      <td>https://www1.president.go.kr/petitions/587604</td>\n",
       "      <td>기타</td>\n",
       "      <td>저는 세월호 희생자 단원고 2학년 6반 순범이 큰 누나 입니다.6주기가 3주도 안남...</td>\n",
       "      <td>안녕하십니까. 시민참여비서관 이기헌입니다.   「세월호 참사 전면 재수사」국민청원에...</td>\n",
       "    </tr>\n",
       "    <tr>\n",
       "      <th>3</th>\n",
       "      <td>자가격리를 어기고 제주도 4박5일 여행.미국유학생 강남구 **번 확진자 처벌해주세요</td>\n",
       "      <td>2020-03-27</td>\n",
       "      <td>2020-04-26</td>\n",
       "      <td>207563</td>\n",
       "      <td>2020-05-25</td>\n",
       "      <td>https://www1.president.go.kr/petitions/587334</td>\n",
       "      <td>행정</td>\n",
       "      <td>2주 자가격리를 어기고 제주도 4박5일 여행을 다녀온 강남구 **번 확진자와 같은 ...</td>\n",
       "      <td>안녕하십니까. 사회정책비서관 정동일입니다.   오늘은 &lt;수출용 진단키트 독도 명칭 ...</td>\n",
       "    </tr>\n",
       "    <tr>\n",
       "      <th>4</th>\n",
       "      <td>수출용 코로나19 진단키트 이름을 독도로 해주세요</td>\n",
       "      <td>2020-03-25</td>\n",
       "      <td>2020-04-24</td>\n",
       "      <td>385617</td>\n",
       "      <td>2020-05-25</td>\n",
       "      <td>https://www1.president.go.kr/petitions/587169</td>\n",
       "      <td>기타</td>\n",
       "      <td>지금 우리나라뿐 아니라 모든 나라가 코로나19사태로 어려움을 겪고 있습니다.우리나라...</td>\n",
       "      <td>안녕하십니까. 사회정책비서관 정동일입니다.   오늘은 &lt;수출용 진단키트 독도 명칭 ...</td>\n",
       "    </tr>\n",
       "  </tbody>\n",
       "</table>\n",
       "</div>"
      ],
      "text/plain": [
       "                                                  제목      청원시작일      청원종료일  \\\n",
       "0  방송통신위원회는 방송의 공적 책임 방기하고  언론이기를 포기한 채널A와 TV조선의 ... 2020-04-07 2020-05-07   \n",
       "1                       렌트카 훔쳐 사망사고를 낸 10대 엄중 처벌해주세요 2020-04-02 2020-05-02   \n",
       "2                                          세월호 전면재수사 2020-04-01 2020-05-01   \n",
       "3     자가격리를 어기고 제주도 4박5일 여행.미국유학생 강남구 **번 확진자 처벌해주세요 2020-03-27 2020-04-26   \n",
       "4                        수출용 코로나19 진단키트 이름을 독도로 해주세요 2020-03-25 2020-04-24   \n",
       "\n",
       "      참여인원      청원답변일                                            URL  \\\n",
       "0   273513 2020-06-05  https://www1.president.go.kr/petitions/587827   \n",
       "1  1007040 2020-06-02  https://www1.president.go.kr/petitions/587624   \n",
       "2   216118 2020-06-01  https://www1.president.go.kr/petitions/587604   \n",
       "3   207563 2020-05-25  https://www1.president.go.kr/petitions/587334   \n",
       "4   385617 2020-05-25  https://www1.president.go.kr/petitions/587169   \n",
       "\n",
       "          카테고리                                               청원내용  \\\n",
       "0  문화/예술/체육/언론  최근 MBC의 잇따른 보도에 따르면 종편 채널A 기자가 현직 검사장과의 친분을 내세...   \n",
       "1           기타  29일 오전 0시 1분쯤 대전 동구의 한 네거리에서 훔친 렌터카를 몰던 10대 청소...   \n",
       "2           기타  저는 세월호 희생자 단원고 2학년 6반 순범이 큰 누나 입니다.6주기가 3주도 안남...   \n",
       "3           행정  2주 자가격리를 어기고 제주도 4박5일 여행을 다녀온 강남구 **번 확진자와 같은 ...   \n",
       "4           기타  지금 우리나라뿐 아니라 모든 나라가 코로나19사태로 어려움을 겪고 있습니다.우리나라...   \n",
       "\n",
       "                                                청원답변  \n",
       "0  안녕하십니까. 방송통신위원회 위원장 한상혁입니다. 오늘 답변드릴 ‘채널A와 TV조선...  \n",
       "1  안녕하십니까. 디지털소통센터장 강정수입니다.   오늘은 「렌트카 훔쳐 사망사고 낸 ...  \n",
       "2  안녕하십니까. 시민참여비서관 이기헌입니다.   「세월호 참사 전면 재수사」국민청원에...  \n",
       "3  안녕하십니까. 사회정책비서관 정동일입니다.   오늘은 <수출용 진단키트 독도 명칭 ...  \n",
       "4  안녕하십니까. 사회정책비서관 정동일입니다.   오늘은 <수출용 진단키트 독도 명칭 ...  "
      ]
     },
     "execution_count": 2,
     "metadata": {},
     "output_type": "execute_result"
    }
   ],
   "source": [
    "petition = pd.read_csv('Final BlueHouse Petition data.csv', \n",
    "                       index_col=0, parse_dates=['청원시작일','청원종료일','청원답변일'])\n",
    "petition.head()"
   ]
  },
  {
   "cell_type": "markdown",
   "metadata": {},
   "source": [
    "### 결측치 "
   ]
  },
  {
   "cell_type": "code",
   "execution_count": 3,
   "metadata": {},
   "outputs": [
    {
     "data": {
      "text/html": [
       "<div>\n",
       "<style scoped>\n",
       "    .dataframe tbody tr th:only-of-type {\n",
       "        vertical-align: middle;\n",
       "    }\n",
       "\n",
       "    .dataframe tbody tr th {\n",
       "        vertical-align: top;\n",
       "    }\n",
       "\n",
       "    .dataframe thead th {\n",
       "        text-align: right;\n",
       "    }\n",
       "</style>\n",
       "<table border=\"1\" class=\"dataframe\">\n",
       "  <thead>\n",
       "    <tr style=\"text-align: right;\">\n",
       "      <th></th>\n",
       "      <th>제목</th>\n",
       "      <th>청원시작일</th>\n",
       "      <th>청원종료일</th>\n",
       "      <th>참여인원</th>\n",
       "      <th>청원답변일</th>\n",
       "      <th>URL</th>\n",
       "      <th>카테고리</th>\n",
       "      <th>청원내용</th>\n",
       "      <th>청원답변</th>\n",
       "    </tr>\n",
       "  </thead>\n",
       "  <tbody>\n",
       "    <tr>\n",
       "      <th>108</th>\n",
       "      <td>부하 여군을 강간한 두 명의 해군 간부를 처벌해주십시오.</td>\n",
       "      <td>2018-11-09</td>\n",
       "      <td>2018-12-09</td>\n",
       "      <td>206447</td>\n",
       "      <td>2018-12-18</td>\n",
       "      <td>https://www1.president.go.kr/petitions/436901</td>\n",
       "      <td>인권/성평등</td>\n",
       "      <td>2010년 9월경 해군 중위가 직속상관에게 상습적 강간과 강제 추행을 당한 사건이 ...</td>\n",
       "      <td>NaN</td>\n",
       "    </tr>\n",
       "    <tr>\n",
       "      <th>109</th>\n",
       "      <td>소년법 개정을 촉구 합니다!  17살 조카가 자살을 했습니다</td>\n",
       "      <td>2018-10-24</td>\n",
       "      <td>2018-11-23</td>\n",
       "      <td>211546</td>\n",
       "      <td>2018-12-18</td>\n",
       "      <td>https://www1.president.go.kr/petitions/418376</td>\n",
       "      <td>정치개혁</td>\n",
       "      <td>https://pann.nate.com/talk/343936115저는 지난 8월 2...</td>\n",
       "      <td>NaN</td>\n",
       "    </tr>\n",
       "    <tr>\n",
       "      <th>110</th>\n",
       "      <td>조두순의 출소를 반대합니다</td>\n",
       "      <td>2018-10-20</td>\n",
       "      <td>2018-11-19</td>\n",
       "      <td>261418</td>\n",
       "      <td>2018-12-18</td>\n",
       "      <td>https://www1.president.go.kr/petitions/412722</td>\n",
       "      <td>인권/성평등</td>\n",
       "      <td>제 얘기를 하기에 앞서 요즘 페이스북이라는 sns에서 화제가 되고 있는 글을 하나 ...</td>\n",
       "      <td>NaN</td>\n",
       "    </tr>\n",
       "  </tbody>\n",
       "</table>\n",
       "</div>"
      ],
      "text/plain": [
       "                                    제목      청원시작일      청원종료일    참여인원  \\\n",
       "108    부하 여군을 강간한 두 명의 해군 간부를 처벌해주십시오. 2018-11-09 2018-12-09  206447   \n",
       "109  소년법 개정을 촉구 합니다!  17살 조카가 자살을 했습니다 2018-10-24 2018-11-23  211546   \n",
       "110                     조두순의 출소를 반대합니다 2018-10-20 2018-11-19  261418   \n",
       "\n",
       "         청원답변일                                            URL    카테고리  \\\n",
       "108 2018-12-18  https://www1.president.go.kr/petitions/436901  인권/성평등   \n",
       "109 2018-12-18  https://www1.president.go.kr/petitions/418376    정치개혁   \n",
       "110 2018-12-18  https://www1.president.go.kr/petitions/412722  인권/성평등   \n",
       "\n",
       "                                                  청원내용 청원답변  \n",
       "108  2010년 9월경 해군 중위가 직속상관에게 상습적 강간과 강제 추행을 당한 사건이 ...  NaN  \n",
       "109  https://pann.nate.com/talk/343936115저는 지난 8월 2...  NaN  \n",
       "110  제 얘기를 하기에 앞서 요즘 페이스북이라는 sns에서 화제가 되고 있는 글을 하나 ...  NaN  "
      ]
     },
     "execution_count": 3,
     "metadata": {},
     "output_type": "execute_result"
    }
   ],
   "source": [
    "# 결측치 채우기ㅋㅋ (수작업으로 해도 되구. )\n",
    "petition.iloc[[108,109,110]]"
   ]
  },
  {
   "cell_type": "markdown",
   "metadata": {},
   "source": [
    "#### 청원 기간 확보하기"
   ]
  },
  {
   "cell_type": "code",
   "execution_count": 77,
   "metadata": {},
   "outputs": [
    {
     "data": {
      "text/html": [
       "<div>\n",
       "<style scoped>\n",
       "    .dataframe tbody tr th:only-of-type {\n",
       "        vertical-align: middle;\n",
       "    }\n",
       "\n",
       "    .dataframe tbody tr th {\n",
       "        vertical-align: top;\n",
       "    }\n",
       "\n",
       "    .dataframe thead th {\n",
       "        text-align: right;\n",
       "    }\n",
       "</style>\n",
       "<table border=\"1\" class=\"dataframe\">\n",
       "  <thead>\n",
       "    <tr style=\"text-align: right;\">\n",
       "      <th></th>\n",
       "      <th>제목</th>\n",
       "      <th>청원시작일</th>\n",
       "      <th>청원종료일</th>\n",
       "      <th>참여인원</th>\n",
       "      <th>청원답변일</th>\n",
       "      <th>URL</th>\n",
       "      <th>카테고리</th>\n",
       "      <th>청원내용</th>\n",
       "      <th>청원답변</th>\n",
       "      <th>20만 달성기간</th>\n",
       "      <th>청원 답변기간</th>\n",
       "    </tr>\n",
       "  </thead>\n",
       "  <tbody>\n",
       "    <tr>\n",
       "      <th>0</th>\n",
       "      <td>방송통신위원회는 방송의 공적 책임 방기하고  언론이기를 포기한 채널A와 TV조선의 ...</td>\n",
       "      <td>2020-04-07</td>\n",
       "      <td>2020-05-07</td>\n",
       "      <td>273513</td>\n",
       "      <td>2020-06-05</td>\n",
       "      <td>https://www1.president.go.kr/petitions/587827</td>\n",
       "      <td>문화/예술/체육/언론</td>\n",
       "      <td>최근 MBC의 잇따른 보도에 따르면 종편 채널A 기자가 현직 검사장과의 친분을 내세...</td>\n",
       "      <td>안녕하십니까. 방송통신위원회 위원장 한상혁입니다. 오늘 답변드릴 ‘채널A와 TV조선...</td>\n",
       "      <td>30</td>\n",
       "      <td>59</td>\n",
       "    </tr>\n",
       "    <tr>\n",
       "      <th>1</th>\n",
       "      <td>렌트카 훔쳐 사망사고를 낸 10대 엄중 처벌해주세요</td>\n",
       "      <td>2020-04-02</td>\n",
       "      <td>2020-05-02</td>\n",
       "      <td>1007040</td>\n",
       "      <td>2020-06-02</td>\n",
       "      <td>https://www1.president.go.kr/petitions/587624</td>\n",
       "      <td>기타</td>\n",
       "      <td>29일 오전 0시 1분쯤 대전 동구의 한 네거리에서 훔친 렌터카를 몰던 10대 청소...</td>\n",
       "      <td>안녕하십니까. 디지털소통센터장 강정수입니다.   오늘은 「렌트카 훔쳐 사망사고 낸 ...</td>\n",
       "      <td>30</td>\n",
       "      <td>61</td>\n",
       "    </tr>\n",
       "    <tr>\n",
       "      <th>2</th>\n",
       "      <td>세월호 전면재수사</td>\n",
       "      <td>2020-04-01</td>\n",
       "      <td>2020-05-01</td>\n",
       "      <td>216118</td>\n",
       "      <td>2020-06-01</td>\n",
       "      <td>https://www1.president.go.kr/petitions/587604</td>\n",
       "      <td>기타</td>\n",
       "      <td>저는 세월호 희생자 단원고 2학년 6반 순범이 큰 누나 입니다.6주기가 3주도 안남...</td>\n",
       "      <td>안녕하십니까. 시민참여비서관 이기헌입니다.   「세월호 참사 전면 재수사」국민청원에...</td>\n",
       "      <td>30</td>\n",
       "      <td>61</td>\n",
       "    </tr>\n",
       "  </tbody>\n",
       "</table>\n",
       "</div>"
      ],
      "text/plain": [
       "                                                  제목      청원시작일      청원종료일  \\\n",
       "0  방송통신위원회는 방송의 공적 책임 방기하고  언론이기를 포기한 채널A와 TV조선의 ... 2020-04-07 2020-05-07   \n",
       "1                       렌트카 훔쳐 사망사고를 낸 10대 엄중 처벌해주세요 2020-04-02 2020-05-02   \n",
       "2                                          세월호 전면재수사 2020-04-01 2020-05-01   \n",
       "\n",
       "      참여인원      청원답변일                                            URL  \\\n",
       "0   273513 2020-06-05  https://www1.president.go.kr/petitions/587827   \n",
       "1  1007040 2020-06-02  https://www1.president.go.kr/petitions/587624   \n",
       "2   216118 2020-06-01  https://www1.president.go.kr/petitions/587604   \n",
       "\n",
       "          카테고리                                               청원내용  \\\n",
       "0  문화/예술/체육/언론  최근 MBC의 잇따른 보도에 따르면 종편 채널A 기자가 현직 검사장과의 친분을 내세...   \n",
       "1           기타  29일 오전 0시 1분쯤 대전 동구의 한 네거리에서 훔친 렌터카를 몰던 10대 청소...   \n",
       "2           기타  저는 세월호 희생자 단원고 2학년 6반 순범이 큰 누나 입니다.6주기가 3주도 안남...   \n",
       "\n",
       "                                                청원답변  20만 달성기간  청원 답변기간  \n",
       "0  안녕하십니까. 방송통신위원회 위원장 한상혁입니다. 오늘 답변드릴 ‘채널A와 TV조선...        30       59  \n",
       "1  안녕하십니까. 디지털소통센터장 강정수입니다.   오늘은 「렌트카 훔쳐 사망사고 낸 ...        30       61  \n",
       "2  안녕하십니까. 시민참여비서관 이기헌입니다.   「세월호 참사 전면 재수사」국민청원에...        30       61  "
      ]
     },
     "execution_count": 77,
     "metadata": {},
     "output_type": "execute_result"
    }
   ],
   "source": [
    "# petition['20만 달성기간'] = (petition['청원종료일'] - petition['청원시작일']).dt.days\n",
    "petition['청원 답변기간'] = (petition['청원답변일'] - petition['청원시작일']).dt.days\n",
    "petition.head(3)         "
   ]
  },
  {
   "cell_type": "markdown",
   "metadata": {},
   "source": [
    "#### 20만 달성 기간"
   ]
  },
  {
   "cell_type": "code",
   "execution_count": 4,
   "metadata": {},
   "outputs": [
    {
     "data": {
      "text/plain": [
       "array([30, 90, 60])"
      ]
     },
     "execution_count": 4,
     "metadata": {},
     "output_type": "execute_result"
    }
   ],
   "source": [
    "petition['20만 달성기간'].unique()"
   ]
  },
  {
   "cell_type": "code",
   "execution_count": 5,
   "metadata": {},
   "outputs": [
    {
     "data": {
      "text/plain": [
       "30.517241379310345"
      ]
     },
     "execution_count": 5,
     "metadata": {},
     "output_type": "execute_result"
    }
   ],
   "source": [
    "# 평균 20만 달성기간\n",
    "petition['20만 달성기간'].mean()"
   ]
  },
  {
   "cell_type": "markdown",
   "metadata": {},
   "source": [
    "30일 이전에 20만 달성한 청원들이 있으나, 청와대에서는 이를 30일 기준으로 청원종료일로 잡는 듯하다."
   ]
  },
  {
   "cell_type": "markdown",
   "metadata": {},
   "source": [
    "#### 청와대 답변 기간"
   ]
  },
  {
   "cell_type": "code",
   "execution_count": 6,
   "metadata": {},
   "outputs": [
    {
     "data": {
      "text/plain": [
       "array([ 59,  61,  60,  56,  54,  58, 102,  51,  57,  76,  80,   6,   4,\n",
       "        14,  37,  65,  81,  91,  90, 114,  84,  50,  53,  45,  49,  27,\n",
       "        30,  43,  39,  48,  25,  19,   2, 153,  10,  28,  24,  44,  46,\n",
       "       107,  55,  52,  31,  42,  23,  41,  17,  36,  47,  29,  40,  15,\n",
       "        62,  32,  22])"
      ]
     },
     "execution_count": 6,
     "metadata": {},
     "output_type": "execute_result"
    }
   ],
   "source": [
    "petition['청원 답변기간'].unique()"
   ]
  },
  {
   "cell_type": "code",
   "execution_count": 7,
   "metadata": {},
   "outputs": [
    {
     "data": {
      "text/plain": [
       "50.793103448275865"
      ]
     },
     "execution_count": 7,
     "metadata": {},
     "output_type": "execute_result"
    }
   ],
   "source": [
    "petition['청원 답변기간'].mean()"
   ]
  },
  {
   "cell_type": "markdown",
   "metadata": {},
   "source": [
    "평균적으로 청원답변까지 걸리는 시간이 대략 50일이라고 할 수 있다. \n",
    "\n",
    "![법이 만들어지는 과정](법과정.jpg)\n",
    "\n",
    "90일 이내에 청원에 대한 답변을 들을 수 있다는 것은 기존의 제도권 정치 내에서 시민의 목소리가 정치권 제도 내로 들어가 법이 만드는데 걸리는 시간과 과정을 비교해보면 훨씬 더 단기 간 내에 청와대(가장 높은 곳)로부터 답변을 들을 수 있다는 점에서 효과적인 직접 민주주의 형태라 할 수 있다. 더불어 법안 내로 들어간다고 하더라도 많은 안건이 계류중이라는 것을 고려할 때에 국민이 가장 빠른 경로로 청와대로부터 답변을 들을 수 있는 중요한 통로라고 할 수 있다. "
   ]
  },
  {
   "cell_type": "code",
   "execution_count": 8,
   "metadata": {},
   "outputs": [
    {
     "data": {
      "text/html": [
       "<div>\n",
       "<style scoped>\n",
       "    .dataframe tbody tr th:only-of-type {\n",
       "        vertical-align: middle;\n",
       "    }\n",
       "\n",
       "    .dataframe tbody tr th {\n",
       "        vertical-align: top;\n",
       "    }\n",
       "\n",
       "    .dataframe thead th {\n",
       "        text-align: right;\n",
       "    }\n",
       "</style>\n",
       "<table border=\"1\" class=\"dataframe\">\n",
       "  <thead>\n",
       "    <tr style=\"text-align: right;\">\n",
       "      <th></th>\n",
       "      <th>제목</th>\n",
       "      <th>청원시작일</th>\n",
       "      <th>청원종료일</th>\n",
       "      <th>참여인원</th>\n",
       "      <th>청원답변일</th>\n",
       "      <th>URL</th>\n",
       "      <th>카테고리</th>\n",
       "      <th>청원내용</th>\n",
       "      <th>청원답변</th>\n",
       "      <th>20만 달성기간</th>\n",
       "      <th>청원 답변기간</th>\n",
       "    </tr>\n",
       "  </thead>\n",
       "  <tbody>\n",
       "    <tr>\n",
       "      <th>26</th>\n",
       "      <td>텔레그램 n번방 용의자 신상공개 및 포토라인 세워주세요</td>\n",
       "      <td>2020-03-18</td>\n",
       "      <td>2020-04-17</td>\n",
       "      <td>2715626</td>\n",
       "      <td>2020-03-24</td>\n",
       "      <td>https://www1.president.go.kr/petitions/586819</td>\n",
       "      <td>안전/환경</td>\n",
       "      <td>오늘 검거되었다고 합니다타인의 수치심과 어린 학생들을지옥으로 몰아넣은 가해자를포토라...</td>\n",
       "      <td>▲민갑룡 경찰청장:안녕하십니까. 경찰청장 민갑룡입니다.  텔레그램 n번방과 관련된 ...</td>\n",
       "      <td>30</td>\n",
       "      <td>6</td>\n",
       "    </tr>\n",
       "    <tr>\n",
       "      <th>27</th>\n",
       "      <td>텔레그램 n번방 가입자 전원의 신상공개를 원합니다</td>\n",
       "      <td>2020-03-20</td>\n",
       "      <td>2020-04-19</td>\n",
       "      <td>2026252</td>\n",
       "      <td>2020-03-24</td>\n",
       "      <td>https://www1.president.go.kr/petitions/586880</td>\n",
       "      <td>안전/환경</td>\n",
       "      <td>안녕하세요,텔레그램 n번방에 대한 수사가 진행되고 일부의 용의자가 검거되어 다행입니...</td>\n",
       "      <td>▲민갑룡 경찰청장:안녕하십니까. 경찰청장 민갑룡입니다.  텔레그램 n번방과 관련된 ...</td>\n",
       "      <td>30</td>\n",
       "      <td>4</td>\n",
       "    </tr>\n",
       "    <tr>\n",
       "      <th>28</th>\n",
       "      <td>가해자 n번방박사,n번방회원 모두 처벌해주세요</td>\n",
       "      <td>2020-03-20</td>\n",
       "      <td>2020-04-19</td>\n",
       "      <td>650579</td>\n",
       "      <td>2020-03-24</td>\n",
       "      <td>https://www1.president.go.kr/petitions/586885</td>\n",
       "      <td>안전/환경</td>\n",
       "      <td>n번방 박사라는 악마같은 인간은아동·청소년을 포함한 수십 명의 여성을 협박·강요해 ...</td>\n",
       "      <td>▲민갑룡 경찰청장:안녕하십니까. 경찰청장 민갑룡입니다.  텔레그램 n번방과 관련된 ...</td>\n",
       "      <td>30</td>\n",
       "      <td>4</td>\n",
       "    </tr>\n",
       "    <tr>\n",
       "      <th>29</th>\n",
       "      <td>N번방 대화 참여자들도 명단을 공개하고 처벌해주십시오</td>\n",
       "      <td>2020-03-20</td>\n",
       "      <td>2020-04-19</td>\n",
       "      <td>457487</td>\n",
       "      <td>2020-03-24</td>\n",
       "      <td>https://www1.president.go.kr/petitions/586879</td>\n",
       "      <td>인권/성평등</td>\n",
       "      <td>이번에 N번방 운영자가 검거되었습니다. 미성년자 소녀들을 대상으로 극악무도한 성범죄...</td>\n",
       "      <td>▲민갑룡 경찰청장:안녕하십니까. 경찰청장 민갑룡입니다.  텔레그램 n번방과 관련된 ...</td>\n",
       "      <td>30</td>\n",
       "      <td>4</td>\n",
       "    </tr>\n",
       "    <tr>\n",
       "      <th>85</th>\n",
       "      <td>안녕하세요. 증인 윤지오입니다.</td>\n",
       "      <td>2019-03-30</td>\n",
       "      <td>2019-04-29</td>\n",
       "      <td>318057</td>\n",
       "      <td>2019-04-01</td>\n",
       "      <td>https://www1.president.go.kr/petitions/578761</td>\n",
       "      <td>인권/성평등</td>\n",
       "      <td>안녕하세요. 증인 윤지오입니다.우선 고인의 이름으로 불리우는 사건 자체가 피해자가 ...</td>\n",
       "      <td>윤지오씨 신변보호 관련 청원에 원경환 서울지방경찰청장이 답변합니다. 지난 18일 청...</td>\n",
       "      <td>30</td>\n",
       "      <td>2</td>\n",
       "    </tr>\n",
       "    <tr>\n",
       "      <th>87</th>\n",
       "      <td>故장자연씨의 수사 기간 연장 및 재수사를 청원합니다.</td>\n",
       "      <td>2019-03-12</td>\n",
       "      <td>2019-04-11</td>\n",
       "      <td>738566</td>\n",
       "      <td>2019-03-18</td>\n",
       "      <td>https://www1.president.go.kr/petitions/559071</td>\n",
       "      <td>기타</td>\n",
       "      <td>故장자연씨의 수사 기간 연장 및 재수사를 청원합니다. 수사 기간을 연장해 장자연씨가...</td>\n",
       "      <td>故 장자연씨 사건 증인 신변보호 청원과 관련, 청원인은 사회적 불이익, 또는 신변에...</td>\n",
       "      <td>30</td>\n",
       "      <td>6</td>\n",
       "    </tr>\n",
       "    <tr>\n",
       "      <th>144</th>\n",
       "      <td>합정 **** 불법 누드촬영</td>\n",
       "      <td>2018-05-17</td>\n",
       "      <td>2018-06-16</td>\n",
       "      <td>201590</td>\n",
       "      <td>2018-05-21</td>\n",
       "      <td>https://www1.president.go.kr/petitions/235102</td>\n",
       "      <td>인권/성평등</td>\n",
       "      <td>한 유명 유튜버의 사례저는 성범죄 피해자입니다. 꼭 한번만 제 이야기를 들어주세요....</td>\n",
       "      <td>&lt;정혜승 뉴미디어 비서관&gt;   안녕하십니까. 뉴미디어비서관 정혜승입니다. 오늘 11...</td>\n",
       "      <td>30</td>\n",
       "      <td>4</td>\n",
       "    </tr>\n",
       "  </tbody>\n",
       "</table>\n",
       "</div>"
      ],
      "text/plain": [
       "                                 제목      청원시작일      청원종료일     참여인원      청원답변일  \\\n",
       "26   텔레그램 n번방 용의자 신상공개 및 포토라인 세워주세요 2020-03-18 2020-04-17  2715626 2020-03-24   \n",
       "27      텔레그램 n번방 가입자 전원의 신상공개를 원합니다 2020-03-20 2020-04-19  2026252 2020-03-24   \n",
       "28        가해자 n번방박사,n번방회원 모두 처벌해주세요 2020-03-20 2020-04-19   650579 2020-03-24   \n",
       "29    N번방 대화 참여자들도 명단을 공개하고 처벌해주십시오 2020-03-20 2020-04-19   457487 2020-03-24   \n",
       "85                안녕하세요. 증인 윤지오입니다. 2019-03-30 2019-04-29   318057 2019-04-01   \n",
       "87    故장자연씨의 수사 기간 연장 및 재수사를 청원합니다. 2019-03-12 2019-04-11   738566 2019-03-18   \n",
       "144                 합정 **** 불법 누드촬영 2018-05-17 2018-06-16   201590 2018-05-21   \n",
       "\n",
       "                                               URL    카테고리  \\\n",
       "26   https://www1.president.go.kr/petitions/586819   안전/환경   \n",
       "27   https://www1.president.go.kr/petitions/586880   안전/환경   \n",
       "28   https://www1.president.go.kr/petitions/586885   안전/환경   \n",
       "29   https://www1.president.go.kr/petitions/586879  인권/성평등   \n",
       "85   https://www1.president.go.kr/petitions/578761  인권/성평등   \n",
       "87   https://www1.president.go.kr/petitions/559071      기타   \n",
       "144  https://www1.president.go.kr/petitions/235102  인권/성평등   \n",
       "\n",
       "                                                  청원내용  \\\n",
       "26   오늘 검거되었다고 합니다타인의 수치심과 어린 학생들을지옥으로 몰아넣은 가해자를포토라...   \n",
       "27   안녕하세요,텔레그램 n번방에 대한 수사가 진행되고 일부의 용의자가 검거되어 다행입니...   \n",
       "28   n번방 박사라는 악마같은 인간은아동·청소년을 포함한 수십 명의 여성을 협박·강요해 ...   \n",
       "29   이번에 N번방 운영자가 검거되었습니다. 미성년자 소녀들을 대상으로 극악무도한 성범죄...   \n",
       "85   안녕하세요. 증인 윤지오입니다.우선 고인의 이름으로 불리우는 사건 자체가 피해자가 ...   \n",
       "87   故장자연씨의 수사 기간 연장 및 재수사를 청원합니다. 수사 기간을 연장해 장자연씨가...   \n",
       "144  한 유명 유튜버의 사례저는 성범죄 피해자입니다. 꼭 한번만 제 이야기를 들어주세요....   \n",
       "\n",
       "                                                  청원답변  20만 달성기간  청원 답변기간  \n",
       "26   ▲민갑룡 경찰청장:안녕하십니까. 경찰청장 민갑룡입니다.  텔레그램 n번방과 관련된 ...        30        6  \n",
       "27   ▲민갑룡 경찰청장:안녕하십니까. 경찰청장 민갑룡입니다.  텔레그램 n번방과 관련된 ...        30        4  \n",
       "28   ▲민갑룡 경찰청장:안녕하십니까. 경찰청장 민갑룡입니다.  텔레그램 n번방과 관련된 ...        30        4  \n",
       "29   ▲민갑룡 경찰청장:안녕하십니까. 경찰청장 민갑룡입니다.  텔레그램 n번방과 관련된 ...        30        4  \n",
       "85   윤지오씨 신변보호 관련 청원에 원경환 서울지방경찰청장이 답변합니다. 지난 18일 청...        30        2  \n",
       "87   故 장자연씨 사건 증인 신변보호 청원과 관련, 청원인은 사회적 불이익, 또는 신변에...        30        6  \n",
       "144  <정혜승 뉴미디어 비서관>   안녕하십니까. 뉴미디어비서관 정혜승입니다. 오늘 11...        30        4  "
      ]
     },
     "execution_count": 8,
     "metadata": {},
     "output_type": "execute_result"
    }
   ],
   "source": [
    "# 답변 기간 일주일 이내 \n",
    "petition[(petition['청원 답변기간'] == 2) | (petition['청원 답변기간'] == 4) | (petition['청원 답변기간'] == 6)]"
   ]
  },
  {
   "cell_type": "markdown",
   "metadata": {},
   "source": [
    "#### 달별 통계"
   ]
  },
  {
   "cell_type": "code",
   "execution_count": 78,
   "metadata": {},
   "outputs": [
    {
     "data": {
      "text/html": [
       "<div>\n",
       "<style scoped>\n",
       "    .dataframe tbody tr th:only-of-type {\n",
       "        vertical-align: middle;\n",
       "    }\n",
       "\n",
       "    .dataframe tbody tr th {\n",
       "        vertical-align: top;\n",
       "    }\n",
       "\n",
       "    .dataframe thead th {\n",
       "        text-align: right;\n",
       "    }\n",
       "</style>\n",
       "<table border=\"1\" class=\"dataframe\">\n",
       "  <thead>\n",
       "    <tr style=\"text-align: right;\">\n",
       "      <th></th>\n",
       "      <th>제목</th>\n",
       "      <th>청원시작일</th>\n",
       "      <th>청원종료일</th>\n",
       "      <th>참여인원</th>\n",
       "      <th>청원답변일</th>\n",
       "      <th>URL</th>\n",
       "      <th>카테고리</th>\n",
       "      <th>청원내용</th>\n",
       "      <th>청원답변</th>\n",
       "      <th>20만 달성기간</th>\n",
       "      <th>청원 답변기간</th>\n",
       "      <th>달</th>\n",
       "    </tr>\n",
       "  </thead>\n",
       "  <tbody>\n",
       "    <tr>\n",
       "      <th>0</th>\n",
       "      <td>방송통신위원회는 방송의 공적 책임 방기하고  언론이기를 포기한 채널A와 TV조선의 ...</td>\n",
       "      <td>2020-04-07</td>\n",
       "      <td>2020-05-07</td>\n",
       "      <td>273513</td>\n",
       "      <td>2020-06-05</td>\n",
       "      <td>https://www1.president.go.kr/petitions/587827</td>\n",
       "      <td>문화/예술/체육/언론</td>\n",
       "      <td>최근 MBC의 잇따른 보도에 따르면 종편 채널A 기자가 현직 검사장과의 친분을 내세...</td>\n",
       "      <td>안녕하십니까. 방송통신위원회 위원장 한상혁입니다. 오늘 답변드릴 ‘채널A와 TV조선...</td>\n",
       "      <td>30</td>\n",
       "      <td>59</td>\n",
       "      <td>4</td>\n",
       "    </tr>\n",
       "    <tr>\n",
       "      <th>1</th>\n",
       "      <td>렌트카 훔쳐 사망사고를 낸 10대 엄중 처벌해주세요</td>\n",
       "      <td>2020-04-02</td>\n",
       "      <td>2020-05-02</td>\n",
       "      <td>1007040</td>\n",
       "      <td>2020-06-02</td>\n",
       "      <td>https://www1.president.go.kr/petitions/587624</td>\n",
       "      <td>기타</td>\n",
       "      <td>29일 오전 0시 1분쯤 대전 동구의 한 네거리에서 훔친 렌터카를 몰던 10대 청소...</td>\n",
       "      <td>안녕하십니까. 디지털소통센터장 강정수입니다.   오늘은 「렌트카 훔쳐 사망사고 낸 ...</td>\n",
       "      <td>30</td>\n",
       "      <td>61</td>\n",
       "      <td>4</td>\n",
       "    </tr>\n",
       "    <tr>\n",
       "      <th>2</th>\n",
       "      <td>세월호 전면재수사</td>\n",
       "      <td>2020-04-01</td>\n",
       "      <td>2020-05-01</td>\n",
       "      <td>216118</td>\n",
       "      <td>2020-06-01</td>\n",
       "      <td>https://www1.president.go.kr/petitions/587604</td>\n",
       "      <td>기타</td>\n",
       "      <td>저는 세월호 희생자 단원고 2학년 6반 순범이 큰 누나 입니다.6주기가 3주도 안남...</td>\n",
       "      <td>안녕하십니까. 시민참여비서관 이기헌입니다.   「세월호 참사 전면 재수사」국민청원에...</td>\n",
       "      <td>30</td>\n",
       "      <td>61</td>\n",
       "      <td>4</td>\n",
       "    </tr>\n",
       "    <tr>\n",
       "      <th>3</th>\n",
       "      <td>자가격리를 어기고 제주도 4박5일 여행.미국유학생 강남구 **번 확진자 처벌해주세요</td>\n",
       "      <td>2020-03-27</td>\n",
       "      <td>2020-04-26</td>\n",
       "      <td>207563</td>\n",
       "      <td>2020-05-25</td>\n",
       "      <td>https://www1.president.go.kr/petitions/587334</td>\n",
       "      <td>행정</td>\n",
       "      <td>2주 자가격리를 어기고 제주도 4박5일 여행을 다녀온 강남구 **번 확진자와 같은 ...</td>\n",
       "      <td>안녕하십니까. 사회정책비서관 정동일입니다.   오늘은 &lt;수출용 진단키트 독도 명칭 ...</td>\n",
       "      <td>30</td>\n",
       "      <td>59</td>\n",
       "      <td>3</td>\n",
       "    </tr>\n",
       "    <tr>\n",
       "      <th>4</th>\n",
       "      <td>수출용 코로나19 진단키트 이름을 독도로 해주세요</td>\n",
       "      <td>2020-03-25</td>\n",
       "      <td>2020-04-24</td>\n",
       "      <td>385617</td>\n",
       "      <td>2020-05-25</td>\n",
       "      <td>https://www1.president.go.kr/petitions/587169</td>\n",
       "      <td>기타</td>\n",
       "      <td>지금 우리나라뿐 아니라 모든 나라가 코로나19사태로 어려움을 겪고 있습니다.우리나라...</td>\n",
       "      <td>안녕하십니까. 사회정책비서관 정동일입니다.   오늘은 &lt;수출용 진단키트 독도 명칭 ...</td>\n",
       "      <td>30</td>\n",
       "      <td>61</td>\n",
       "      <td>3</td>\n",
       "    </tr>\n",
       "  </tbody>\n",
       "</table>\n",
       "</div>"
      ],
      "text/plain": [
       "                                                  제목      청원시작일      청원종료일  \\\n",
       "0  방송통신위원회는 방송의 공적 책임 방기하고  언론이기를 포기한 채널A와 TV조선의 ... 2020-04-07 2020-05-07   \n",
       "1                       렌트카 훔쳐 사망사고를 낸 10대 엄중 처벌해주세요 2020-04-02 2020-05-02   \n",
       "2                                          세월호 전면재수사 2020-04-01 2020-05-01   \n",
       "3     자가격리를 어기고 제주도 4박5일 여행.미국유학생 강남구 **번 확진자 처벌해주세요 2020-03-27 2020-04-26   \n",
       "4                        수출용 코로나19 진단키트 이름을 독도로 해주세요 2020-03-25 2020-04-24   \n",
       "\n",
       "      참여인원      청원답변일                                            URL  \\\n",
       "0   273513 2020-06-05  https://www1.president.go.kr/petitions/587827   \n",
       "1  1007040 2020-06-02  https://www1.president.go.kr/petitions/587624   \n",
       "2   216118 2020-06-01  https://www1.president.go.kr/petitions/587604   \n",
       "3   207563 2020-05-25  https://www1.president.go.kr/petitions/587334   \n",
       "4   385617 2020-05-25  https://www1.president.go.kr/petitions/587169   \n",
       "\n",
       "          카테고리                                               청원내용  \\\n",
       "0  문화/예술/체육/언론  최근 MBC의 잇따른 보도에 따르면 종편 채널A 기자가 현직 검사장과의 친분을 내세...   \n",
       "1           기타  29일 오전 0시 1분쯤 대전 동구의 한 네거리에서 훔친 렌터카를 몰던 10대 청소...   \n",
       "2           기타  저는 세월호 희생자 단원고 2학년 6반 순범이 큰 누나 입니다.6주기가 3주도 안남...   \n",
       "3           행정  2주 자가격리를 어기고 제주도 4박5일 여행을 다녀온 강남구 **번 확진자와 같은 ...   \n",
       "4           기타  지금 우리나라뿐 아니라 모든 나라가 코로나19사태로 어려움을 겪고 있습니다.우리나라...   \n",
       "\n",
       "                                                청원답변  20만 달성기간  청원 답변기간  달  \n",
       "0  안녕하십니까. 방송통신위원회 위원장 한상혁입니다. 오늘 답변드릴 ‘채널A와 TV조선...        30       59  4  \n",
       "1  안녕하십니까. 디지털소통센터장 강정수입니다.   오늘은 「렌트카 훔쳐 사망사고 낸 ...        30       61  4  \n",
       "2  안녕하십니까. 시민참여비서관 이기헌입니다.   「세월호 참사 전면 재수사」국민청원에...        30       61  4  \n",
       "3  안녕하십니까. 사회정책비서관 정동일입니다.   오늘은 <수출용 진단키트 독도 명칭 ...        30       59  3  \n",
       "4  안녕하십니까. 사회정책비서관 정동일입니다.   오늘은 <수출용 진단키트 독도 명칭 ...        30       61  3  "
      ]
     },
     "execution_count": 78,
     "metadata": {},
     "output_type": "execute_result"
    }
   ],
   "source": [
    "petition['달'] = petition['청원시작일'].dt.month\n",
    "petition.head()"
   ]
  },
  {
   "cell_type": "code",
   "execution_count": 31,
   "metadata": {},
   "outputs": [
    {
     "data": {
      "text/plain": [
       "달\n",
       "1     14\n",
       "2     23\n",
       "3     31\n",
       "4     18\n",
       "5     12\n",
       "6     10\n",
       "7      9\n",
       "8      7\n",
       "9      7\n",
       "10    22\n",
       "11    13\n",
       "12     8\n",
       "Name: 제목, dtype: int64"
      ]
     },
     "execution_count": 31,
     "metadata": {},
     "output_type": "execute_result"
    }
   ],
   "source": [
    "petition_month = petition.groupby('달')['제목'].count()\n",
    "petition_month"
   ]
  },
  {
   "cell_type": "code",
   "execution_count": 32,
   "metadata": {},
   "outputs": [],
   "source": [
    "petition_month = petition_month.reset_index()"
   ]
  },
  {
   "cell_type": "code",
   "execution_count": 33,
   "metadata": {},
   "outputs": [
    {
     "data": {
      "text/plain": [
       "14.5"
      ]
     },
     "execution_count": 33,
     "metadata": {},
     "output_type": "execute_result"
    }
   ],
   "source": [
    "# 월별 평균 청원수가 14.5\n",
    "petition_month['제목'].mean()"
   ]
  },
  {
   "cell_type": "code",
   "execution_count": 34,
   "metadata": {},
   "outputs": [
    {
     "data": {
      "text/plain": [
       "Text(0, 0.5, '청원수')"
      ]
     },
     "execution_count": 34,
     "metadata": {},
     "output_type": "execute_result"
    },
    {
     "data": {
      "image/png": "[encoded data removed]",
      "text/plain": [
       "<Figure size 864x720 with 1 Axes>"
      ]
     },
     "metadata": {
      "needs_background": "light"
     },
     "output_type": "display_data"
    }
   ],
   "source": [
    "plt.figure(figsize=(12,10))\n",
    "# plt.xticks(rotation = 45 )\n",
    "# order = petition_cate.sort_values('참여인원', ascending=False).index\n",
    "ax = sns.barplot(\"달\", y='제목', data=petition_month, palette=\"coolwarm\")\n",
    "ax.set_ylabel('청원수')"
   ]
  },
  {
   "cell_type": "markdown",
   "metadata": {},
   "source": [
    "이게 의미있는 데이터인지는 확인해보자. 우리의 목적에 맞는!"
   ]
  },
  {
   "cell_type": "code",
   "execution_count": null,
   "metadata": {},
   "outputs": [],
   "source": []
  },
  {
   "cell_type": "code",
   "execution_count": 79,
   "metadata": {},
   "outputs": [
    {
     "data": {
      "text/html": [
       "<div>\n",
       "<style scoped>\n",
       "    .dataframe tbody tr th:only-of-type {\n",
       "        vertical-align: middle;\n",
       "    }\n",
       "\n",
       "    .dataframe tbody tr th {\n",
       "        vertical-align: top;\n",
       "    }\n",
       "\n",
       "    .dataframe thead th {\n",
       "        text-align: right;\n",
       "    }\n",
       "</style>\n",
       "<table border=\"1\" class=\"dataframe\">\n",
       "  <thead>\n",
       "    <tr style=\"text-align: right;\">\n",
       "      <th></th>\n",
       "      <th>제목</th>\n",
       "      <th>카테고리</th>\n",
       "      <th>청원 답변기간</th>\n",
       "      <th>참여인원</th>\n",
       "      <th>청원내용</th>\n",
       "      <th>청원답변</th>\n",
       "      <th>URL</th>\n",
       "    </tr>\n",
       "  </thead>\n",
       "  <tbody>\n",
       "    <tr>\n",
       "      <th>0</th>\n",
       "      <td>방송통신위원회는 방송의 공적 책임 방기하고  언론이기를 포기한 채널A와 TV조선의 ...</td>\n",
       "      <td>문화/예술/체육/언론</td>\n",
       "      <td>59</td>\n",
       "      <td>273513</td>\n",
       "      <td>최근 MBC의 잇따른 보도에 따르면 종편 채널A 기자가 현직 검사장과의 친분을 내세...</td>\n",
       "      <td>안녕하십니까. 방송통신위원회 위원장 한상혁입니다. 오늘 답변드릴 ‘채널A와 TV조선...</td>\n",
       "      <td>https://www1.president.go.kr/petitions/587827</td>\n",
       "    </tr>\n",
       "    <tr>\n",
       "      <th>1</th>\n",
       "      <td>렌트카 훔쳐 사망사고를 낸 10대 엄중 처벌해주세요</td>\n",
       "      <td>기타</td>\n",
       "      <td>61</td>\n",
       "      <td>1007040</td>\n",
       "      <td>29일 오전 0시 1분쯤 대전 동구의 한 네거리에서 훔친 렌터카를 몰던 10대 청소...</td>\n",
       "      <td>안녕하십니까. 디지털소통센터장 강정수입니다.   오늘은 「렌트카 훔쳐 사망사고 낸 ...</td>\n",
       "      <td>https://www1.president.go.kr/petitions/587624</td>\n",
       "    </tr>\n",
       "    <tr>\n",
       "      <th>2</th>\n",
       "      <td>세월호 전면재수사</td>\n",
       "      <td>기타</td>\n",
       "      <td>61</td>\n",
       "      <td>216118</td>\n",
       "      <td>저는 세월호 희생자 단원고 2학년 6반 순범이 큰 누나 입니다.6주기가 3주도 안남...</td>\n",
       "      <td>안녕하십니까. 시민참여비서관 이기헌입니다.   「세월호 참사 전면 재수사」국민청원에...</td>\n",
       "      <td>https://www1.president.go.kr/petitions/587604</td>\n",
       "    </tr>\n",
       "    <tr>\n",
       "      <th>3</th>\n",
       "      <td>자가격리를 어기고 제주도 4박5일 여행.미국유학생 강남구 **번 확진자 처벌해주세요</td>\n",
       "      <td>행정</td>\n",
       "      <td>59</td>\n",
       "      <td>207563</td>\n",
       "      <td>2주 자가격리를 어기고 제주도 4박5일 여행을 다녀온 강남구 **번 확진자와 같은 ...</td>\n",
       "      <td>안녕하십니까. 사회정책비서관 정동일입니다.   오늘은 &lt;수출용 진단키트 독도 명칭 ...</td>\n",
       "      <td>https://www1.president.go.kr/petitions/587334</td>\n",
       "    </tr>\n",
       "    <tr>\n",
       "      <th>4</th>\n",
       "      <td>수출용 코로나19 진단키트 이름을 독도로 해주세요</td>\n",
       "      <td>기타</td>\n",
       "      <td>61</td>\n",
       "      <td>385617</td>\n",
       "      <td>지금 우리나라뿐 아니라 모든 나라가 코로나19사태로 어려움을 겪고 있습니다.우리나라...</td>\n",
       "      <td>안녕하십니까. 사회정책비서관 정동일입니다.   오늘은 &lt;수출용 진단키트 독도 명칭 ...</td>\n",
       "      <td>https://www1.president.go.kr/petitions/587169</td>\n",
       "    </tr>\n",
       "  </tbody>\n",
       "</table>\n",
       "</div>"
      ],
      "text/plain": [
       "                                                  제목         카테고리  청원 답변기간  \\\n",
       "0  방송통신위원회는 방송의 공적 책임 방기하고  언론이기를 포기한 채널A와 TV조선의 ...  문화/예술/체육/언론       59   \n",
       "1                       렌트카 훔쳐 사망사고를 낸 10대 엄중 처벌해주세요           기타       61   \n",
       "2                                          세월호 전면재수사           기타       61   \n",
       "3     자가격리를 어기고 제주도 4박5일 여행.미국유학생 강남구 **번 확진자 처벌해주세요           행정       59   \n",
       "4                        수출용 코로나19 진단키트 이름을 독도로 해주세요           기타       61   \n",
       "\n",
       "      참여인원                                               청원내용  \\\n",
       "0   273513  최근 MBC의 잇따른 보도에 따르면 종편 채널A 기자가 현직 검사장과의 친분을 내세...   \n",
       "1  1007040  29일 오전 0시 1분쯤 대전 동구의 한 네거리에서 훔친 렌터카를 몰던 10대 청소...   \n",
       "2   216118  저는 세월호 희생자 단원고 2학년 6반 순범이 큰 누나 입니다.6주기가 3주도 안남...   \n",
       "3   207563  2주 자가격리를 어기고 제주도 4박5일 여행을 다녀온 강남구 **번 확진자와 같은 ...   \n",
       "4   385617  지금 우리나라뿐 아니라 모든 나라가 코로나19사태로 어려움을 겪고 있습니다.우리나라...   \n",
       "\n",
       "                                                청원답변  \\\n",
       "0  안녕하십니까. 방송통신위원회 위원장 한상혁입니다. 오늘 답변드릴 ‘채널A와 TV조선...   \n",
       "1  안녕하십니까. 디지털소통센터장 강정수입니다.   오늘은 「렌트카 훔쳐 사망사고 낸 ...   \n",
       "2  안녕하십니까. 시민참여비서관 이기헌입니다.   「세월호 참사 전면 재수사」국민청원에...   \n",
       "3  안녕하십니까. 사회정책비서관 정동일입니다.   오늘은 <수출용 진단키트 독도 명칭 ...   \n",
       "4  안녕하십니까. 사회정책비서관 정동일입니다.   오늘은 <수출용 진단키트 독도 명칭 ...   \n",
       "\n",
       "                                             URL  \n",
       "0  https://www1.president.go.kr/petitions/587827  \n",
       "1  https://www1.president.go.kr/petitions/587624  \n",
       "2  https://www1.president.go.kr/petitions/587604  \n",
       "3  https://www1.president.go.kr/petitions/587334  \n",
       "4  https://www1.president.go.kr/petitions/587169  "
      ]
     },
     "execution_count": 79,
     "metadata": {},
     "output_type": "execute_result"
    }
   ],
   "source": [
    "columns = ['제목','카테고리','청원 답변기간','참여인원','청원내용','청원답변','URL']\n",
    "petition = petition[columns]\n",
    "petition.head()"
   ]
  },
  {
   "cell_type": "code",
   "execution_count": 36,
   "metadata": {},
   "outputs": [
    {
     "data": {
      "text/plain": [
       "(174, 7)"
      ]
     },
     "execution_count": 36,
     "metadata": {},
     "output_type": "execute_result"
    }
   ],
   "source": [
    "petition.shape"
   ]
  },
  {
   "cell_type": "code",
   "execution_count": 16,
   "metadata": {},
   "outputs": [
    {
     "name": "stdout",
     "output_type": "stream",
     "text": [
      "<class 'pandas.core.frame.DataFrame'>\n",
      "Int64Index: 174 entries, 0 to 173\n",
      "Data columns (total 7 columns):\n",
      "제목         174 non-null object\n",
      "카테고리       174 non-null object\n",
      "청원 답변기간    174 non-null int64\n",
      "참여인원       174 non-null int64\n",
      "청원내용       174 non-null object\n",
      "청원답변       171 non-null object\n",
      "URL        174 non-null object\n",
      "dtypes: int64(2), object(5)\n",
      "memory usage: 10.9+ KB\n"
     ]
    }
   ],
   "source": [
    "petition.info()"
   ]
  },
  {
   "cell_type": "markdown",
   "metadata": {},
   "source": []
  },
  {
   "cell_type": "markdown",
   "metadata": {},
   "source": [
    "#### TOP 10 청원"
   ]
  },
  {
   "cell_type": "code",
   "execution_count": 80,
   "metadata": {},
   "outputs": [
    {
     "data": {
      "text/html": [
       "<div>\n",
       "<style scoped>\n",
       "    .dataframe tbody tr th:only-of-type {\n",
       "        vertical-align: middle;\n",
       "    }\n",
       "\n",
       "    .dataframe tbody tr th {\n",
       "        vertical-align: top;\n",
       "    }\n",
       "\n",
       "    .dataframe thead th {\n",
       "        text-align: right;\n",
       "    }\n",
       "</style>\n",
       "<table border=\"1\" class=\"dataframe\">\n",
       "  <thead>\n",
       "    <tr style=\"text-align: right;\">\n",
       "      <th></th>\n",
       "      <th>제목</th>\n",
       "      <th>카테고리</th>\n",
       "      <th>청원 답변기간</th>\n",
       "      <th>참여인원</th>\n",
       "      <th>청원내용</th>\n",
       "      <th>청원답변</th>\n",
       "      <th>URL</th>\n",
       "    </tr>\n",
       "  </thead>\n",
       "  <tbody>\n",
       "    <tr>\n",
       "      <th>26</th>\n",
       "      <td>텔레그램 n번방 용의자 신상공개 및 포토라인 세워주세요</td>\n",
       "      <td>안전/환경</td>\n",
       "      <td>6</td>\n",
       "      <td>2715626</td>\n",
       "      <td>오늘 검거되었다고 합니다타인의 수치심과 어린 학생들을지옥으로 몰아넣은 가해자를포토라...</td>\n",
       "      <td>▲민갑룡 경찰청장:안녕하십니까. 경찰청장 민갑룡입니다.  텔레그램 n번방과 관련된 ...</td>\n",
       "      <td>https://www1.president.go.kr/petitions/586819</td>\n",
       "    </tr>\n",
       "    <tr>\n",
       "      <th>27</th>\n",
       "      <td>텔레그램 n번방 가입자 전원의 신상공개를 원합니다</td>\n",
       "      <td>안전/환경</td>\n",
       "      <td>4</td>\n",
       "      <td>2026252</td>\n",
       "      <td>안녕하세요,텔레그램 n번방에 대한 수사가 진행되고 일부의 용의자가 검거되어 다행입니...</td>\n",
       "      <td>▲민갑룡 경찰청장:안녕하십니까. 경찰청장 민갑룡입니다.  텔레그램 n번방과 관련된 ...</td>\n",
       "      <td>https://www1.president.go.kr/petitions/586880</td>\n",
       "    </tr>\n",
       "    <tr>\n",
       "      <th>73</th>\n",
       "      <td>자유 한국당 정당해산 청원</td>\n",
       "      <td>정치개혁</td>\n",
       "      <td>50</td>\n",
       "      <td>1831900</td>\n",
       "      <td>민주당과 정부에 간곡히 청원합니다 자유한국당은 국민의 막대한 세비를 받는 국회의원으...</td>\n",
       "      <td>안녕하십니까. 청와대 정무수석 강기정입니다.   오늘은 청와대 국민청원 답변을 위해...</td>\n",
       "      <td>https://www1.president.go.kr/petitions/579682</td>\n",
       "    </tr>\n",
       "    <tr>\n",
       "      <th>21</th>\n",
       "      <td>문재인 대통령님을 응원 합니다!</td>\n",
       "      <td>기타</td>\n",
       "      <td>58</td>\n",
       "      <td>1504597</td>\n",
       "      <td>코로나 바이러스19로 인해 대한민국 모든 국민이 힘든 시기에 있습니다. 하지만 국민...</td>\n",
       "      <td>안녕하십니까. 디지털소통센터장 강정수입니다.   오늘은 코로나19 대처와 관련해 &lt;...</td>\n",
       "      <td>https://www1.president.go.kr/petitions/585683</td>\n",
       "    </tr>\n",
       "    <tr>\n",
       "      <th>20</th>\n",
       "      <td>문재인 대통령 탄핵을 촉구합니다.</td>\n",
       "      <td>정치개혁</td>\n",
       "      <td>80</td>\n",
       "      <td>1469023</td>\n",
       "      <td>국민의 한 사람으로서 문재인 대통령의 탄핵을 촉구합니다. 이번 우한 폐렴(신종 코로...</td>\n",
       "      <td>안녕하십니까. 디지털소통센터장 강정수입니다.   오늘은 코로나19 대처와 관련해 &lt;...</td>\n",
       "      <td>https://www1.president.go.kr/petitions/584936</td>\n",
       "    </tr>\n",
       "    <tr>\n",
       "      <th>24</th>\n",
       "      <td>신천지 예수교 증거장막성전(이하, 신천지)의 강제 해체(해산)을 청원합니다.</td>\n",
       "      <td>인권/성평등</td>\n",
       "      <td>59</td>\n",
       "      <td>1449521</td>\n",
       "      <td>신천지 예수교 증거장막성전(이하, 신천지)의 강제 해체(해산)을 청원합니다.“MBC...</td>\n",
       "      <td>안녕하십니까. 사회정책비서관 정동일입니다.   ｢신천지 강제 해산 청원｣ 및 「신천...</td>\n",
       "      <td>https://www1.president.go.kr/petitions/585290</td>\n",
       "    </tr>\n",
       "    <tr>\n",
       "      <th>116</th>\n",
       "      <td>강서구 피시방 살인 사건. 또 심신미약 피의자입니다.</td>\n",
       "      <td>안전/환경</td>\n",
       "      <td>55</td>\n",
       "      <td>1192049</td>\n",
       "      <td>2018년 10월 14일 엊그제 일어난 강서구 피시방 살인사건에 대한 청원입니다. ...</td>\n",
       "      <td>&lt;정혜승 디지털소통센터장&gt;   안녕하세요. 디지털소통센터 센터장 정혜승 입니다. 오...</td>\n",
       "      <td>https://www1.president.go.kr/petitions/408609</td>\n",
       "    </tr>\n",
       "    <tr>\n",
       "      <th>1</th>\n",
       "      <td>렌트카 훔쳐 사망사고를 낸 10대 엄중 처벌해주세요</td>\n",
       "      <td>기타</td>\n",
       "      <td>61</td>\n",
       "      <td>1007040</td>\n",
       "      <td>29일 오전 0시 1분쯤 대전 동구의 한 네거리에서 훔친 렌터카를 몰던 10대 청소...</td>\n",
       "      <td>안녕하십니까. 디지털소통센터장 강정수입니다.   오늘은 「렌트카 훔쳐 사망사고 낸 ...</td>\n",
       "      <td>https://www1.president.go.kr/petitions/587624</td>\n",
       "    </tr>\n",
       "    <tr>\n",
       "      <th>31</th>\n",
       "      <td>중국인 입국 금지 요청</td>\n",
       "      <td>보건복지</td>\n",
       "      <td>57</td>\n",
       "      <td>761833</td>\n",
       "      <td>중국발 코로나 바이러스가 확산되고 있습니다.북한 마저도 중국인 입국을 금지하는데 춘...</td>\n",
       "      <td>안녕하세요. 디지털소통센터장 강정수입니다.  오늘은 ‘중국인 입국금지’ 청원에 대해...</td>\n",
       "      <td>https://www1.president.go.kr/petitions/584593</td>\n",
       "    </tr>\n",
       "    <tr>\n",
       "      <th>56</th>\n",
       "      <td>청와대는 조국 법무부장관 후보자의 임명을 반드시 해주십시오!!</td>\n",
       "      <td>정치개혁</td>\n",
       "      <td>50</td>\n",
       "      <td>757730</td>\n",
       "      <td>조국은  국민이  지킵니다 !!   청와대는  조국 법무부 장관 후보자의 임명을 반...</td>\n",
       "      <td>안녕하세요. 청와대 디지털소통센터장 강정수입니다.  오늘은 ‘조국 법무부장관 후보자...</td>\n",
       "      <td>https://www1.president.go.kr/petitions/582190</td>\n",
       "    </tr>\n",
       "  </tbody>\n",
       "</table>\n",
       "</div>"
      ],
      "text/plain": [
       "                                             제목    카테고리  청원 답변기간     참여인원  \\\n",
       "26               텔레그램 n번방 용의자 신상공개 및 포토라인 세워주세요   안전/환경        6  2715626   \n",
       "27                  텔레그램 n번방 가입자 전원의 신상공개를 원합니다   안전/환경        4  2026252   \n",
       "73                               자유 한국당 정당해산 청원    정치개혁       50  1831900   \n",
       "21                            문재인 대통령님을 응원 합니다!      기타       58  1504597   \n",
       "20                           문재인 대통령 탄핵을 촉구합니다.    정치개혁       80  1469023   \n",
       "24   신천지 예수교 증거장막성전(이하, 신천지)의 강제 해체(해산)을 청원합니다.  인권/성평등       59  1449521   \n",
       "116               강서구 피시방 살인 사건. 또 심신미약 피의자입니다.   안전/환경       55  1192049   \n",
       "1                  렌트카 훔쳐 사망사고를 낸 10대 엄중 처벌해주세요      기타       61  1007040   \n",
       "31                                 중국인 입국 금지 요청    보건복지       57   761833   \n",
       "56           청와대는 조국 법무부장관 후보자의 임명을 반드시 해주십시오!!    정치개혁       50   757730   \n",
       "\n",
       "                                                  청원내용  \\\n",
       "26   오늘 검거되었다고 합니다타인의 수치심과 어린 학생들을지옥으로 몰아넣은 가해자를포토라...   \n",
       "27   안녕하세요,텔레그램 n번방에 대한 수사가 진행되고 일부의 용의자가 검거되어 다행입니...   \n",
       "73   민주당과 정부에 간곡히 청원합니다 자유한국당은 국민의 막대한 세비를 받는 국회의원으...   \n",
       "21   코로나 바이러스19로 인해 대한민국 모든 국민이 힘든 시기에 있습니다. 하지만 국민...   \n",
       "20   국민의 한 사람으로서 문재인 대통령의 탄핵을 촉구합니다. 이번 우한 폐렴(신종 코로...   \n",
       "24   신천지 예수교 증거장막성전(이하, 신천지)의 강제 해체(해산)을 청원합니다.“MBC...   \n",
       "116  2018년 10월 14일 엊그제 일어난 강서구 피시방 살인사건에 대한 청원입니다. ...   \n",
       "1    29일 오전 0시 1분쯤 대전 동구의 한 네거리에서 훔친 렌터카를 몰던 10대 청소...   \n",
       "31   중국발 코로나 바이러스가 확산되고 있습니다.북한 마저도 중국인 입국을 금지하는데 춘...   \n",
       "56   조국은  국민이  지킵니다 !!   청와대는  조국 법무부 장관 후보자의 임명을 반...   \n",
       "\n",
       "                                                  청원답변  \\\n",
       "26   ▲민갑룡 경찰청장:안녕하십니까. 경찰청장 민갑룡입니다.  텔레그램 n번방과 관련된 ...   \n",
       "27   ▲민갑룡 경찰청장:안녕하십니까. 경찰청장 민갑룡입니다.  텔레그램 n번방과 관련된 ...   \n",
       "73   안녕하십니까. 청와대 정무수석 강기정입니다.   오늘은 청와대 국민청원 답변을 위해...   \n",
       "21   안녕하십니까. 디지털소통센터장 강정수입니다.   오늘은 코로나19 대처와 관련해 <...   \n",
       "20   안녕하십니까. 디지털소통센터장 강정수입니다.   오늘은 코로나19 대처와 관련해 <...   \n",
       "24   안녕하십니까. 사회정책비서관 정동일입니다.   ｢신천지 강제 해산 청원｣ 및 「신천...   \n",
       "116  <정혜승 디지털소통센터장>   안녕하세요. 디지털소통센터 센터장 정혜승 입니다. 오...   \n",
       "1    안녕하십니까. 디지털소통센터장 강정수입니다.   오늘은 「렌트카 훔쳐 사망사고 낸 ...   \n",
       "31   안녕하세요. 디지털소통센터장 강정수입니다.  오늘은 ‘중국인 입국금지’ 청원에 대해...   \n",
       "56   안녕하세요. 청와대 디지털소통센터장 강정수입니다.  오늘은 ‘조국 법무부장관 후보자...   \n",
       "\n",
       "                                               URL  \n",
       "26   https://www1.president.go.kr/petitions/586819  \n",
       "27   https://www1.president.go.kr/petitions/586880  \n",
       "73   https://www1.president.go.kr/petitions/579682  \n",
       "21   https://www1.president.go.kr/petitions/585683  \n",
       "20   https://www1.president.go.kr/petitions/584936  \n",
       "24   https://www1.president.go.kr/petitions/585290  \n",
       "116  https://www1.president.go.kr/petitions/408609  \n",
       "1    https://www1.president.go.kr/petitions/587624  \n",
       "31   https://www1.president.go.kr/petitions/584593  \n",
       "56   https://www1.president.go.kr/petitions/582190  "
      ]
     },
     "execution_count": 80,
     "metadata": {},
     "output_type": "execute_result"
    }
   ],
   "source": [
    "petition.sort_values(by='참여인원', ascending=False).head(10)"
   ]
  },
  {
   "cell_type": "code",
   "execution_count": 90,
   "metadata": {},
   "outputs": [
    {
     "data": {
      "text/html": [
       "<div>\n",
       "<style scoped>\n",
       "    .dataframe tbody tr th:only-of-type {\n",
       "        vertical-align: middle;\n",
       "    }\n",
       "\n",
       "    .dataframe tbody tr th {\n",
       "        vertical-align: top;\n",
       "    }\n",
       "\n",
       "    .dataframe thead th {\n",
       "        text-align: right;\n",
       "    }\n",
       "</style>\n",
       "<table border=\"1\" class=\"dataframe\">\n",
       "  <thead>\n",
       "    <tr style=\"text-align: right;\">\n",
       "      <th></th>\n",
       "      <th>제목</th>\n",
       "      <th>카테고리</th>\n",
       "      <th>청원 답변기간</th>\n",
       "      <th>참여인원</th>\n",
       "      <th>청원내용</th>\n",
       "      <th>청원답변</th>\n",
       "      <th>URL</th>\n",
       "    </tr>\n",
       "  </thead>\n",
       "  <tbody>\n",
       "    <tr>\n",
       "      <th>102</th>\n",
       "      <td>국회의원 연봉인상을 반대합니다.</td>\n",
       "      <td>정치개혁</td>\n",
       "      <td>31</td>\n",
       "      <td>81590</td>\n",
       "      <td>현재 우리나라의 의원 연은  1인당 GDP 대비 5배 수준으로 OECD국가들 중에서...</td>\n",
       "      <td>&lt;정혜승 디지털소통센터장&gt;   안녕하세요. 디지털소통센터장 정혜승입니다. 새해 첫 ...</td>\n",
       "      <td>https://www1.president.go.kr/petitions/462618</td>\n",
       "    </tr>\n",
       "    <tr>\n",
       "      <th>113</th>\n",
       "      <td>포항 약국 칼부림 사건의 가해 남성을 제대로 처벌하라.</td>\n",
       "      <td>인권/성평등</td>\n",
       "      <td>23</td>\n",
       "      <td>142715</td>\n",
       "      <td>지난 6월 정신지체장애 남성(46세 정**)이 약국에 들어와 무고한 약사와 직원을 ...</td>\n",
       "      <td>&lt;정혜승 디지털소통센터장&gt;   안녕하세요. 디지털소통센터 센터장 정혜승 입니다. 오...</td>\n",
       "      <td>https://www1.president.go.kr/petitions/445550</td>\n",
       "    </tr>\n",
       "  </tbody>\n",
       "</table>\n",
       "</div>"
      ],
      "text/plain": [
       "                                 제목    카테고리  청원 답변기간    참여인원  \\\n",
       "102               국회의원 연봉인상을 반대합니다.    정치개혁       31   81590   \n",
       "113  포항 약국 칼부림 사건의 가해 남성을 제대로 처벌하라.  인권/성평등       23  142715   \n",
       "\n",
       "                                                  청원내용  \\\n",
       "102  현재 우리나라의 의원 연은  1인당 GDP 대비 5배 수준으로 OECD국가들 중에서...   \n",
       "113  지난 6월 정신지체장애 남성(46세 정**)이 약국에 들어와 무고한 약사와 직원을 ...   \n",
       "\n",
       "                                                  청원답변  \\\n",
       "102  <정혜승 디지털소통센터장>   안녕하세요. 디지털소통센터장 정혜승입니다. 새해 첫 ...   \n",
       "113  <정혜승 디지털소통센터장>   안녕하세요. 디지털소통센터 센터장 정혜승 입니다. 오...   \n",
       "\n",
       "                                               URL  \n",
       "102  https://www1.president.go.kr/petitions/462618  \n",
       "113  https://www1.president.go.kr/petitions/445550  "
      ]
     },
     "execution_count": 90,
     "metadata": {},
     "output_type": "execute_result"
    }
   ],
   "source": [
    "# 20만 이하인데도 청와대 답변함 - 같이 묶어서 답해줌 - 삭제\n",
    "petition[petition['참여인원'] < 200000]"
   ]
  },
  {
   "cell_type": "code",
   "execution_count": 91,
   "metadata": {},
   "outputs": [
    {
     "data": {
      "text/plain": [
       "(174, 7)"
      ]
     },
     "execution_count": 91,
     "metadata": {},
     "output_type": "execute_result"
    }
   ],
   "source": [
    "petition.shape"
   ]
  },
  {
   "cell_type": "code",
   "execution_count": 92,
   "metadata": {},
   "outputs": [],
   "source": [
    "petition = petition.drop([102,113])"
   ]
  },
  {
   "cell_type": "code",
   "execution_count": 93,
   "metadata": {},
   "outputs": [
    {
     "data": {
      "text/plain": [
       "(172, 7)"
      ]
     },
     "execution_count": 93,
     "metadata": {},
     "output_type": "execute_result"
    }
   ],
   "source": [
    "petition.shape"
   ]
  },
  {
   "cell_type": "markdown",
   "metadata": {},
   "source": [
    "### 이상치 데이터 처리"
   ]
  },
  {
   "cell_type": "code",
   "execution_count": 94,
   "metadata": {},
   "outputs": [
    {
     "data": {
      "text/plain": [
       "350384.2848837209"
      ]
     },
     "execution_count": 94,
     "metadata": {},
     "output_type": "execute_result"
    }
   ],
   "source": [
    "petition['참여인원'].mean()"
   ]
  },
  {
   "cell_type": "code",
   "execution_count": 95,
   "metadata": {},
   "outputs": [
    {
     "data": {
      "text/plain": [
       "<matplotlib.axes._subplots.AxesSubplot at 0x120e36b50>"
      ]
     },
     "execution_count": 95,
     "metadata": {},
     "output_type": "execute_result"
    },
    {
     "data": {
      "image/png": "[encoded data removed]",
      "text/plain": [
       "<Figure size 432x288 with 1 Axes>"
      ]
     },
     "metadata": {
      "needs_background": "light"
     },
     "output_type": "display_data"
    }
   ],
   "source": [
    "sns.boxplot(y=\"참여인원\", data=petition, palette=\"Paired\")"
   ]
  },
  {
   "cell_type": "code",
   "execution_count": 96,
   "metadata": {},
   "outputs": [
    {
     "data": {
      "text/plain": [
       "count    1.720000e+02\n",
       "mean     3.503843e+05\n",
       "std      3.270817e+05\n",
       "min      2.013200e+05\n",
       "25%      2.155310e+05\n",
       "50%      2.433125e+05\n",
       "75%      3.462825e+05\n",
       "max      2.715626e+06\n",
       "Name: 참여인원, dtype: float64"
      ]
     },
     "execution_count": 96,
     "metadata": {},
     "output_type": "execute_result"
    }
   ],
   "source": [
    "petition['참여인원'].describe()"
   ]
  },
  {
   "cell_type": "code",
   "execution_count": 98,
   "metadata": {},
   "outputs": [
    {
     "data": {
      "text/html": [
       "<div>\n",
       "<style scoped>\n",
       "    .dataframe tbody tr th:only-of-type {\n",
       "        vertical-align: middle;\n",
       "    }\n",
       "\n",
       "    .dataframe tbody tr th {\n",
       "        vertical-align: top;\n",
       "    }\n",
       "\n",
       "    .dataframe thead th {\n",
       "        text-align: right;\n",
       "    }\n",
       "</style>\n",
       "<table border=\"1\" class=\"dataframe\">\n",
       "  <thead>\n",
       "    <tr style=\"text-align: right;\">\n",
       "      <th></th>\n",
       "      <th>제목</th>\n",
       "      <th>카테고리</th>\n",
       "      <th>청원 답변기간</th>\n",
       "      <th>참여인원</th>\n",
       "      <th>청원내용</th>\n",
       "      <th>청원답변</th>\n",
       "      <th>URL</th>\n",
       "    </tr>\n",
       "  </thead>\n",
       "  <tbody>\n",
       "    <tr>\n",
       "      <th>26</th>\n",
       "      <td>텔레그램 n번방 용의자 신상공개 및 포토라인 세워주세요</td>\n",
       "      <td>안전/환경</td>\n",
       "      <td>6</td>\n",
       "      <td>2715626</td>\n",
       "      <td>오늘 검거되었다고 합니다타인의 수치심과 어린 학생들을지옥으로 몰아넣은 가해자를포토라...</td>\n",
       "      <td>▲민갑룡 경찰청장:안녕하십니까. 경찰청장 민갑룡입니다.  텔레그램 n번방과 관련된 ...</td>\n",
       "      <td>https://www1.president.go.kr/petitions/586819</td>\n",
       "    </tr>\n",
       "    <tr>\n",
       "      <th>27</th>\n",
       "      <td>텔레그램 n번방 가입자 전원의 신상공개를 원합니다</td>\n",
       "      <td>안전/환경</td>\n",
       "      <td>4</td>\n",
       "      <td>2026252</td>\n",
       "      <td>안녕하세요,텔레그램 n번방에 대한 수사가 진행되고 일부의 용의자가 검거되어 다행입니...</td>\n",
       "      <td>▲민갑룡 경찰청장:안녕하십니까. 경찰청장 민갑룡입니다.  텔레그램 n번방과 관련된 ...</td>\n",
       "      <td>https://www1.president.go.kr/petitions/586880</td>\n",
       "    </tr>\n",
       "    <tr>\n",
       "      <th>73</th>\n",
       "      <td>자유 한국당 정당해산 청원</td>\n",
       "      <td>정치개혁</td>\n",
       "      <td>50</td>\n",
       "      <td>1831900</td>\n",
       "      <td>민주당과 정부에 간곡히 청원합니다 자유한국당은 국민의 막대한 세비를 받는 국회의원으...</td>\n",
       "      <td>안녕하십니까. 청와대 정무수석 강기정입니다.   오늘은 청와대 국민청원 답변을 위해...</td>\n",
       "      <td>https://www1.president.go.kr/petitions/579682</td>\n",
       "    </tr>\n",
       "  </tbody>\n",
       "</table>\n",
       "</div>"
      ],
      "text/plain": [
       "                                제목   카테고리  청원 답변기간     참여인원  \\\n",
       "26  텔레그램 n번방 용의자 신상공개 및 포토라인 세워주세요  안전/환경        6  2715626   \n",
       "27     텔레그램 n번방 가입자 전원의 신상공개를 원합니다  안전/환경        4  2026252   \n",
       "73                  자유 한국당 정당해산 청원   정치개혁       50  1831900   \n",
       "\n",
       "                                                 청원내용  \\\n",
       "26  오늘 검거되었다고 합니다타인의 수치심과 어린 학생들을지옥으로 몰아넣은 가해자를포토라...   \n",
       "27  안녕하세요,텔레그램 n번방에 대한 수사가 진행되고 일부의 용의자가 검거되어 다행입니...   \n",
       "73  민주당과 정부에 간곡히 청원합니다 자유한국당은 국민의 막대한 세비를 받는 국회의원으...   \n",
       "\n",
       "                                                 청원답변  \\\n",
       "26  ▲민갑룡 경찰청장:안녕하십니까. 경찰청장 민갑룡입니다.  텔레그램 n번방과 관련된 ...   \n",
       "27  ▲민갑룡 경찰청장:안녕하십니까. 경찰청장 민갑룡입니다.  텔레그램 n번방과 관련된 ...   \n",
       "73  안녕하십니까. 청와대 정무수석 강기정입니다.   오늘은 청와대 국민청원 답변을 위해...   \n",
       "\n",
       "                                              URL  \n",
       "26  https://www1.president.go.kr/petitions/586819  \n",
       "27  https://www1.president.go.kr/petitions/586880  \n",
       "73  https://www1.president.go.kr/petitions/579682  "
      ]
     },
     "execution_count": 98,
     "metadata": {},
     "output_type": "execute_result"
    }
   ],
   "source": [
    "# 200만 이상의 청원은 이상치 처리 \n",
    "petition[petition['참여인원'] > 1800000]"
   ]
  },
  {
   "cell_type": "code",
   "execution_count": 99,
   "metadata": {},
   "outputs": [
    {
     "data": {
      "text/plain": [
       "(172, 7)"
      ]
     },
     "execution_count": 99,
     "metadata": {},
     "output_type": "execute_result"
    }
   ],
   "source": [
    "petition.shape"
   ]
  },
  {
   "cell_type": "code",
   "execution_count": 100,
   "metadata": {},
   "outputs": [],
   "source": [
    "petition = petition.drop([26,27,73])"
   ]
  },
  {
   "cell_type": "code",
   "execution_count": 101,
   "metadata": {},
   "outputs": [
    {
     "data": {
      "text/plain": [
       "(169, 7)"
      ]
     },
     "execution_count": 101,
     "metadata": {},
     "output_type": "execute_result"
    }
   ],
   "source": [
    "petition.shape"
   ]
  },
  {
   "cell_type": "markdown",
   "metadata": {},
   "source": [
    "#### 카테고리별 시각화"
   ]
  },
  {
   "cell_type": "code",
   "execution_count": 102,
   "metadata": {},
   "outputs": [
    {
     "data": {
      "text/plain": [
       "인권/성평등         45\n",
       "기타             23\n",
       "정치개혁           22\n",
       "안전/환경          20\n",
       "문화/예술/체육/언론    15\n",
       "육아/교육          10\n",
       "반려동물            8\n",
       "보건복지            6\n",
       "외교/통일/국방        5\n",
       "교통/건축/국토        5\n",
       "행정              3\n",
       "성장동력            2\n",
       "경제민주화           2\n",
       "미래              2\n",
       "일자리             1\n",
       "Name: 카테고리, dtype: int64"
      ]
     },
     "execution_count": 102,
     "metadata": {},
     "output_type": "execute_result"
    }
   ],
   "source": [
    "petition['카테고리'].value_counts()"
   ]
  },
  {
   "cell_type": "code",
   "execution_count": 103,
   "metadata": {},
   "outputs": [
    {
     "data": {
      "image/png": "[encoded data removed]",
      "text/plain": [
       "<Figure size 720x720 with 1 Axes>"
      ]
     },
     "metadata": {
      "needs_background": "light"
     },
     "output_type": "display_data"
    }
   ],
   "source": [
    "petition['카테고리'].value_counts().sort_values().plot(kind='barh', grid=True, figsize=(10,10))\n",
    "plt.show()"
   ]
  },
  {
   "cell_type": "markdown",
   "metadata": {},
   "source": [
    "가장 국민의 목소리가 높은 영역이 '인권/성평등' 영역이라 할 수 있다. 두번째 순위인 정치개혁보다 대략 2배 정도의 청원수를 보이고 있으며, 그 다음으로는 '정치개혁', '기타', '안전/환경' 순으로 청원 수가 높다는 것을 확인할 수 있다. "
   ]
  },
  {
   "cell_type": "markdown",
   "metadata": {},
   "source": [
    "#### 참여인원 순 정렬 "
   ]
  },
  {
   "cell_type": "code",
   "execution_count": 104,
   "metadata": {},
   "outputs": [
    {
     "data": {
      "text/html": [
       "<div>\n",
       "<style scoped>\n",
       "    .dataframe tbody tr th:only-of-type {\n",
       "        vertical-align: middle;\n",
       "    }\n",
       "\n",
       "    .dataframe tbody tr th {\n",
       "        vertical-align: top;\n",
       "    }\n",
       "\n",
       "    .dataframe thead th {\n",
       "        text-align: right;\n",
       "    }\n",
       "</style>\n",
       "<table border=\"1\" class=\"dataframe\">\n",
       "  <thead>\n",
       "    <tr style=\"text-align: right;\">\n",
       "      <th></th>\n",
       "      <th>제목</th>\n",
       "      <th>카테고리</th>\n",
       "      <th>청원 답변기간</th>\n",
       "      <th>참여인원</th>\n",
       "      <th>청원내용</th>\n",
       "      <th>청원답변</th>\n",
       "      <th>URL</th>\n",
       "    </tr>\n",
       "  </thead>\n",
       "  <tbody>\n",
       "    <tr>\n",
       "      <th>21</th>\n",
       "      <td>문재인 대통령님을 응원 합니다!</td>\n",
       "      <td>기타</td>\n",
       "      <td>58</td>\n",
       "      <td>1504597</td>\n",
       "      <td>코로나 바이러스19로 인해 대한민국 모든 국민이 힘든 시기에 있습니다. 하지만 국민...</td>\n",
       "      <td>안녕하십니까. 디지털소통센터장 강정수입니다.   오늘은 코로나19 대처와 관련해 &lt;...</td>\n",
       "      <td>https://www1.president.go.kr/petitions/585683</td>\n",
       "    </tr>\n",
       "    <tr>\n",
       "      <th>20</th>\n",
       "      <td>문재인 대통령 탄핵을 촉구합니다.</td>\n",
       "      <td>정치개혁</td>\n",
       "      <td>80</td>\n",
       "      <td>1469023</td>\n",
       "      <td>국민의 한 사람으로서 문재인 대통령의 탄핵을 촉구합니다. 이번 우한 폐렴(신종 코로...</td>\n",
       "      <td>안녕하십니까. 디지털소통센터장 강정수입니다.   오늘은 코로나19 대처와 관련해 &lt;...</td>\n",
       "      <td>https://www1.president.go.kr/petitions/584936</td>\n",
       "    </tr>\n",
       "    <tr>\n",
       "      <th>24</th>\n",
       "      <td>신천지 예수교 증거장막성전(이하, 신천지)의 강제 해체(해산)을 청원합니다.</td>\n",
       "      <td>인권/성평등</td>\n",
       "      <td>59</td>\n",
       "      <td>1449521</td>\n",
       "      <td>신천지 예수교 증거장막성전(이하, 신천지)의 강제 해체(해산)을 청원합니다.“MBC...</td>\n",
       "      <td>안녕하십니까. 사회정책비서관 정동일입니다.   ｢신천지 강제 해산 청원｣ 및 「신천...</td>\n",
       "      <td>https://www1.president.go.kr/petitions/585290</td>\n",
       "    </tr>\n",
       "    <tr>\n",
       "      <th>116</th>\n",
       "      <td>강서구 피시방 살인 사건. 또 심신미약 피의자입니다.</td>\n",
       "      <td>안전/환경</td>\n",
       "      <td>55</td>\n",
       "      <td>1192049</td>\n",
       "      <td>2018년 10월 14일 엊그제 일어난 강서구 피시방 살인사건에 대한 청원입니다. ...</td>\n",
       "      <td>&lt;정혜승 디지털소통센터장&gt;   안녕하세요. 디지털소통센터 센터장 정혜승 입니다. 오...</td>\n",
       "      <td>https://www1.president.go.kr/petitions/408609</td>\n",
       "    </tr>\n",
       "    <tr>\n",
       "      <th>1</th>\n",
       "      <td>렌트카 훔쳐 사망사고를 낸 10대 엄중 처벌해주세요</td>\n",
       "      <td>기타</td>\n",
       "      <td>61</td>\n",
       "      <td>1007040</td>\n",
       "      <td>29일 오전 0시 1분쯤 대전 동구의 한 네거리에서 훔친 렌터카를 몰던 10대 청소...</td>\n",
       "      <td>안녕하십니까. 디지털소통센터장 강정수입니다.   오늘은 「렌트카 훔쳐 사망사고 낸 ...</td>\n",
       "      <td>https://www1.president.go.kr/petitions/587624</td>\n",
       "    </tr>\n",
       "    <tr>\n",
       "      <th>31</th>\n",
       "      <td>중국인 입국 금지 요청</td>\n",
       "      <td>보건복지</td>\n",
       "      <td>57</td>\n",
       "      <td>761833</td>\n",
       "      <td>중국발 코로나 바이러스가 확산되고 있습니다.북한 마저도 중국인 입국을 금지하는데 춘...</td>\n",
       "      <td>안녕하세요. 디지털소통센터장 강정수입니다.  오늘은 ‘중국인 입국금지’ 청원에 대해...</td>\n",
       "      <td>https://www1.president.go.kr/petitions/584593</td>\n",
       "    </tr>\n",
       "    <tr>\n",
       "      <th>56</th>\n",
       "      <td>청와대는 조국 법무부장관 후보자의 임명을 반드시 해주십시오!!</td>\n",
       "      <td>정치개혁</td>\n",
       "      <td>50</td>\n",
       "      <td>757730</td>\n",
       "      <td>조국은  국민이  지킵니다 !!   청와대는  조국 법무부 장관 후보자의 임명을 반...</td>\n",
       "      <td>안녕하세요. 청와대 디지털소통센터장 강정수입니다.  오늘은 ‘조국 법무부장관 후보자...</td>\n",
       "      <td>https://www1.president.go.kr/petitions/582190</td>\n",
       "    </tr>\n",
       "    <tr>\n",
       "      <th>87</th>\n",
       "      <td>故장자연씨의 수사 기간 연장 및 재수사를 청원합니다.</td>\n",
       "      <td>기타</td>\n",
       "      <td>6</td>\n",
       "      <td>738566</td>\n",
       "      <td>故장자연씨의 수사 기간 연장 및 재수사를 청원합니다. 수사 기간을 연장해 장자연씨가...</td>\n",
       "      <td>故 장자연씨 사건 증인 신변보호 청원과 관련, 청원인은 사회적 불이익, 또는 신변에...</td>\n",
       "      <td>https://www1.president.go.kr/petitions/559071</td>\n",
       "    </tr>\n",
       "    <tr>\n",
       "      <th>131</th>\n",
       "      <td>제주도 불법 난민 신청 문제에 따른 난민법, 무사증 입국, 난민신청허가 폐지/개헌 ...</td>\n",
       "      <td>외교/통일/국방</td>\n",
       "      <td>49</td>\n",
       "      <td>714875</td>\n",
       "      <td>2012년 난민법 제정으로 인해 외국인은 한달 무비자로 입국할 수 있으나 난민신청자...</td>\n",
       "      <td>&lt;정혜승 뉴미디어 비서관&gt;   안녕하십니까. 뉴미디어비서관 정혜승입니다. 오늘 ‘1...</td>\n",
       "      <td>https://www1.president.go.kr/petitions/269548</td>\n",
       "    </tr>\n",
       "    <tr>\n",
       "      <th>28</th>\n",
       "      <td>가해자 n번방박사,n번방회원 모두 처벌해주세요</td>\n",
       "      <td>안전/환경</td>\n",
       "      <td>4</td>\n",
       "      <td>650579</td>\n",
       "      <td>n번방 박사라는 악마같은 인간은아동·청소년을 포함한 수십 명의 여성을 협박·강요해 ...</td>\n",
       "      <td>▲민갑룡 경찰청장:안녕하십니까. 경찰청장 민갑룡입니다.  텔레그램 n번방과 관련된 ...</td>\n",
       "      <td>https://www1.president.go.kr/petitions/586885</td>\n",
       "    </tr>\n",
       "  </tbody>\n",
       "</table>\n",
       "</div>"
      ],
      "text/plain": [
       "                                                    제목      카테고리  청원 답변기간  \\\n",
       "21                                   문재인 대통령님을 응원 합니다!        기타       58   \n",
       "20                                  문재인 대통령 탄핵을 촉구합니다.      정치개혁       80   \n",
       "24          신천지 예수교 증거장막성전(이하, 신천지)의 강제 해체(해산)을 청원합니다.    인권/성평등       59   \n",
       "116                      강서구 피시방 살인 사건. 또 심신미약 피의자입니다.     안전/환경       55   \n",
       "1                         렌트카 훔쳐 사망사고를 낸 10대 엄중 처벌해주세요        기타       61   \n",
       "31                                        중국인 입국 금지 요청      보건복지       57   \n",
       "56                  청와대는 조국 법무부장관 후보자의 임명을 반드시 해주십시오!!      정치개혁       50   \n",
       "87                       故장자연씨의 수사 기간 연장 및 재수사를 청원합니다.        기타        6   \n",
       "131  제주도 불법 난민 신청 문제에 따른 난민법, 무사증 입국, 난민신청허가 폐지/개헌 ...  외교/통일/국방       49   \n",
       "28                           가해자 n번방박사,n번방회원 모두 처벌해주세요     안전/환경        4   \n",
       "\n",
       "        참여인원                                               청원내용  \\\n",
       "21   1504597  코로나 바이러스19로 인해 대한민국 모든 국민이 힘든 시기에 있습니다. 하지만 국민...   \n",
       "20   1469023  국민의 한 사람으로서 문재인 대통령의 탄핵을 촉구합니다. 이번 우한 폐렴(신종 코로...   \n",
       "24   1449521  신천지 예수교 증거장막성전(이하, 신천지)의 강제 해체(해산)을 청원합니다.“MBC...   \n",
       "116  1192049  2018년 10월 14일 엊그제 일어난 강서구 피시방 살인사건에 대한 청원입니다. ...   \n",
       "1    1007040  29일 오전 0시 1분쯤 대전 동구의 한 네거리에서 훔친 렌터카를 몰던 10대 청소...   \n",
       "31    761833  중국발 코로나 바이러스가 확산되고 있습니다.북한 마저도 중국인 입국을 금지하는데 춘...   \n",
       "56    757730  조국은  국민이  지킵니다 !!   청와대는  조국 법무부 장관 후보자의 임명을 반...   \n",
       "87    738566  故장자연씨의 수사 기간 연장 및 재수사를 청원합니다. 수사 기간을 연장해 장자연씨가...   \n",
       "131   714875  2012년 난민법 제정으로 인해 외국인은 한달 무비자로 입국할 수 있으나 난민신청자...   \n",
       "28    650579  n번방 박사라는 악마같은 인간은아동·청소년을 포함한 수십 명의 여성을 협박·강요해 ...   \n",
       "\n",
       "                                                  청원답변  \\\n",
       "21   안녕하십니까. 디지털소통센터장 강정수입니다.   오늘은 코로나19 대처와 관련해 <...   \n",
       "20   안녕하십니까. 디지털소통센터장 강정수입니다.   오늘은 코로나19 대처와 관련해 <...   \n",
       "24   안녕하십니까. 사회정책비서관 정동일입니다.   ｢신천지 강제 해산 청원｣ 및 「신천...   \n",
       "116  <정혜승 디지털소통센터장>   안녕하세요. 디지털소통센터 센터장 정혜승 입니다. 오...   \n",
       "1    안녕하십니까. 디지털소통센터장 강정수입니다.   오늘은 「렌트카 훔쳐 사망사고 낸 ...   \n",
       "31   안녕하세요. 디지털소통센터장 강정수입니다.  오늘은 ‘중국인 입국금지’ 청원에 대해...   \n",
       "56   안녕하세요. 청와대 디지털소통센터장 강정수입니다.  오늘은 ‘조국 법무부장관 후보자...   \n",
       "87   故 장자연씨 사건 증인 신변보호 청원과 관련, 청원인은 사회적 불이익, 또는 신변에...   \n",
       "131  <정혜승 뉴미디어 비서관>   안녕하십니까. 뉴미디어비서관 정혜승입니다. 오늘 ‘1...   \n",
       "28   ▲민갑룡 경찰청장:안녕하십니까. 경찰청장 민갑룡입니다.  텔레그램 n번방과 관련된 ...   \n",
       "\n",
       "                                               URL  \n",
       "21   https://www1.president.go.kr/petitions/585683  \n",
       "20   https://www1.president.go.kr/petitions/584936  \n",
       "24   https://www1.president.go.kr/petitions/585290  \n",
       "116  https://www1.president.go.kr/petitions/408609  \n",
       "1    https://www1.president.go.kr/petitions/587624  \n",
       "31   https://www1.president.go.kr/petitions/584593  \n",
       "56   https://www1.president.go.kr/petitions/582190  \n",
       "87   https://www1.president.go.kr/petitions/559071  \n",
       "131  https://www1.president.go.kr/petitions/269548  \n",
       "28   https://www1.president.go.kr/petitions/586885  "
      ]
     },
     "execution_count": 104,
     "metadata": {},
     "output_type": "execute_result"
    }
   ],
   "source": [
    "petition.sort_values(by='참여인원', ascending=False).head(10)"
   ]
  },
  {
   "cell_type": "markdown",
   "metadata": {},
   "source": [
    "평균만 따지면 안되는게 청원수가 적으면 당연히 참여인원은 더 높게 나올 수 있음."
   ]
  },
  {
   "cell_type": "code",
   "execution_count": 105,
   "metadata": {},
   "outputs": [],
   "source": [
    "petition_cate = petition.groupby('카테고리')['참여인원','청원 답변기간'].agg({'참여인원':'sum','청원 답변기간':'mean'})\n",
    "petition_cate['청원수'] = petition['카테고리'].value_counts()\n",
    "petition_cate['청원수 대비 참여인원'] = petition_cate['참여인원'] / petition_cate['청원수']"
   ]
  },
  {
   "cell_type": "code",
   "execution_count": 106,
   "metadata": {},
   "outputs": [
    {
     "data": {
      "text/html": [
       "<div>\n",
       "<style scoped>\n",
       "    .dataframe tbody tr th:only-of-type {\n",
       "        vertical-align: middle;\n",
       "    }\n",
       "\n",
       "    .dataframe tbody tr th {\n",
       "        vertical-align: top;\n",
       "    }\n",
       "\n",
       "    .dataframe thead th {\n",
       "        text-align: right;\n",
       "    }\n",
       "</style>\n",
       "<table border=\"1\" class=\"dataframe\">\n",
       "  <thead>\n",
       "    <tr style=\"text-align: right;\">\n",
       "      <th></th>\n",
       "      <th>참여인원</th>\n",
       "      <th>청원 답변기간</th>\n",
       "      <th>청원수</th>\n",
       "      <th>청원수 대비 참여인원</th>\n",
       "    </tr>\n",
       "    <tr>\n",
       "      <th>카테고리</th>\n",
       "      <th></th>\n",
       "      <th></th>\n",
       "      <th></th>\n",
       "      <th></th>\n",
       "    </tr>\n",
       "  </thead>\n",
       "  <tbody>\n",
       "    <tr>\n",
       "      <th>인권/성평등</th>\n",
       "      <td>13404291</td>\n",
       "      <td>47.888889</td>\n",
       "      <td>45</td>\n",
       "      <td>297873.133333</td>\n",
       "    </tr>\n",
       "    <tr>\n",
       "      <th>기타</th>\n",
       "      <td>8844755</td>\n",
       "      <td>51.217391</td>\n",
       "      <td>23</td>\n",
       "      <td>384554.565217</td>\n",
       "    </tr>\n",
       "    <tr>\n",
       "      <th>정치개혁</th>\n",
       "      <td>7957678</td>\n",
       "      <td>53.545455</td>\n",
       "      <td>22</td>\n",
       "      <td>361712.636364</td>\n",
       "    </tr>\n",
       "    <tr>\n",
       "      <th>안전/환경</th>\n",
       "      <td>6585195</td>\n",
       "      <td>51.400000</td>\n",
       "      <td>20</td>\n",
       "      <td>329259.750000</td>\n",
       "    </tr>\n",
       "    <tr>\n",
       "      <th>문화/예술/체육/언론</th>\n",
       "      <td>3945615</td>\n",
       "      <td>52.133333</td>\n",
       "      <td>15</td>\n",
       "      <td>263041.000000</td>\n",
       "    </tr>\n",
       "    <tr>\n",
       "      <th>육아/교육</th>\n",
       "      <td>2878548</td>\n",
       "      <td>62.700000</td>\n",
       "      <td>10</td>\n",
       "      <td>287854.800000</td>\n",
       "    </tr>\n",
       "    <tr>\n",
       "      <th>보건복지</th>\n",
       "      <td>2218061</td>\n",
       "      <td>51.166667</td>\n",
       "      <td>6</td>\n",
       "      <td>369676.833333</td>\n",
       "    </tr>\n",
       "    <tr>\n",
       "      <th>외교/통일/국방</th>\n",
       "      <td>1810542</td>\n",
       "      <td>46.800000</td>\n",
       "      <td>5</td>\n",
       "      <td>362108.400000</td>\n",
       "    </tr>\n",
       "    <tr>\n",
       "      <th>반려동물</th>\n",
       "      <td>1714853</td>\n",
       "      <td>48.500000</td>\n",
       "      <td>8</td>\n",
       "      <td>214356.625000</td>\n",
       "    </tr>\n",
       "    <tr>\n",
       "      <th>교통/건축/국토</th>\n",
       "      <td>1422993</td>\n",
       "      <td>58.600000</td>\n",
       "      <td>5</td>\n",
       "      <td>284598.600000</td>\n",
       "    </tr>\n",
       "    <tr>\n",
       "      <th>미래</th>\n",
       "      <td>855883</td>\n",
       "      <td>75.000000</td>\n",
       "      <td>2</td>\n",
       "      <td>427941.500000</td>\n",
       "    </tr>\n",
       "    <tr>\n",
       "      <th>행정</th>\n",
       "      <td>736959</td>\n",
       "      <td>42.333333</td>\n",
       "      <td>3</td>\n",
       "      <td>245653.000000</td>\n",
       "    </tr>\n",
       "    <tr>\n",
       "      <th>성장동력</th>\n",
       "      <td>483849</td>\n",
       "      <td>50.500000</td>\n",
       "      <td>2</td>\n",
       "      <td>241924.500000</td>\n",
       "    </tr>\n",
       "    <tr>\n",
       "      <th>경제민주화</th>\n",
       "      <td>450058</td>\n",
       "      <td>57.500000</td>\n",
       "      <td>2</td>\n",
       "      <td>225029.000000</td>\n",
       "    </tr>\n",
       "    <tr>\n",
       "      <th>일자리</th>\n",
       "      <td>383039</td>\n",
       "      <td>61.000000</td>\n",
       "      <td>1</td>\n",
       "      <td>383039.000000</td>\n",
       "    </tr>\n",
       "  </tbody>\n",
       "</table>\n",
       "</div>"
      ],
      "text/plain": [
       "                 참여인원    청원 답변기간  청원수    청원수 대비 참여인원\n",
       "카테고리                                                \n",
       "인권/성평등       13404291  47.888889   45  297873.133333\n",
       "기타            8844755  51.217391   23  384554.565217\n",
       "정치개혁          7957678  53.545455   22  361712.636364\n",
       "안전/환경         6585195  51.400000   20  329259.750000\n",
       "문화/예술/체육/언론   3945615  52.133333   15  263041.000000\n",
       "육아/교육         2878548  62.700000   10  287854.800000\n",
       "보건복지          2218061  51.166667    6  369676.833333\n",
       "외교/통일/국방      1810542  46.800000    5  362108.400000\n",
       "반려동물          1714853  48.500000    8  214356.625000\n",
       "교통/건축/국토      1422993  58.600000    5  284598.600000\n",
       "미래             855883  75.000000    2  427941.500000\n",
       "행정             736959  42.333333    3  245653.000000\n",
       "성장동력           483849  50.500000    2  241924.500000\n",
       "경제민주화          450058  57.500000    2  225029.000000\n",
       "일자리            383039  61.000000    1  383039.000000"
      ]
     },
     "execution_count": 106,
     "metadata": {},
     "output_type": "execute_result"
    }
   ],
   "source": [
    "petition_cate.sort_values('참여인원', ascending=False)"
   ]
  },
  {
   "cell_type": "code",
   "execution_count": 107,
   "metadata": {},
   "outputs": [
    {
     "data": {
      "text/plain": [
       "11.266666666666667"
      ]
     },
     "execution_count": 107,
     "metadata": {},
     "output_type": "execute_result"
    }
   ],
   "source": [
    "petition_cate['청원수'].mean()"
   ]
  },
  {
   "cell_type": "code",
   "execution_count": 108,
   "metadata": {},
   "outputs": [],
   "source": [
    "petition_cate.drop('일자리', inplace=True)"
   ]
  },
  {
   "cell_type": "markdown",
   "metadata": {},
   "source": [
    "### 정규화"
   ]
  },
  {
   "cell_type": "code",
   "execution_count": 109,
   "metadata": {},
   "outputs": [
    {
     "data": {
      "text/html": [
       "<div>\n",
       "<style scoped>\n",
       "    .dataframe tbody tr th:only-of-type {\n",
       "        vertical-align: middle;\n",
       "    }\n",
       "\n",
       "    .dataframe tbody tr th {\n",
       "        vertical-align: top;\n",
       "    }\n",
       "\n",
       "    .dataframe thead th {\n",
       "        text-align: right;\n",
       "    }\n",
       "</style>\n",
       "<table border=\"1\" class=\"dataframe\">\n",
       "  <thead>\n",
       "    <tr style=\"text-align: right;\">\n",
       "      <th></th>\n",
       "      <th>청원수 대비 참여인원</th>\n",
       "      <th>참여인원</th>\n",
       "      <th>청원 답변기간</th>\n",
       "      <th>청원수</th>\n",
       "    </tr>\n",
       "    <tr>\n",
       "      <th>카테고리</th>\n",
       "      <th></th>\n",
       "      <th></th>\n",
       "      <th></th>\n",
       "      <th></th>\n",
       "    </tr>\n",
       "  </thead>\n",
       "  <tbody>\n",
       "    <tr>\n",
       "      <th>미래</th>\n",
       "      <td>1.000000</td>\n",
       "      <td>855883</td>\n",
       "      <td>75.000000</td>\n",
       "      <td>2</td>\n",
       "    </tr>\n",
       "    <tr>\n",
       "      <th>기타</th>\n",
       "      <td>0.796863</td>\n",
       "      <td>8844755</td>\n",
       "      <td>51.217391</td>\n",
       "      <td>23</td>\n",
       "    </tr>\n",
       "    <tr>\n",
       "      <th>보건복지</th>\n",
       "      <td>0.727206</td>\n",
       "      <td>2218061</td>\n",
       "      <td>51.166667</td>\n",
       "      <td>6</td>\n",
       "    </tr>\n",
       "    <tr>\n",
       "      <th>외교/통일/국방</th>\n",
       "      <td>0.691771</td>\n",
       "      <td>1810542</td>\n",
       "      <td>46.800000</td>\n",
       "      <td>5</td>\n",
       "    </tr>\n",
       "    <tr>\n",
       "      <th>정치개혁</th>\n",
       "      <td>0.689918</td>\n",
       "      <td>7957678</td>\n",
       "      <td>53.545455</td>\n",
       "      <td>22</td>\n",
       "    </tr>\n",
       "    <tr>\n",
       "      <th>안전/환경</th>\n",
       "      <td>0.537974</td>\n",
       "      <td>6585195</td>\n",
       "      <td>51.400000</td>\n",
       "      <td>20</td>\n",
       "    </tr>\n",
       "    <tr>\n",
       "      <th>인권/성평등</th>\n",
       "      <td>0.391023</td>\n",
       "      <td>13404291</td>\n",
       "      <td>47.888889</td>\n",
       "      <td>45</td>\n",
       "    </tr>\n",
       "    <tr>\n",
       "      <th>육아/교육</th>\n",
       "      <td>0.344117</td>\n",
       "      <td>2878548</td>\n",
       "      <td>62.700000</td>\n",
       "      <td>10</td>\n",
       "    </tr>\n",
       "    <tr>\n",
       "      <th>교통/건축/국토</th>\n",
       "      <td>0.328871</td>\n",
       "      <td>1422993</td>\n",
       "      <td>58.600000</td>\n",
       "      <td>5</td>\n",
       "    </tr>\n",
       "    <tr>\n",
       "      <th>문화/예술/체육/언론</th>\n",
       "      <td>0.227939</td>\n",
       "      <td>3945615</td>\n",
       "      <td>52.133333</td>\n",
       "      <td>15</td>\n",
       "    </tr>\n",
       "    <tr>\n",
       "      <th>행정</th>\n",
       "      <td>0.146529</td>\n",
       "      <td>736959</td>\n",
       "      <td>42.333333</td>\n",
       "      <td>3</td>\n",
       "    </tr>\n",
       "    <tr>\n",
       "      <th>성장동력</th>\n",
       "      <td>0.129072</td>\n",
       "      <td>483849</td>\n",
       "      <td>50.500000</td>\n",
       "      <td>2</td>\n",
       "    </tr>\n",
       "    <tr>\n",
       "      <th>경제민주화</th>\n",
       "      <td>0.049968</td>\n",
       "      <td>450058</td>\n",
       "      <td>57.500000</td>\n",
       "      <td>2</td>\n",
       "    </tr>\n",
       "    <tr>\n",
       "      <th>반려동물</th>\n",
       "      <td>0.000000</td>\n",
       "      <td>1714853</td>\n",
       "      <td>48.500000</td>\n",
       "      <td>8</td>\n",
       "    </tr>\n",
       "  </tbody>\n",
       "</table>\n",
       "</div>"
      ],
      "text/plain": [
       "             청원수 대비 참여인원      참여인원    청원 답변기간  청원수\n",
       "카테고리                                              \n",
       "미래              1.000000    855883  75.000000    2\n",
       "기타              0.796863   8844755  51.217391   23\n",
       "보건복지            0.727206   2218061  51.166667    6\n",
       "외교/통일/국방        0.691771   1810542  46.800000    5\n",
       "정치개혁            0.689918   7957678  53.545455   22\n",
       "안전/환경           0.537974   6585195  51.400000   20\n",
       "인권/성평등          0.391023  13404291  47.888889   45\n",
       "육아/교육           0.344117   2878548  62.700000   10\n",
       "교통/건축/국토        0.328871   1422993  58.600000    5\n",
       "문화/예술/체육/언론     0.227939   3945615  52.133333   15\n",
       "행정              0.146529    736959  42.333333    3\n",
       "성장동력            0.129072    483849  50.500000    2\n",
       "경제민주화           0.049968    450058  57.500000    2\n",
       "반려동물            0.000000   1714853  48.500000    8"
      ]
     },
     "execution_count": 109,
     "metadata": {},
     "output_type": "execute_result"
    }
   ],
   "source": [
    "from sklearn import preprocessing\n",
    "\n",
    "x = petition_cate['청원수 대비 참여인원'].values.reshape(-1, 1)\n",
    "min_max_scaler = preprocessing.MinMaxScaler()\n",
    "\n",
    "x_scaled = min_max_scaler.fit_transform(x.astype(float))\n",
    "petition_cate_norm = pd.DataFrame(x_scaled, columns=['청원수 대비 참여인원'], index=petition_cate.index)\n",
    "petition_cate_norm[['참여인원','청원 답변기간', '청원수']] = petition_cate[['참여인원','청원 답변기간', '청원수']]\n",
    "petition_cate_norm.sort_values('청원수 대비 참여인원', ascending=False)"
   ]
  },
  {
   "cell_type": "code",
   "execution_count": 110,
   "metadata": {},
   "outputs": [
    {
     "data": {
      "text/html": [
       "<div>\n",
       "<style scoped>\n",
       "    .dataframe tbody tr th:only-of-type {\n",
       "        vertical-align: middle;\n",
       "    }\n",
       "\n",
       "    .dataframe tbody tr th {\n",
       "        vertical-align: top;\n",
       "    }\n",
       "\n",
       "    .dataframe thead th {\n",
       "        text-align: right;\n",
       "    }\n",
       "</style>\n",
       "<table border=\"1\" class=\"dataframe\">\n",
       "  <thead>\n",
       "    <tr style=\"text-align: right;\">\n",
       "      <th></th>\n",
       "      <th>제목</th>\n",
       "      <th>카테고리</th>\n",
       "      <th>청원 답변기간</th>\n",
       "      <th>참여인원</th>\n",
       "      <th>청원내용</th>\n",
       "      <th>청원답변</th>\n",
       "      <th>URL</th>\n",
       "    </tr>\n",
       "  </thead>\n",
       "  <tbody>\n",
       "    <tr>\n",
       "      <th>78</th>\n",
       "      <td>대통령님께서 &lt; 세월호참사 특별수사단 &gt;설치와 세월호참사 전면재수사를 지시해주시기를...</td>\n",
       "      <td>미래</td>\n",
       "      <td>59</td>\n",
       "      <td>240529</td>\n",
       "      <td>세월호참사 유가족과 생존자, 생존자가족으로 구성된 &lt;(사)4.16세월호참사 진상규명...</td>\n",
       "      <td>&lt;정현곤 비서관&gt;   안녕하세요. 청와대 시민참여비서관 정현곤입니다. 오늘 ‘세월호...</td>\n",
       "      <td>https://www1.president.go.kr/petitions/577697</td>\n",
       "    </tr>\n",
       "    <tr>\n",
       "      <th>170</th>\n",
       "      <td>조두순 출소반대</td>\n",
       "      <td>미래</td>\n",
       "      <td>91</td>\n",
       "      <td>615354</td>\n",
       "      <td>제발 조두순 재심다시해서 무기징역으로 해야됩니다!!!</td>\n",
       "      <td>▲고민정 부대변인 : 안녕하세요. '11시 50분 청와대입니다.' 저는 청와대 부대...</td>\n",
       "      <td>https://www1.president.go.kr/petitions/10949</td>\n",
       "    </tr>\n",
       "  </tbody>\n",
       "</table>\n",
       "</div>"
      ],
      "text/plain": [
       "                                                    제목 카테고리  청원 답변기간    참여인원  \\\n",
       "78   대통령님께서 < 세월호참사 특별수사단 >설치와 세월호참사 전면재수사를 지시해주시기를...   미래       59  240529   \n",
       "170                                           조두순 출소반대   미래       91  615354   \n",
       "\n",
       "                                                  청원내용  \\\n",
       "78   세월호참사 유가족과 생존자, 생존자가족으로 구성된 <(사)4.16세월호참사 진상규명...   \n",
       "170                      제발 조두순 재심다시해서 무기징역으로 해야됩니다!!!   \n",
       "\n",
       "                                                  청원답변  \\\n",
       "78   <정현곤 비서관>   안녕하세요. 청와대 시민참여비서관 정현곤입니다. 오늘 ‘세월호...   \n",
       "170  ▲고민정 부대변인 : 안녕하세요. '11시 50분 청와대입니다.' 저는 청와대 부대...   \n",
       "\n",
       "                                               URL  \n",
       "78   https://www1.president.go.kr/petitions/577697  \n",
       "170   https://www1.president.go.kr/petitions/10949  "
      ]
     },
     "execution_count": 110,
     "metadata": {},
     "output_type": "execute_result"
    }
   ],
   "source": [
    "petition[petition['카테고리'] == '미래']"
   ]
  },
  {
   "cell_type": "code",
   "execution_count": null,
   "metadata": {},
   "outputs": [],
   "source": []
  },
  {
   "cell_type": "code",
   "execution_count": null,
   "metadata": {},
   "outputs": [],
   "source": []
  },
  {
   "cell_type": "code",
   "execution_count": null,
   "metadata": {},
   "outputs": [],
   "source": []
  },
  {
   "cell_type": "code",
   "execution_count": null,
   "metadata": {},
   "outputs": [],
   "source": []
  },
  {
   "cell_type": "code",
   "execution_count": 111,
   "metadata": {},
   "outputs": [
    {
     "data": {
      "image/png": "[encoded data removed]",
      "text/plain": [
       "<Figure size 864x720 with 1 Axes>"
      ]
     },
     "metadata": {
      "needs_background": "light"
     },
     "output_type": "display_data"
    }
   ],
   "source": [
    "petition_cate_index = petition_cate_norm.reset_index()\n",
    "\n",
    "plt.figure(figsize=(12,10))\n",
    "plt.xticks(rotation = 45 )\n",
    "order = petition_cate_norm.sort_values('참여인원', ascending=False).index\n",
    "ax = sns.barplot(\"카테고리\", y=\"참여인원\", data=petition_cate_index, order=order, palette=\"coolwarm\")"
   ]
  },
  {
   "cell_type": "code",
   "execution_count": 112,
   "metadata": {},
   "outputs": [
    {
     "data": {
      "text/html": [
       "<div>\n",
       "<style scoped>\n",
       "    .dataframe tbody tr th:only-of-type {\n",
       "        vertical-align: middle;\n",
       "    }\n",
       "\n",
       "    .dataframe tbody tr th {\n",
       "        vertical-align: top;\n",
       "    }\n",
       "\n",
       "    .dataframe thead th {\n",
       "        text-align: right;\n",
       "    }\n",
       "</style>\n",
       "<table border=\"1\" class=\"dataframe\">\n",
       "  <thead>\n",
       "    <tr style=\"text-align: right;\">\n",
       "      <th></th>\n",
       "      <th>참여인원</th>\n",
       "      <th>청원 답변기간</th>\n",
       "      <th>청원수</th>\n",
       "      <th>청원수 대비 참여인원</th>\n",
       "    </tr>\n",
       "    <tr>\n",
       "      <th>카테고리</th>\n",
       "      <th></th>\n",
       "      <th></th>\n",
       "      <th></th>\n",
       "      <th></th>\n",
       "    </tr>\n",
       "  </thead>\n",
       "  <tbody>\n",
       "    <tr>\n",
       "      <th>행정</th>\n",
       "      <td>736959</td>\n",
       "      <td>42.333333</td>\n",
       "      <td>3</td>\n",
       "      <td>245653.000000</td>\n",
       "    </tr>\n",
       "    <tr>\n",
       "      <th>외교/통일/국방</th>\n",
       "      <td>1810542</td>\n",
       "      <td>46.800000</td>\n",
       "      <td>5</td>\n",
       "      <td>362108.400000</td>\n",
       "    </tr>\n",
       "    <tr>\n",
       "      <th>인권/성평등</th>\n",
       "      <td>13404291</td>\n",
       "      <td>47.888889</td>\n",
       "      <td>45</td>\n",
       "      <td>297873.133333</td>\n",
       "    </tr>\n",
       "    <tr>\n",
       "      <th>반려동물</th>\n",
       "      <td>1714853</td>\n",
       "      <td>48.500000</td>\n",
       "      <td>8</td>\n",
       "      <td>214356.625000</td>\n",
       "    </tr>\n",
       "    <tr>\n",
       "      <th>성장동력</th>\n",
       "      <td>483849</td>\n",
       "      <td>50.500000</td>\n",
       "      <td>2</td>\n",
       "      <td>241924.500000</td>\n",
       "    </tr>\n",
       "    <tr>\n",
       "      <th>보건복지</th>\n",
       "      <td>2218061</td>\n",
       "      <td>51.166667</td>\n",
       "      <td>6</td>\n",
       "      <td>369676.833333</td>\n",
       "    </tr>\n",
       "    <tr>\n",
       "      <th>기타</th>\n",
       "      <td>8844755</td>\n",
       "      <td>51.217391</td>\n",
       "      <td>23</td>\n",
       "      <td>384554.565217</td>\n",
       "    </tr>\n",
       "    <tr>\n",
       "      <th>안전/환경</th>\n",
       "      <td>6585195</td>\n",
       "      <td>51.400000</td>\n",
       "      <td>20</td>\n",
       "      <td>329259.750000</td>\n",
       "    </tr>\n",
       "    <tr>\n",
       "      <th>문화/예술/체육/언론</th>\n",
       "      <td>3945615</td>\n",
       "      <td>52.133333</td>\n",
       "      <td>15</td>\n",
       "      <td>263041.000000</td>\n",
       "    </tr>\n",
       "    <tr>\n",
       "      <th>정치개혁</th>\n",
       "      <td>7957678</td>\n",
       "      <td>53.545455</td>\n",
       "      <td>22</td>\n",
       "      <td>361712.636364</td>\n",
       "    </tr>\n",
       "    <tr>\n",
       "      <th>경제민주화</th>\n",
       "      <td>450058</td>\n",
       "      <td>57.500000</td>\n",
       "      <td>2</td>\n",
       "      <td>225029.000000</td>\n",
       "    </tr>\n",
       "    <tr>\n",
       "      <th>교통/건축/국토</th>\n",
       "      <td>1422993</td>\n",
       "      <td>58.600000</td>\n",
       "      <td>5</td>\n",
       "      <td>284598.600000</td>\n",
       "    </tr>\n",
       "    <tr>\n",
       "      <th>육아/교육</th>\n",
       "      <td>2878548</td>\n",
       "      <td>62.700000</td>\n",
       "      <td>10</td>\n",
       "      <td>287854.800000</td>\n",
       "    </tr>\n",
       "    <tr>\n",
       "      <th>미래</th>\n",
       "      <td>855883</td>\n",
       "      <td>75.000000</td>\n",
       "      <td>2</td>\n",
       "      <td>427941.500000</td>\n",
       "    </tr>\n",
       "  </tbody>\n",
       "</table>\n",
       "</div>"
      ],
      "text/plain": [
       "                 참여인원    청원 답변기간  청원수    청원수 대비 참여인원\n",
       "카테고리                                                \n",
       "행정             736959  42.333333    3  245653.000000\n",
       "외교/통일/국방      1810542  46.800000    5  362108.400000\n",
       "인권/성평등       13404291  47.888889   45  297873.133333\n",
       "반려동물          1714853  48.500000    8  214356.625000\n",
       "성장동력           483849  50.500000    2  241924.500000\n",
       "보건복지          2218061  51.166667    6  369676.833333\n",
       "기타            8844755  51.217391   23  384554.565217\n",
       "안전/환경         6585195  51.400000   20  329259.750000\n",
       "문화/예술/체육/언론   3945615  52.133333   15  263041.000000\n",
       "정치개혁          7957678  53.545455   22  361712.636364\n",
       "경제민주화          450058  57.500000    2  225029.000000\n",
       "교통/건축/국토      1422993  58.600000    5  284598.600000\n",
       "육아/교육         2878548  62.700000   10  287854.800000\n",
       "미래             855883  75.000000    2  427941.500000"
      ]
     },
     "execution_count": 112,
     "metadata": {},
     "output_type": "execute_result"
    }
   ],
   "source": [
    "petition_cate.sort_values('청원 답변기간', ascending=True)"
   ]
  },
  {
   "cell_type": "code",
   "execution_count": 113,
   "metadata": {},
   "outputs": [
    {
     "data": {
      "image/png": "[encoded data removed]",
      "text/plain": [
       "<Figure size 720x720 with 1 Axes>"
      ]
     },
     "metadata": {
      "needs_background": "light"
     },
     "output_type": "display_data"
    }
   ],
   "source": [
    "petition_cate_norm['청원 답변기간'].sort_values(ascending=False).plot(kind='barh', grid=True, figsize=(10,10))\n",
    "plt.show()"
   ]
  },
  {
   "cell_type": "code",
   "execution_count": 114,
   "metadata": {},
   "outputs": [
    {
     "data": {
      "image/png": "[encoded data removed]",
      "text/plain": [
       "<Figure size 864x720 with 1 Axes>"
      ]
     },
     "metadata": {
      "needs_background": "light"
     },
     "output_type": "display_data"
    }
   ],
   "source": [
    "plt.figure(figsize=(12,10))\n",
    "plt.xticks(rotation = 45 )\n",
    "order = petition_cate_norm.sort_values('청원 답변기간').index\n",
    "ax = sns.barplot(\"카테고리\", y=\"청원 답변기간\", data=petition_cate_index, order=order, palette=\"coolwarm\")"
   ]
  },
  {
   "cell_type": "code",
   "execution_count": 115,
   "metadata": {},
   "outputs": [
    {
     "data": {
      "image/png": "[encoded data removed]",
      "text/plain": [
       "<Figure size 720x720 with 1 Axes>"
      ]
     },
     "metadata": {
      "needs_background": "light"
     },
     "output_type": "display_data"
    }
   ],
   "source": [
    "petition_cate_norm['청원수 대비 참여인원'].sort_values().plot(kind='barh', grid=True, figsize=(10,10))\n",
    "plt.show()"
   ]
  },
  {
   "cell_type": "code",
   "execution_count": 116,
   "metadata": {},
   "outputs": [
    {
     "data": {
      "image/png": "[encoded data removed]",
      "text/plain": [
       "<Figure size 864x720 with 1 Axes>"
      ]
     },
     "metadata": {
      "needs_background": "light"
     },
     "output_type": "display_data"
    }
   ],
   "source": [
    "plt.figure(figsize=(12,10))\n",
    "plt.xticks(rotation = 45 )\n",
    "order = petition_cate_norm.sort_values('청원수 대비 참여인원', ascending=False).index\n",
    "ax = sns.barplot(\"카테고리\", y=\"청원수 대비 참여인원\", data=petition_cate_index, order=order, palette=\"coolwarm\")"
   ]
  },
  {
   "cell_type": "code",
   "execution_count": 69,
   "metadata": {},
   "outputs": [],
   "source": [
    "# seaborn 한글 글씨체 해결\n",
    "import matplotlib.pyplot as plt\n",
    "import matplotlib.font_manager as fm\n",
    " \n",
    "fm.get_fontconfig_fonts()\n",
    "font_location = '/Library/Fonts/NanumBarunGothicBold.ttf'\n",
    "font_name = fm.FontProperties(fname=font_location).get_name()\n",
    "plt.rc('font', family=font_name)"
   ]
  },
  {
   "cell_type": "code",
   "execution_count": 70,
   "metadata": {},
   "outputs": [
    {
     "data": {
      "image/png": "[encoded data removed]",
      "text/plain": [
       "<Figure size 864x720 with 1 Axes>"
      ]
     },
     "metadata": {
      "needs_background": "light"
     },
     "output_type": "display_data"
    }
   ],
   "source": [
    "plt.figure(figsize=(12,10))\n",
    "plt.xticks(rotation = 45 )\n",
    "order = petition_cate.sort_values('청원수 대비 참여인원', ascending=False).index\n",
    "ax = sns.barplot(\"카테고리\", y=\"참여인원\", data=petition, order=order, palette=\"coolwarm\")"
   ]
  },
  {
   "cell_type": "code",
   "execution_count": null,
   "metadata": {},
   "outputs": [],
   "source": []
  }
 ],
 "metadata": {
  "kernelspec": {
   "display_name": "Python 3",
   "language": "python",
   "name": "python3"
  },
  "language_info": {
   "codemirror_mode": {
    "name": "ipython",
    "version": 3
   },
   "file_extension": ".py",
   "mimetype": "text/x-python",
   "name": "python",
   "nbconvert_exporter": "python",
   "pygments_lexer": "ipython3",
   "version": "3.7.6"
  }
 },
 "nbformat": 4,
 "nbformat_minor": 2
}
