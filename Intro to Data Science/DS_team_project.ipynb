{
 "cells": [
  {
   "cell_type": "markdown",
   "metadata": {},
   "source": [
    "# Introduction to Data Science Team Project \n",
    "\n",
    "## CCTV는 정말로 범죄를 예방하는 효과가 있을까? \n",
    "\n",
    "- [CCTV 설치로 범죄율 27% 감소](https://www.boannews.com/media/view.asp?idx=63961) 검증\n",
    "\n",
    "\n",
    "##### 데이터셋\n",
    "- [서울시 자치구 년도별 CCTV 설치 현황](https://data.seoul.go.kr/dataList/OA-2734/C/1/datasetView.do)\n",
    "- [서울시 5대 범죄 발생현황 통계](https://data.seoul.go.kr/dataList/316/C/2/datasetView.do;jsessionid=2199F74D80737F2EC64059AC30470780.new_portal-svr-11)\n",
    "\n",
    "### Import data"
   ]
  },
  {
   "cell_type": "code",
   "execution_count": 1,
   "metadata": {},
   "outputs": [],
   "source": [
    "import pandas as pd\n",
    "import numpy as np\n",
    "import matplotlib.pyplot as plt \n",
    "import seaborn as sns\n",
    "%matplotlib inline "
   ]
  },
  {
   "cell_type": "markdown",
   "metadata": {},
   "source": [
    "#### 서울시 5대 범죄 발생현황 통계 데이터"
   ]
  },
  {
   "cell_type": "code",
   "execution_count": 2,
   "metadata": {
    "scrolled": true
   },
   "outputs": [
    {
     "data": {
      "text/html": [
       "<div>\n",
       "<style scoped>\n",
       "    .dataframe tbody tr th:only-of-type {\n",
       "        vertical-align: middle;\n",
       "    }\n",
       "\n",
       "    .dataframe tbody tr th {\n",
       "        vertical-align: top;\n",
       "    }\n",
       "\n",
       "    .dataframe thead th {\n",
       "        text-align: right;\n",
       "    }\n",
       "</style>\n",
       "<table border=\"1\" class=\"dataframe\">\n",
       "  <thead>\n",
       "    <tr style=\"text-align: right;\">\n",
       "      <th></th>\n",
       "      <th>기간</th>\n",
       "      <th>자치구</th>\n",
       "      <th>합계</th>\n",
       "      <th>합계.1</th>\n",
       "      <th>살인</th>\n",
       "      <th>살인.1</th>\n",
       "      <th>강도</th>\n",
       "      <th>강도.1</th>\n",
       "      <th>강간강제추행</th>\n",
       "      <th>강간강제추행.1</th>\n",
       "      <th>절도</th>\n",
       "      <th>절도.1</th>\n",
       "      <th>폭력</th>\n",
       "      <th>폭력.1</th>\n",
       "    </tr>\n",
       "  </thead>\n",
       "  <tbody>\n",
       "    <tr>\n",
       "      <th>0</th>\n",
       "      <td>기간</td>\n",
       "      <td>자치구</td>\n",
       "      <td>발생</td>\n",
       "      <td>검거</td>\n",
       "      <td>발생</td>\n",
       "      <td>검거</td>\n",
       "      <td>발생</td>\n",
       "      <td>검거</td>\n",
       "      <td>발생</td>\n",
       "      <td>검거</td>\n",
       "      <td>발생</td>\n",
       "      <td>검거</td>\n",
       "      <td>발생</td>\n",
       "      <td>검거</td>\n",
       "    </tr>\n",
       "    <tr>\n",
       "      <th>1</th>\n",
       "      <td>2018</td>\n",
       "      <td>합계</td>\n",
       "      <td>101,948</td>\n",
       "      <td>74,487</td>\n",
       "      <td>143</td>\n",
       "      <td>139</td>\n",
       "      <td>143</td>\n",
       "      <td>151</td>\n",
       "      <td>6,412</td>\n",
       "      <td>6,046</td>\n",
       "      <td>39,175</td>\n",
       "      <td>19,762</td>\n",
       "      <td>56,075</td>\n",
       "      <td>48,389</td>\n",
       "    </tr>\n",
       "    <tr>\n",
       "      <th>2</th>\n",
       "      <td>2018</td>\n",
       "      <td>종로구</td>\n",
       "      <td>3,690</td>\n",
       "      <td>3,913</td>\n",
       "      <td>6</td>\n",
       "      <td>7</td>\n",
       "      <td>3</td>\n",
       "      <td>7</td>\n",
       "      <td>236</td>\n",
       "      <td>1,100</td>\n",
       "      <td>1,483</td>\n",
       "      <td>969</td>\n",
       "      <td>1,962</td>\n",
       "      <td>1,830</td>\n",
       "    </tr>\n",
       "    <tr>\n",
       "      <th>3</th>\n",
       "      <td>2018</td>\n",
       "      <td>중구</td>\n",
       "      <td>4,030</td>\n",
       "      <td>2,679</td>\n",
       "      <td>2</td>\n",
       "      <td>2</td>\n",
       "      <td>11</td>\n",
       "      <td>11</td>\n",
       "      <td>207</td>\n",
       "      <td>115</td>\n",
       "      <td>1,855</td>\n",
       "      <td>832</td>\n",
       "      <td>1,955</td>\n",
       "      <td>1,719</td>\n",
       "    </tr>\n",
       "    <tr>\n",
       "      <th>4</th>\n",
       "      <td>2018</td>\n",
       "      <td>용산구</td>\n",
       "      <td>3,411</td>\n",
       "      <td>2,543</td>\n",
       "      <td>1</td>\n",
       "      <td>1</td>\n",
       "      <td>3</td>\n",
       "      <td>2</td>\n",
       "      <td>331</td>\n",
       "      <td>285</td>\n",
       "      <td>1,096</td>\n",
       "      <td>522</td>\n",
       "      <td>1,980</td>\n",
       "      <td>1,733</td>\n",
       "    </tr>\n",
       "  </tbody>\n",
       "</table>\n",
       "</div>"
      ],
      "text/plain": [
       "     기간  자치구       합계    합계.1   살인 살인.1   강도 강도.1 강간강제추행 강간강제추행.1      절도  \\\n",
       "0    기간  자치구       발생      검거   발생   검거   발생   검거     발생       검거      발생   \n",
       "1  2018   합계  101,948  74,487  143  139  143  151  6,412    6,046  39,175   \n",
       "2  2018  종로구    3,690   3,913    6    7    3    7    236    1,100   1,483   \n",
       "3  2018   중구    4,030   2,679    2    2   11   11    207      115   1,855   \n",
       "4  2018  용산구    3,411   2,543    1    1    3    2    331      285   1,096   \n",
       "\n",
       "     절도.1      폭력    폭력.1  \n",
       "0      검거      발생      검거  \n",
       "1  19,762  56,075  48,389  \n",
       "2     969   1,962   1,830  \n",
       "3     832   1,955   1,719  \n",
       "4     522   1,980   1,733  "
      ]
     },
     "execution_count": 2,
     "metadata": {},
     "output_type": "execute_result"
    }
   ],
   "source": [
    "# 왜 thousands가 작동안할까? \n",
    "crime = pd.read_csv('서울시 5대 범죄 발생현황 통계.csv', thousands=',', encoding='utf-8')\n",
    "crime.head()"
   ]
  },
  {
   "cell_type": "code",
   "execution_count": 3,
   "metadata": {},
   "outputs": [
    {
     "data": {
      "text/html": [
       "<div>\n",
       "<style scoped>\n",
       "    .dataframe tbody tr th:only-of-type {\n",
       "        vertical-align: middle;\n",
       "    }\n",
       "\n",
       "    .dataframe tbody tr th {\n",
       "        vertical-align: top;\n",
       "    }\n",
       "\n",
       "    .dataframe thead th {\n",
       "        text-align: right;\n",
       "    }\n",
       "</style>\n",
       "<table border=\"1\" class=\"dataframe\">\n",
       "  <thead>\n",
       "    <tr style=\"text-align: right;\">\n",
       "      <th></th>\n",
       "      <th>기간</th>\n",
       "      <th>구별</th>\n",
       "      <th>합계 발생</th>\n",
       "      <th>합계 검거</th>\n",
       "      <th>살인 발생</th>\n",
       "      <th>살인 검거</th>\n",
       "      <th>강도 발생</th>\n",
       "      <th>강도 검거</th>\n",
       "      <th>강간강제추행 발생</th>\n",
       "      <th>강간강제추행 검거</th>\n",
       "      <th>절도 발생</th>\n",
       "      <th>절도 검거</th>\n",
       "      <th>폭력 발생</th>\n",
       "      <th>폭력 검거</th>\n",
       "    </tr>\n",
       "  </thead>\n",
       "  <tbody>\n",
       "    <tr>\n",
       "      <th>0</th>\n",
       "      <td>기간</td>\n",
       "      <td>자치구</td>\n",
       "      <td>발생</td>\n",
       "      <td>검거</td>\n",
       "      <td>발생</td>\n",
       "      <td>검거</td>\n",
       "      <td>발생</td>\n",
       "      <td>검거</td>\n",
       "      <td>발생</td>\n",
       "      <td>검거</td>\n",
       "      <td>발생</td>\n",
       "      <td>검거</td>\n",
       "      <td>발생</td>\n",
       "      <td>검거</td>\n",
       "    </tr>\n",
       "    <tr>\n",
       "      <th>1</th>\n",
       "      <td>2018</td>\n",
       "      <td>합계</td>\n",
       "      <td>101,948</td>\n",
       "      <td>74,487</td>\n",
       "      <td>143</td>\n",
       "      <td>139</td>\n",
       "      <td>143</td>\n",
       "      <td>151</td>\n",
       "      <td>6,412</td>\n",
       "      <td>6,046</td>\n",
       "      <td>39,175</td>\n",
       "      <td>19,762</td>\n",
       "      <td>56,075</td>\n",
       "      <td>48,389</td>\n",
       "    </tr>\n",
       "    <tr>\n",
       "      <th>2</th>\n",
       "      <td>2018</td>\n",
       "      <td>종로구</td>\n",
       "      <td>3,690</td>\n",
       "      <td>3,913</td>\n",
       "      <td>6</td>\n",
       "      <td>7</td>\n",
       "      <td>3</td>\n",
       "      <td>7</td>\n",
       "      <td>236</td>\n",
       "      <td>1,100</td>\n",
       "      <td>1,483</td>\n",
       "      <td>969</td>\n",
       "      <td>1,962</td>\n",
       "      <td>1,830</td>\n",
       "    </tr>\n",
       "    <tr>\n",
       "      <th>3</th>\n",
       "      <td>2018</td>\n",
       "      <td>중구</td>\n",
       "      <td>4,030</td>\n",
       "      <td>2,679</td>\n",
       "      <td>2</td>\n",
       "      <td>2</td>\n",
       "      <td>11</td>\n",
       "      <td>11</td>\n",
       "      <td>207</td>\n",
       "      <td>115</td>\n",
       "      <td>1,855</td>\n",
       "      <td>832</td>\n",
       "      <td>1,955</td>\n",
       "      <td>1,719</td>\n",
       "    </tr>\n",
       "    <tr>\n",
       "      <th>4</th>\n",
       "      <td>2018</td>\n",
       "      <td>용산구</td>\n",
       "      <td>3,411</td>\n",
       "      <td>2,543</td>\n",
       "      <td>1</td>\n",
       "      <td>1</td>\n",
       "      <td>3</td>\n",
       "      <td>2</td>\n",
       "      <td>331</td>\n",
       "      <td>285</td>\n",
       "      <td>1,096</td>\n",
       "      <td>522</td>\n",
       "      <td>1,980</td>\n",
       "      <td>1,733</td>\n",
       "    </tr>\n",
       "  </tbody>\n",
       "</table>\n",
       "</div>"
      ],
      "text/plain": [
       "     기간   구별    합계 발생   합계 검거 살인 발생 살인 검거 강도 발생 강도 검거 강간강제추행 발생 강간강제추행 검거  \\\n",
       "0    기간  자치구       발생      검거    발생    검거    발생    검거        발생        검거   \n",
       "1  2018   합계  101,948  74,487   143   139   143   151     6,412     6,046   \n",
       "2  2018  종로구    3,690   3,913     6     7     3     7       236     1,100   \n",
       "3  2018   중구    4,030   2,679     2     2    11    11       207       115   \n",
       "4  2018  용산구    3,411   2,543     1     1     3     2       331       285   \n",
       "\n",
       "    절도 발생   절도 검거   폭력 발생   폭력 검거  \n",
       "0      발생      검거      발생      검거  \n",
       "1  39,175  19,762  56,075  48,389  \n",
       "2   1,483     969   1,962   1,830  \n",
       "3   1,855     832   1,955   1,719  \n",
       "4   1,096     522   1,980   1,733  "
      ]
     },
     "execution_count": 3,
     "metadata": {},
     "output_type": "execute_result"
    }
   ],
   "source": [
    "columns_name = ['기간', '구별','합계 발생','합계 검거','살인 발생','살인 검거','강도 발생','강도 검거',\n",
    "                '강간강제추행 발생', '강간강제추행 검거','절도 발생','절도 검거','폭력 발생','폭력 검거']\n",
    "crime.columns = columns_name\n",
    "crime.head()"
   ]
  },
  {
   "cell_type": "code",
   "execution_count": 4,
   "metadata": {},
   "outputs": [
    {
     "data": {
      "text/html": [
       "<div>\n",
       "<style scoped>\n",
       "    .dataframe tbody tr th:only-of-type {\n",
       "        vertical-align: middle;\n",
       "    }\n",
       "\n",
       "    .dataframe tbody tr th {\n",
       "        vertical-align: top;\n",
       "    }\n",
       "\n",
       "    .dataframe thead th {\n",
       "        text-align: right;\n",
       "    }\n",
       "</style>\n",
       "<table border=\"1\" class=\"dataframe\">\n",
       "  <thead>\n",
       "    <tr style=\"text-align: right;\">\n",
       "      <th></th>\n",
       "      <th>구별</th>\n",
       "      <th>합계 발생</th>\n",
       "      <th>합계 검거</th>\n",
       "      <th>살인 발생</th>\n",
       "      <th>살인 검거</th>\n",
       "      <th>강도 발생</th>\n",
       "      <th>강도 검거</th>\n",
       "      <th>강간강제추행 발생</th>\n",
       "      <th>강간강제추행 검거</th>\n",
       "      <th>절도 발생</th>\n",
       "      <th>절도 검거</th>\n",
       "      <th>폭력 발생</th>\n",
       "      <th>폭력 검거</th>\n",
       "    </tr>\n",
       "  </thead>\n",
       "  <tbody>\n",
       "    <tr>\n",
       "      <th>0</th>\n",
       "      <td>종로구</td>\n",
       "      <td>3,690</td>\n",
       "      <td>3,913</td>\n",
       "      <td>6</td>\n",
       "      <td>7</td>\n",
       "      <td>3</td>\n",
       "      <td>7</td>\n",
       "      <td>236</td>\n",
       "      <td>1,100</td>\n",
       "      <td>1,483</td>\n",
       "      <td>969</td>\n",
       "      <td>1,962</td>\n",
       "      <td>1,830</td>\n",
       "    </tr>\n",
       "    <tr>\n",
       "      <th>1</th>\n",
       "      <td>중구</td>\n",
       "      <td>4,030</td>\n",
       "      <td>2,679</td>\n",
       "      <td>2</td>\n",
       "      <td>2</td>\n",
       "      <td>11</td>\n",
       "      <td>11</td>\n",
       "      <td>207</td>\n",
       "      <td>115</td>\n",
       "      <td>1,855</td>\n",
       "      <td>832</td>\n",
       "      <td>1,955</td>\n",
       "      <td>1,719</td>\n",
       "    </tr>\n",
       "    <tr>\n",
       "      <th>2</th>\n",
       "      <td>용산구</td>\n",
       "      <td>3,411</td>\n",
       "      <td>2,543</td>\n",
       "      <td>1</td>\n",
       "      <td>1</td>\n",
       "      <td>3</td>\n",
       "      <td>2</td>\n",
       "      <td>331</td>\n",
       "      <td>285</td>\n",
       "      <td>1,096</td>\n",
       "      <td>522</td>\n",
       "      <td>1,980</td>\n",
       "      <td>1,733</td>\n",
       "    </tr>\n",
       "    <tr>\n",
       "      <th>3</th>\n",
       "      <td>성동구</td>\n",
       "      <td>2,457</td>\n",
       "      <td>1,787</td>\n",
       "      <td>2</td>\n",
       "      <td>2</td>\n",
       "      <td>5</td>\n",
       "      <td>8</td>\n",
       "      <td>126</td>\n",
       "      <td>102</td>\n",
       "      <td>999</td>\n",
       "      <td>487</td>\n",
       "      <td>1,325</td>\n",
       "      <td>1,188</td>\n",
       "    </tr>\n",
       "    <tr>\n",
       "      <th>4</th>\n",
       "      <td>광진구</td>\n",
       "      <td>3,915</td>\n",
       "      <td>2,789</td>\n",
       "      <td>7</td>\n",
       "      <td>5</td>\n",
       "      <td>2</td>\n",
       "      <td>1</td>\n",
       "      <td>229</td>\n",
       "      <td>184</td>\n",
       "      <td>1,769</td>\n",
       "      <td>974</td>\n",
       "      <td>1,908</td>\n",
       "      <td>1,625</td>\n",
       "    </tr>\n",
       "  </tbody>\n",
       "</table>\n",
       "</div>"
      ],
      "text/plain": [
       "    구별  합계 발생  합계 검거 살인 발생 살인 검거 강도 발생 강도 검거 강간강제추행 발생 강간강제추행 검거  절도 발생 절도 검거  \\\n",
       "0  종로구  3,690  3,913     6     7     3     7       236     1,100  1,483   969   \n",
       "1   중구  4,030  2,679     2     2    11    11       207       115  1,855   832   \n",
       "2  용산구  3,411  2,543     1     1     3     2       331       285  1,096   522   \n",
       "3  성동구  2,457  1,787     2     2     5     8       126       102    999   487   \n",
       "4  광진구  3,915  2,789     7     5     2     1       229       184  1,769   974   \n",
       "\n",
       "   폭력 발생  폭력 검거  \n",
       "0  1,962  1,830  \n",
       "1  1,955  1,719  \n",
       "2  1,980  1,733  \n",
       "3  1,325  1,188  \n",
       "4  1,908  1,625  "
      ]
     },
     "execution_count": 4,
     "metadata": {},
     "output_type": "execute_result"
    }
   ],
   "source": [
    "crime.drop([0,1], inplace=True)\n",
    "crime.drop('기간',1, inplace=True) # 모두 2018년 데이터이므로! \n",
    "crime.reset_index(drop=True, inplace=True)\n",
    "crime.head()"
   ]
  },
  {
   "cell_type": "code",
   "execution_count": 5,
   "metadata": {},
   "outputs": [
    {
     "data": {
      "text/plain": [
       "(25, 13)"
      ]
     },
     "execution_count": 5,
     "metadata": {},
     "output_type": "execute_result"
    }
   ],
   "source": [
    "crime.shape"
   ]
  },
  {
   "cell_type": "code",
   "execution_count": 6,
   "metadata": {},
   "outputs": [
    {
     "name": "stdout",
     "output_type": "stream",
     "text": [
      "<class 'pandas.core.frame.DataFrame'>\n",
      "RangeIndex: 25 entries, 0 to 24\n",
      "Data columns (total 13 columns):\n",
      "구별           25 non-null object\n",
      "합계 발생        25 non-null object\n",
      "합계 검거        25 non-null object\n",
      "살인 발생        25 non-null object\n",
      "살인 검거        25 non-null object\n",
      "강도 발생        25 non-null object\n",
      "강도 검거        25 non-null object\n",
      "강간강제추행 발생    25 non-null object\n",
      "강간강제추행 검거    25 non-null object\n",
      "절도 발생        25 non-null object\n",
      "절도 검거        25 non-null object\n",
      "폭력 발생        25 non-null object\n",
      "폭력 검거        25 non-null object\n",
      "dtypes: object(13)\n",
      "memory usage: 2.7+ KB\n"
     ]
    }
   ],
   "source": [
    "crime.info()"
   ]
  },
  {
   "cell_type": "code",
   "execution_count": 7,
   "metadata": {},
   "outputs": [
    {
     "name": "stdout",
     "output_type": "stream",
     "text": [
      "<class 'pandas.core.frame.DataFrame'>\n",
      "RangeIndex: 25 entries, 0 to 24\n",
      "Data columns (total 13 columns):\n",
      "구별           25 non-null object\n",
      "합계 발생        25 non-null int64\n",
      "합계 검거        25 non-null int64\n",
      "살인 발생        25 non-null int64\n",
      "살인 검거        25 non-null int64\n",
      "강도 발생        25 non-null int64\n",
      "강도 검거        25 non-null int64\n",
      "강간강제추행 발생    25 non-null int64\n",
      "강간강제추행 검거    25 non-null int64\n",
      "절도 발생        25 non-null int64\n",
      "절도 검거        25 non-null int64\n",
      "폭력 발생        25 non-null int64\n",
      "폭력 검거        25 non-null int64\n",
      "dtypes: int64(12), object(1)\n",
      "memory usage: 2.7+ KB\n"
     ]
    }
   ],
   "source": [
    "# object에서 int로 변경됨! \n",
    "for column in list(crime.columns)[1:]:\n",
    "    crime[column] = crime[column].str.replace(',', '').astype('int64')\n",
    "crime.info()"
   ]
  },
  {
   "cell_type": "code",
   "execution_count": 8,
   "metadata": {},
   "outputs": [
    {
     "data": {
      "text/html": [
       "<div>\n",
       "<style scoped>\n",
       "    .dataframe tbody tr th:only-of-type {\n",
       "        vertical-align: middle;\n",
       "    }\n",
       "\n",
       "    .dataframe tbody tr th {\n",
       "        vertical-align: top;\n",
       "    }\n",
       "\n",
       "    .dataframe thead th {\n",
       "        text-align: right;\n",
       "    }\n",
       "</style>\n",
       "<table border=\"1\" class=\"dataframe\">\n",
       "  <thead>\n",
       "    <tr style=\"text-align: right;\">\n",
       "      <th></th>\n",
       "      <th>구별</th>\n",
       "      <th>합계 발생</th>\n",
       "      <th>합계 검거</th>\n",
       "      <th>살인 발생</th>\n",
       "      <th>살인 검거</th>\n",
       "      <th>강도 발생</th>\n",
       "      <th>강도 검거</th>\n",
       "      <th>강간강제추행 발생</th>\n",
       "      <th>강간강제추행 검거</th>\n",
       "      <th>절도 발생</th>\n",
       "      <th>절도 검거</th>\n",
       "      <th>폭력 발생</th>\n",
       "      <th>폭력 검거</th>\n",
       "    </tr>\n",
       "  </thead>\n",
       "  <tbody>\n",
       "    <tr>\n",
       "      <th>0</th>\n",
       "      <td>종로구</td>\n",
       "      <td>3690</td>\n",
       "      <td>3913</td>\n",
       "      <td>6</td>\n",
       "      <td>7</td>\n",
       "      <td>3</td>\n",
       "      <td>7</td>\n",
       "      <td>236</td>\n",
       "      <td>1100</td>\n",
       "      <td>1483</td>\n",
       "      <td>969</td>\n",
       "      <td>1962</td>\n",
       "      <td>1830</td>\n",
       "    </tr>\n",
       "    <tr>\n",
       "      <th>1</th>\n",
       "      <td>중구</td>\n",
       "      <td>4030</td>\n",
       "      <td>2679</td>\n",
       "      <td>2</td>\n",
       "      <td>2</td>\n",
       "      <td>11</td>\n",
       "      <td>11</td>\n",
       "      <td>207</td>\n",
       "      <td>115</td>\n",
       "      <td>1855</td>\n",
       "      <td>832</td>\n",
       "      <td>1955</td>\n",
       "      <td>1719</td>\n",
       "    </tr>\n",
       "    <tr>\n",
       "      <th>2</th>\n",
       "      <td>용산구</td>\n",
       "      <td>3411</td>\n",
       "      <td>2543</td>\n",
       "      <td>1</td>\n",
       "      <td>1</td>\n",
       "      <td>3</td>\n",
       "      <td>2</td>\n",
       "      <td>331</td>\n",
       "      <td>285</td>\n",
       "      <td>1096</td>\n",
       "      <td>522</td>\n",
       "      <td>1980</td>\n",
       "      <td>1733</td>\n",
       "    </tr>\n",
       "    <tr>\n",
       "      <th>3</th>\n",
       "      <td>성동구</td>\n",
       "      <td>2457</td>\n",
       "      <td>1787</td>\n",
       "      <td>2</td>\n",
       "      <td>2</td>\n",
       "      <td>5</td>\n",
       "      <td>8</td>\n",
       "      <td>126</td>\n",
       "      <td>102</td>\n",
       "      <td>999</td>\n",
       "      <td>487</td>\n",
       "      <td>1325</td>\n",
       "      <td>1188</td>\n",
       "    </tr>\n",
       "    <tr>\n",
       "      <th>4</th>\n",
       "      <td>광진구</td>\n",
       "      <td>3915</td>\n",
       "      <td>2789</td>\n",
       "      <td>7</td>\n",
       "      <td>5</td>\n",
       "      <td>2</td>\n",
       "      <td>1</td>\n",
       "      <td>229</td>\n",
       "      <td>184</td>\n",
       "      <td>1769</td>\n",
       "      <td>974</td>\n",
       "      <td>1908</td>\n",
       "      <td>1625</td>\n",
       "    </tr>\n",
       "  </tbody>\n",
       "</table>\n",
       "</div>"
      ],
      "text/plain": [
       "    구별  합계 발생  합계 검거  살인 발생  살인 검거  강도 발생  강도 검거  강간강제추행 발생  강간강제추행 검거  절도 발생  \\\n",
       "0  종로구   3690   3913      6      7      3      7        236       1100   1483   \n",
       "1   중구   4030   2679      2      2     11     11        207        115   1855   \n",
       "2  용산구   3411   2543      1      1      3      2        331        285   1096   \n",
       "3  성동구   2457   1787      2      2      5      8        126        102    999   \n",
       "4  광진구   3915   2789      7      5      2      1        229        184   1769   \n",
       "\n",
       "   절도 검거  폭력 발생  폭력 검거  \n",
       "0    969   1962   1830  \n",
       "1    832   1955   1719  \n",
       "2    522   1980   1733  \n",
       "3    487   1325   1188  \n",
       "4    974   1908   1625  "
      ]
     },
     "execution_count": 8,
     "metadata": {},
     "output_type": "execute_result"
    }
   ],
   "source": [
    "crime.head()"
   ]
  },
  {
   "cell_type": "markdown",
   "metadata": {},
   "source": [
    "#### 서울시 자치구 년도별 CCTV 현황 데이터"
   ]
  },
  {
   "cell_type": "code",
   "execution_count": 9,
   "metadata": {},
   "outputs": [
    {
     "data": {
      "text/html": [
       "<div>\n",
       "<style scoped>\n",
       "    .dataframe tbody tr th:only-of-type {\n",
       "        vertical-align: middle;\n",
       "    }\n",
       "\n",
       "    .dataframe tbody tr th {\n",
       "        vertical-align: top;\n",
       "    }\n",
       "\n",
       "    .dataframe thead th {\n",
       "        text-align: right;\n",
       "    }\n",
       "</style>\n",
       "<table border=\"1\" class=\"dataframe\">\n",
       "  <thead>\n",
       "    <tr style=\"text-align: right;\">\n",
       "      <th></th>\n",
       "      <th>기관명</th>\n",
       "      <th>소계</th>\n",
       "      <th>2011년 이전</th>\n",
       "      <th>2012년</th>\n",
       "      <th>2013년</th>\n",
       "      <th>2014년</th>\n",
       "      <th>2015년</th>\n",
       "      <th>2016년</th>\n",
       "      <th>2017년</th>\n",
       "      <th>2018년</th>\n",
       "    </tr>\n",
       "  </thead>\n",
       "  <tbody>\n",
       "    <tr>\n",
       "      <th>0</th>\n",
       "      <td>강 남 구</td>\n",
       "      <td>5221</td>\n",
       "      <td>1944.0</td>\n",
       "      <td>195.0</td>\n",
       "      <td>316.0</td>\n",
       "      <td>430</td>\n",
       "      <td>546</td>\n",
       "      <td>765</td>\n",
       "      <td>577</td>\n",
       "      <td>448</td>\n",
       "    </tr>\n",
       "    <tr>\n",
       "      <th>1</th>\n",
       "      <td>강 동 구</td>\n",
       "      <td>1879</td>\n",
       "      <td>303.0</td>\n",
       "      <td>387.0</td>\n",
       "      <td>134.0</td>\n",
       "      <td>59</td>\n",
       "      <td>144</td>\n",
       "      <td>194</td>\n",
       "      <td>273</td>\n",
       "      <td>385</td>\n",
       "    </tr>\n",
       "    <tr>\n",
       "      <th>2</th>\n",
       "      <td>강 북 구</td>\n",
       "      <td>1265</td>\n",
       "      <td>243.0</td>\n",
       "      <td>88.0</td>\n",
       "      <td>141.0</td>\n",
       "      <td>74</td>\n",
       "      <td>145</td>\n",
       "      <td>254</td>\n",
       "      <td>1</td>\n",
       "      <td>319</td>\n",
       "    </tr>\n",
       "    <tr>\n",
       "      <th>3</th>\n",
       "      <td>강 서 구</td>\n",
       "      <td>1617</td>\n",
       "      <td>219.0</td>\n",
       "      <td>155.0</td>\n",
       "      <td>118.0</td>\n",
       "      <td>230</td>\n",
       "      <td>187</td>\n",
       "      <td>190</td>\n",
       "      <td>264</td>\n",
       "      <td>254</td>\n",
       "    </tr>\n",
       "    <tr>\n",
       "      <th>4</th>\n",
       "      <td>관 악 구</td>\n",
       "      <td>3985</td>\n",
       "      <td>430.0</td>\n",
       "      <td>56.0</td>\n",
       "      <td>419.0</td>\n",
       "      <td>487</td>\n",
       "      <td>609</td>\n",
       "      <td>619</td>\n",
       "      <td>694</td>\n",
       "      <td>671</td>\n",
       "    </tr>\n",
       "  </tbody>\n",
       "</table>\n",
       "</div>"
      ],
      "text/plain": [
       "     기관명    소계  2011년 이전  2012년  2013년  2014년  2015년  2016년  2017년  2018년\n",
       "0  강 남 구  5221    1944.0  195.0  316.0    430    546    765    577    448\n",
       "1  강 동 구  1879     303.0  387.0  134.0     59    144    194    273    385\n",
       "2  강 북 구  1265     243.0   88.0  141.0     74    145    254      1    319\n",
       "3  강 서 구  1617     219.0  155.0  118.0    230    187    190    264    254\n",
       "4  관 악 구  3985     430.0   56.0  419.0    487    609    619    694    671"
      ]
     },
     "execution_count": 9,
     "metadata": {},
     "output_type": "execute_result"
    }
   ],
   "source": [
    "cctv = pd.read_excel('서울시 자치구 년도별 CCTV 설치 현황.xlsx')\n",
    "cctv.head()"
   ]
  },
  {
   "cell_type": "code",
   "execution_count": 10,
   "metadata": {},
   "outputs": [
    {
     "name": "stdout",
     "output_type": "stream",
     "text": [
      "<class 'pandas.core.frame.DataFrame'>\n",
      "RangeIndex: 25 entries, 0 to 24\n",
      "Data columns (total 10 columns):\n",
      "기관명         25 non-null object\n",
      "소계          25 non-null int64\n",
      "2011년 이전    23 non-null float64\n",
      "2012년       23 non-null float64\n",
      "2013년       23 non-null float64\n",
      "2014년       25 non-null int64\n",
      "2015년       25 non-null int64\n",
      "2016년       25 non-null int64\n",
      "2017년       25 non-null int64\n",
      "2018년       25 non-null int64\n",
      "dtypes: float64(3), int64(6), object(1)\n",
      "memory usage: 2.1+ KB\n"
     ]
    }
   ],
   "source": [
    "cctv.info()"
   ]
  },
  {
   "cell_type": "code",
   "execution_count": 11,
   "metadata": {},
   "outputs": [
    {
     "data": {
      "text/plain": [
       "array(['구별', '소계', '2011년 이전', '2012년', '2013년', '2014년', '2015년',\n",
       "       '2016년', '2017년', '2018년'], dtype=object)"
      ]
     },
     "execution_count": 11,
     "metadata": {},
     "output_type": "execute_result"
    }
   ],
   "source": [
    "cctv = cctv.rename({'기관명': '구별'}, axis='columns')\n",
    "cctv.columns.values"
   ]
  },
  {
   "cell_type": "code",
   "execution_count": 12,
   "metadata": {},
   "outputs": [],
   "source": [
    "def rename_gu(x): \n",
    "    gu = x.split(' ')\n",
    "    gu_new = ''.join(gu)\n",
    "    return gu_new "
   ]
  },
  {
   "cell_type": "code",
   "execution_count": 13,
   "metadata": {},
   "outputs": [
    {
     "data": {
      "text/plain": [
       "array(['강남구', '강동구', '강북구', '강서구', '관악구', '광진구', '구로구', '금천구', '노원구',\n",
       "       '도봉구', '동대문구', '동작구', '마포구', '서대문구', '서초구', '성동구', '성북구', '송파구',\n",
       "       '양천구', '영등포구', '용산구', '은평구', '종로구', '중구', '중랑구'], dtype=object)"
      ]
     },
     "execution_count": 13,
     "metadata": {},
     "output_type": "execute_result"
    }
   ],
   "source": [
    "# 이름 잘 정리됨. \n",
    "cctv['구별'] = cctv['구별'].apply(lambda x: rename_gu(x))\n",
    "cctv['구별'].values"
   ]
  },
  {
   "cell_type": "code",
   "execution_count": 14,
   "metadata": {},
   "outputs": [
    {
     "data": {
      "text/plain": [
       "(25, 10)"
      ]
     },
     "execution_count": 14,
     "metadata": {},
     "output_type": "execute_result"
    }
   ],
   "source": [
    "cctv.shape"
   ]
  },
  {
   "cell_type": "code",
   "execution_count": 15,
   "metadata": {},
   "outputs": [
    {
     "data": {
      "text/html": [
       "<div>\n",
       "<style scoped>\n",
       "    .dataframe tbody tr th:only-of-type {\n",
       "        vertical-align: middle;\n",
       "    }\n",
       "\n",
       "    .dataframe tbody tr th {\n",
       "        vertical-align: top;\n",
       "    }\n",
       "\n",
       "    .dataframe thead th {\n",
       "        text-align: right;\n",
       "    }\n",
       "</style>\n",
       "<table border=\"1\" class=\"dataframe\">\n",
       "  <thead>\n",
       "    <tr style=\"text-align: right;\">\n",
       "      <th></th>\n",
       "      <th>구별</th>\n",
       "      <th>소계</th>\n",
       "      <th>2011년 이전</th>\n",
       "      <th>2012년</th>\n",
       "      <th>2013년</th>\n",
       "      <th>2014년</th>\n",
       "      <th>2015년</th>\n",
       "      <th>2016년</th>\n",
       "      <th>2017년</th>\n",
       "      <th>2018년</th>\n",
       "    </tr>\n",
       "  </thead>\n",
       "  <tbody>\n",
       "    <tr>\n",
       "      <th>0</th>\n",
       "      <td>강남구</td>\n",
       "      <td>5221</td>\n",
       "      <td>1944.0</td>\n",
       "      <td>195.0</td>\n",
       "      <td>316.0</td>\n",
       "      <td>430</td>\n",
       "      <td>546</td>\n",
       "      <td>765</td>\n",
       "      <td>577</td>\n",
       "      <td>448</td>\n",
       "    </tr>\n",
       "    <tr>\n",
       "      <th>1</th>\n",
       "      <td>강동구</td>\n",
       "      <td>1879</td>\n",
       "      <td>303.0</td>\n",
       "      <td>387.0</td>\n",
       "      <td>134.0</td>\n",
       "      <td>59</td>\n",
       "      <td>144</td>\n",
       "      <td>194</td>\n",
       "      <td>273</td>\n",
       "      <td>385</td>\n",
       "    </tr>\n",
       "    <tr>\n",
       "      <th>2</th>\n",
       "      <td>강북구</td>\n",
       "      <td>1265</td>\n",
       "      <td>243.0</td>\n",
       "      <td>88.0</td>\n",
       "      <td>141.0</td>\n",
       "      <td>74</td>\n",
       "      <td>145</td>\n",
       "      <td>254</td>\n",
       "      <td>1</td>\n",
       "      <td>319</td>\n",
       "    </tr>\n",
       "    <tr>\n",
       "      <th>3</th>\n",
       "      <td>강서구</td>\n",
       "      <td>1617</td>\n",
       "      <td>219.0</td>\n",
       "      <td>155.0</td>\n",
       "      <td>118.0</td>\n",
       "      <td>230</td>\n",
       "      <td>187</td>\n",
       "      <td>190</td>\n",
       "      <td>264</td>\n",
       "      <td>254</td>\n",
       "    </tr>\n",
       "    <tr>\n",
       "      <th>4</th>\n",
       "      <td>관악구</td>\n",
       "      <td>3985</td>\n",
       "      <td>430.0</td>\n",
       "      <td>56.0</td>\n",
       "      <td>419.0</td>\n",
       "      <td>487</td>\n",
       "      <td>609</td>\n",
       "      <td>619</td>\n",
       "      <td>694</td>\n",
       "      <td>671</td>\n",
       "    </tr>\n",
       "  </tbody>\n",
       "</table>\n",
       "</div>"
      ],
      "text/plain": [
       "    구별    소계  2011년 이전  2012년  2013년  2014년  2015년  2016년  2017년  2018년\n",
       "0  강남구  5221    1944.0  195.0  316.0    430    546    765    577    448\n",
       "1  강동구  1879     303.0  387.0  134.0     59    144    194    273    385\n",
       "2  강북구  1265     243.0   88.0  141.0     74    145    254      1    319\n",
       "3  강서구  1617     219.0  155.0  118.0    230    187    190    264    254\n",
       "4  관악구  3985     430.0   56.0  419.0    487    609    619    694    671"
      ]
     },
     "execution_count": 15,
     "metadata": {},
     "output_type": "execute_result"
    }
   ],
   "source": [
    "cctv.head()"
   ]
  },
  {
   "cell_type": "markdown",
   "metadata": {},
   "source": [
    "이후, **구별**을 기준으로 merge 해줄 것이므로 구별이 서로 같아야함! "
   ]
  },
  {
   "cell_type": "code",
   "execution_count": 16,
   "metadata": {},
   "outputs": [
    {
     "data": {
      "text/plain": [
       "set()"
      ]
     },
     "execution_count": 16,
     "metadata": {},
     "output_type": "execute_result"
    }
   ],
   "source": [
    "set(cctv['구별'].unique()) - set(crime['구별'].unique())"
   ]
  },
  {
   "cell_type": "code",
   "execution_count": 17,
   "metadata": {},
   "outputs": [
    {
     "data": {
      "text/plain": [
       "set()"
      ]
     },
     "execution_count": 17,
     "metadata": {},
     "output_type": "execute_result"
    }
   ],
   "source": [
    "set(crime['구별'].unique()) - set(cctv['구별'].unique())"
   ]
  },
  {
   "cell_type": "code",
   "execution_count": null,
   "metadata": {},
   "outputs": [],
   "source": []
  },
  {
   "cell_type": "markdown",
   "metadata": {},
   "source": [
    "### 탐색적 데이터 분석\n",
    "\n",
    "#### 결측치 데이터 살피기"
   ]
  },
  {
   "cell_type": "code",
   "execution_count": 18,
   "metadata": {},
   "outputs": [
    {
     "data": {
      "text/plain": [
       "구별           0\n",
       "합계 발생        0\n",
       "합계 검거        0\n",
       "살인 발생        0\n",
       "살인 검거        0\n",
       "강도 발생        0\n",
       "강도 검거        0\n",
       "강간강제추행 발생    0\n",
       "강간강제추행 검거    0\n",
       "절도 발생        0\n",
       "절도 검거        0\n",
       "폭력 발생        0\n",
       "폭력 검거        0\n",
       "dtype: int64"
      ]
     },
     "execution_count": 18,
     "metadata": {},
     "output_type": "execute_result"
    }
   ],
   "source": [
    "crime.isnull().sum()"
   ]
  },
  {
   "cell_type": "code",
   "execution_count": 19,
   "metadata": {},
   "outputs": [
    {
     "data": {
      "text/plain": [
       "구별          0\n",
       "소계          0\n",
       "2011년 이전    2\n",
       "2012년       2\n",
       "2013년       2\n",
       "2014년       0\n",
       "2015년       0\n",
       "2016년       0\n",
       "2017년       0\n",
       "2018년       0\n",
       "dtype: int64"
      ]
     },
     "execution_count": 19,
     "metadata": {},
     "output_type": "execute_result"
    }
   ],
   "source": [
    "cctv.isnull().sum()"
   ]
  },
  {
   "cell_type": "code",
   "execution_count": null,
   "metadata": {},
   "outputs": [],
   "source": []
  }
 ],
 "metadata": {
  "kernelspec": {
   "display_name": "Python 3",
   "language": "python",
   "name": "python3"
  },
  "language_info": {
   "codemirror_mode": {
    "name": "ipython",
    "version": 3
   },
   "file_extension": ".py",
   "mimetype": "text/x-python",
   "name": "python",
   "nbconvert_exporter": "python",
   "pygments_lexer": "ipython3",
   "version": "3.7.6"
  }
 },
 "nbformat": 4,
 "nbformat_minor": 2
}
