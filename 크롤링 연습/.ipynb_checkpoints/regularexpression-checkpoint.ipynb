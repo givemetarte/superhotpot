{
 "cells": [
  {
   "cell_type": "markdown",
   "metadata": {},
   "source": [
    "## 예제: 왜 정규표현식이 필요할까?"
   ]
  },
  {
   "cell_type": "code",
   "execution_count": 11,
   "metadata": {},
   "outputs": [
    {
     "name": "stdout",
     "output_type": "stream",
     "text": [
      "  죽지도 않고 또 왔네 : 애플 아이팟 터치 7세대  [1]\n",
      "  갤럭시 폴드 출시 연기 ㅋㅋ  [5]\n",
      "  월 1만원 아끼려고…넷플릭스 인기에 '계정 공유' 플랫폼 성황  [6]\n",
      "  美, 화웨이 이은 ‘틱톡’ … 제2 보안 위협 지목  [2]\n",
      "  [이진욱의 전자수첩] '폴더블폰' 기다렸더니…'경첩' 내미는 LG의 짠내  [2]\n",
      "  LG전자 비밀병기 '듀얼 디스플레이폰'의 정체   [4]\n",
      "  LG전자, 스마트폰 위축속 TV도 '안갯속'…OLED 치킨게임 전초전  \n",
      "  LG전자, MC부진으로 충격적 '어닝쇼크'…권봉석 사장 체제 '흔들'  [3]\n",
      "  ‘영업익 3조’ 꿈 무너진 LG전자, 발목 잡은 스마트폰 15분기 연속적자(종합)  [2]\n",
      "  삼성은 하는데…LG전자, 올해부터 게임 등급 못 매긴다  [1]\n",
      "  \"과징금 낼래, 특허訴 포기할래\"…삼성·SK 반도체 '겁박'한 중국  [3]\n",
      "  내년도 암울한 LG 스마트폰, '사업본부' 지위도 반납?   [1]\n",
      "  LG전자, '초콜릿폰' 주역 전면에…후속 조직개편 마무리   [3]\n",
      "  방탄소년단 모델로 앞세운 구광모 회장의 '실패작' LG폰의 충격 근황  [3]\n",
      "  \"LG전자 갑질에 공장 문닫게 됐다\" 정의당, '불공정·갑질 피해 증언대회'서 피해 업체 '울분'  [1]\n",
      "  소니코리아, 시그니처 시리즈 뮤직 플레이어·이어폰 출시  [4]\n",
      "  역대 최악' 삼성 스마트폰 사업..올해 최대성과급 기대 못해  [7]\n",
      "  애플, 또 한국 차별…\"애플케어+ 가입 차단\"  [14]\n",
      "  피아톤 무선 이어폰, 와디즈에서 10분만에 1억원 펀딩  [1]\n",
      "  LG전자, 1년만에 MC사업본부장 교체  [3]\n",
      "  애플 \"아이폰XR은 최고 인기모델\"  [12]\n",
      "  슈어 수입사 삼아사운드 일본에 팔려  [1]\n",
      "  7인치 화면 시대 열리는데…'접으면 4인치' 폴더블폰 성공할까  [13]\n",
      "  \"삼성 스마트폰, 중국서 3분기 60만대만 판매\"  \n",
      "  中 광군제 애플·삼성 스마트폰 매출 '희비'  [5]\n"
     ]
    }
   ],
   "source": [
    "from urllib.request import urlopen\n",
    "from bs4 import BeautifulSoup\n",
    "import re\n",
    "\n",
    "for index in range(1, 2):\n",
    "    res = urlopen('https://www.seeko.kr/zboard4/zboard.php?id=mainnews&page=' + str(index) + '&select_arrange=headnum&desc=asc&category=&sn=off&ss=on&sc=off&keyword=&sn1=&divpage=10')\n",
    "    soup = BeautifulSoup(res, \"html.parser\")\n",
    "\n",
    "    data = soup.find_all('td', 'article_subject')\n",
    "    for item in data:\n",
    "        print (item.get_text())"
   ]
  },
  {
   "cell_type": "code",
   "execution_count": 117,
   "metadata": {},
   "outputs": [
    {
     "name": "stdout",
     "output_type": "stream",
     "text": [
      "  죽지도 않고 또 왔네 : 애플 아이팟 터치 7세대  \n",
      "  갤럭시 폴드 출시 연기 ㅋㅋ  \n",
      "  월 1만원 아끼려고…넷플릭스 인기에 '계정 공유' 플랫폼 성황  \n",
      "  美, 화웨이 이은 ‘틱톡’ … 제2 보안 위협 지목  \n",
      "  [이진욱의 전자수첩] '폴더블폰' 기다렸더니…'경첩' 내미는 LG의 짠내  \n",
      "  LG전자 비밀병기 '듀얼 디스플레이폰'의 정체   \n",
      "  LG전자, 스마트폰 위축속 TV도 '안갯속'…OLED 치킨게임 전초전  \n",
      "  LG전자, MC부진으로 충격적 '어닝쇼크'…권봉석 사장 체제 '흔들'  \n",
      "  ‘영업익 3조’ 꿈 무너진 LG전자, 발목 잡은 스마트폰 15분기 연속적자(종합)  \n",
      "  삼성은 하는데…LG전자, 올해부터 게임 등급 못 매긴다  \n",
      "  \"과징금 낼래, 특허訴 포기할래\"…삼성·SK 반도체 '겁박'한 중국  \n",
      "  내년도 암울한 LG 스마트폰, '사업본부' 지위도 반납?   \n",
      "  LG전자, '초콜릿폰' 주역 전면에…후속 조직개편 마무리   \n",
      "  방탄소년단 모델로 앞세운 구광모 회장의 '실패작' LG폰의 충격 근황  \n",
      "  \"LG전자 갑질에 공장 문닫게 됐다\" 정의당, '불공정·갑질 피해 증언대회'서 피해 업체 '울분'  \n",
      "  소니코리아, 시그니처 시리즈 뮤직 플레이어·이어폰 출시  \n",
      "  역대 최악' 삼성 스마트폰 사업..올해 최대성과급 기대 못해  \n",
      "  애플, 또 한국 차별…\"애플케어+ 가입 차단\"  \n",
      "  피아톤 무선 이어폰, 와디즈에서 10분만에 1억원 펀딩  \n",
      "  LG전자, 1년만에 MC사업본부장 교체  \n",
      "  애플 \"아이폰XR은 최고 인기모델\"  \n",
      "  슈어 수입사 삼아사운드 일본에 팔려  \n",
      "  7인치 화면 시대 열리는데…'접으면 4인치' 폴더블폰 성공할까  \n",
      "  \"삼성 스마트폰, 중국서 3분기 60만대만 판매\"  \n",
      "  中 광군제 애플·삼성 스마트폰 매출 '희비'  \n"
     ]
    }
   ],
   "source": [
    "from urllib.request import urlopen\n",
    "from bs4 import BeautifulSoup\n",
    "import re\n",
    "\n",
    "for index in range(1, 2):\n",
    "    res = urlopen('https://www.seeko.kr/zboard4/zboard.php?id=mainnews&page=' + str(index) + '&select_arrange=headnum&desc=asc&category=&sn=off&ss=on&sc=off&keyword=&sn1=&divpage=10')\n",
    "    soup = BeautifulSoup(res, \"html.parser\")\n",
    "\n",
    "    data = soup.find_all('td', 'article_subject')\n",
    "    for item in data:\n",
    "        print (re.sub('\\[[0-9]+\\]', '', item.get_text()) )"
   ]
  },
  {
   "cell_type": "code",
   "execution_count": null,
   "metadata": {},
   "outputs": [],
   "source": []
  },
  {
   "cell_type": "markdown",
   "metadata": {},
   "source": [
    "## 정규표현식"
   ]
  },
  {
   "cell_type": "markdown",
   "metadata": {},
   "source": [
    "<div class=\"alert alert-block alert-success\">\n",
    "<strong><font color=\"blue\" size=\"4em\">프로그래밍 연습(생각만 해보기)</font></strong><br>\n",
    "다음 코드를 실행해보고, 이름 정보를 통해 남자인지, 여자인지, 기타인지(남녀 구별 불가)를 확인할 수 있는 방법 생각해보기\n",
    "</div>\n",
    "<pre>\n",
    "import openpyxl\n",
    " \n",
    "## 엑셀파일 열기\n",
    "work_book = openpyxl.load_workbook('train.xlsx')\n",
    " \n",
    "## 현재 Active Sheet 얻기\n",
    "work_sheet = work_book.active\n",
    "\n",
    "## work_sheet.rows는 해당 쉬트의 모든 행을 객체로 가지고 있음\n",
    "for each_row in work_sheet.rows:\n",
    "    print (each_row[3].value)\n",
    "    \n",
    "work_book.close()\n",
    "</pre>"
   ]
  },
  {
   "cell_type": "markdown",
   "metadata": {},
   "source": [
    "### 세 라인의 코드를 추가하면 이름의 특징을 추출할 수 있음\n",
    "<pre>\n",
    "import re\n",
    "regex = re.compile('[A-Za-z]+\\.')\n",
    "print ( regex.findall('찾을 문자열') )\n",
    "</pre>"
   ]
  },
  {
   "cell_type": "code",
   "execution_count": null,
   "metadata": {},
   "outputs": [],
   "source": [
    "import openpyxl\n",
    "import re\n",
    "\n",
    "regex = re.compile(' [A-Za-z]+\\.')\n",
    "# 엑셀파일 열기\n",
    "work_book = openpyxl.load_workbook('train.xlsx')\n",
    "\n",
    "# 현재 Active Sheet 얻기\n",
    "work_sheet = work_book.active\n",
    "\n",
    "# work_sheet.rows는 해당 쉬트의 모든 행을 객체로 가지고 있음\n",
    "for each_row in work_sheet.rows:\n",
    "    print (each_row[3].value)\n",
    "    print (regex.findall(each_row[3].value))    \n",
    "\n",
    "work_book.close()"
   ]
  },
  {
   "cell_type": "markdown",
   "metadata": {},
   "source": [
    "### 이름 데이터만 보고 성별관련 정보 알아내기"
   ]
  },
  {
   "cell_type": "markdown",
   "metadata": {},
   "source": [
    "### ' [A-Za-z]+\\.' --> regular expression 이라고 함\n",
    "* 특정한 규칙을 가진 문자열의 집합을 표현하는 데 사용하는 형식"
   ]
  },
  {
   "cell_type": "code",
   "execution_count": null,
   "metadata": {},
   "outputs": [],
   "source": [
    "import openpyxl\n",
    "import re\n",
    "\n",
    "regex = re.compile(' [A-Za-z]+\\.')\n",
    "# 엑셀파일 열기\n",
    "work_book = openpyxl.load_workbook('01_data/train.xlsx')\n",
    "\n",
    "# 현재 Active Sheet 얻기\n",
    "work_sheet = work_book.active\n",
    "\n",
    "# work_sheet.rows는 해당 쉬트의 모든 행을 객체로 가지고 있음\n",
    "for each_row in work_sheet.rows:\n",
    "    print (each_row[3].value)\n",
    "    print (regex.findall(each_row[3].value))\n",
    "    if len(regex.findall(each_row[3].value)) > 0:\n",
    "        if regex.findall(each_row[3].value)[0].strip() == \"Mr.\":\n",
    "            print (\"남성\")\n",
    "\n",
    "work_book.close()"
   ]
  },
  {
   "cell_type": "markdown",
   "metadata": {},
   "source": [
    "<table>\n",
    "    <thead>\n",
    "        <tr style=\"font-size:1.2em\">\n",
    "            <th style=\"text-align:center\">정규 표현식</th>\n",
    "            <th style=\"text-align:center\">축약 표현</th>\n",
    "            <th style=\"text-align:left\">사용 예</th>\n",
    "        </tr>\n",
    "    </thead>\n",
    "    <tbody>\n",
    "        <tr style=\"font-size:1.2em\">\n",
    "            <td style=\"text-align:center\">[0-9]</td>\n",
    "            <td style=\"text-align:center\">\\d</td>\n",
    "            <td style=\"text-align:left\">숫자를 찾음</td>\n",
    "        </tr>\n",
    "        <tr style=\"font-size:1.2em\">\n",
    "            <td style=\"text-align:center\">[^0-9]</td>\n",
    "            <td style=\"text-align:center\">\\D</td>\n",
    "            <td style=\"text-align:left\">숫자가 아닌 것을 찾음(텍스트, 특수 문자, white space(스페이스, 탭, 엔터 등등)를 찾을 때)</td>\n",
    "        </tr>\n",
    "        <tr style=\"font-size:1.2em\">\n",
    "            <td style=\"text-align:center\">[ \\t\\n\\r\\f\\v]</td>\n",
    "            <td style=\"text-align:center\">\\s</td>\n",
    "            <td style=\"text-align:left\">white space(스페이스, 탭, 엔터 등등) 문자인 것을 찾음</td>\n",
    "        </tr>\n",
    "        <tr style=\"font-size:1.2em\">\n",
    "            <td style=\"text-align:center\">[^ \\t\\n\\r\\f\\v]</td>\n",
    "            <td style=\"text-align:center\">\\S</td>\n",
    "            <td style=\"text-align:left\">white space(스페이스, 탭, 엔터 등등) 문자가 아닌 것을 찾음(텍스트, 특수 문자, 숫자를 찾을 때)</td>\n",
    "        </tr>\n",
    "        <tr style=\"font-size:1.2em\">\n",
    "            <td style=\"text-align:center\">[A-Za-z0-9]</td>\n",
    "            <td style=\"text-align:center\">\\w</td>\n",
    "            <td style=\"text-align:left\">문자, 숫자를 찾음</td>\n",
    "        </tr>\n",
    "        <tr style=\"font-size:1.2em\">\n",
    "            <td style=\"text-align:center\">[^A-Za-z0-9]</td>\n",
    "            <td style=\"text-align:center\">\\W</td>\n",
    "            <td style=\"text-align:left\">문자, 숫자가 아닌 것을 찾음</td>\n",
    "        </tr>\n",
    "    </tbody>\n",
    "</table>"
   ]
  },
  {
   "cell_type": "markdown",
   "metadata": {},
   "source": [
    "### 예: 문자, 숫자가 아닌 데이터를 찾아서, '' 로 대체해라(삭제해라)"
   ]
  },
  {
   "cell_type": "code",
   "execution_count": 15,
   "metadata": {},
   "outputs": [
    {
     "data": {
      "text/plain": [
       "'Dave'"
      ]
     },
     "execution_count": 15,
     "metadata": {},
     "output_type": "execute_result"
    }
   ],
   "source": [
    "import re\n",
    "string = \"(Dave)\"\n",
    "re.sub('[^A-Za-z0-9]', '', string)    # 문자, 숫자가 아닌 데이터를 찾아서, '' 로 대체해라(삭제해라)"
   ]
  },
  {
   "cell_type": "code",
   "execution_count": 16,
   "metadata": {},
   "outputs": [
    {
     "data": {
      "text/plain": [
       "'Dave'"
      ]
     },
     "execution_count": 16,
     "metadata": {},
     "output_type": "execute_result"
    }
   ],
   "source": [
    "string.replace(\"(\", '').replace(\")\", '')"
   ]
  },
  {
   "cell_type": "markdown",
   "metadata": {},
   "source": [
    "## 정규표현식 확인: https://regexr.com/"
   ]
  },
  {
   "cell_type": "code",
   "execution_count": null,
   "metadata": {
    "collapsed": true
   },
   "outputs": [],
   "source": []
  },
  {
   "cell_type": "markdown",
   "metadata": {},
   "source": [
    "### 위 정규 표현식은 일정한 규칙을 가지고 작성됨, 필요한 패턴은 직접 만들 수도 있음"
   ]
  },
  {
   "cell_type": "markdown",
   "metadata": {},
   "source": [
    "### 1. Dot \\.\n",
    "* Dot \\. 메타 문자는 줄바꿈 문자인 \\n를 제외한 모든 문자(한 개)를 의미함\n",
    "* 예: D.A 는 D + 모든 문자(한 개) + A 를 의미\n",
    "  - DAA, DvA, D1A"
   ]
  },
  {
   "cell_type": "markdown",
   "metadata": {},
   "source": [
    "### 정규 표현식 라이브러리 임포트하기"
   ]
  },
  {
   "cell_type": "code",
   "execution_count": 17,
   "metadata": {},
   "outputs": [],
   "source": [
    "import re"
   ]
  },
  {
   "cell_type": "markdown",
   "metadata": {},
   "source": [
    "### 정규 표현식 패턴 만들기"
   ]
  },
  {
   "cell_type": "code",
   "execution_count": 18,
   "metadata": {},
   "outputs": [],
   "source": [
    "pattern = re.compile('D.A')"
   ]
  },
  {
   "cell_type": "markdown",
   "metadata": {},
   "source": [
    "### 패턴에 매칭되는지 여부 확인하기 (실습)"
   ]
  },
  {
   "cell_type": "code",
   "execution_count": 19,
   "metadata": {},
   "outputs": [
    {
     "data": {
      "text/plain": [
       "<re.Match object; span=(0, 3), match='DAA'>"
      ]
     },
     "execution_count": 19,
     "metadata": {},
     "output_type": "execute_result"
    }
   ],
   "source": [
    "pattern.search(\"DAA\")"
   ]
  },
  {
   "cell_type": "code",
   "execution_count": 20,
   "metadata": {},
   "outputs": [
    {
     "data": {
      "text/plain": [
       "<re.Match object; span=(0, 3), match='D1A'>"
      ]
     },
     "execution_count": 20,
     "metadata": {},
     "output_type": "execute_result"
    }
   ],
   "source": [
    "pattern.search(\"D1A\")"
   ]
  },
  {
   "cell_type": "code",
   "execution_count": 21,
   "metadata": {},
   "outputs": [],
   "source": [
    "pattern.search(\"D00A\")"
   ]
  },
  {
   "cell_type": "code",
   "execution_count": 22,
   "metadata": {},
   "outputs": [],
   "source": [
    "pattern.search(\"DA\")"
   ]
  },
  {
   "cell_type": "code",
   "execution_count": 23,
   "metadata": {},
   "outputs": [],
   "source": [
    "pattern.search(\"d0A\")"
   ]
  },
  {
   "cell_type": "code",
   "execution_count": 24,
   "metadata": {},
   "outputs": [
    {
     "data": {
      "text/plain": [
       "<re.Match object; span=(4, 7), match='D1A'>"
      ]
     },
     "execution_count": 24,
     "metadata": {},
     "output_type": "execute_result"
    }
   ],
   "source": [
    "pattern.search(\"d0A D1A 0111\")"
   ]
  },
  {
   "cell_type": "markdown",
   "metadata": {},
   "source": [
    "### 정말 Dot . 이 들어간 패턴을 찾으려면?\n",
    "<pre>\n",
    "\\. 으로 표시하거나, [.] 으로 표시하면 됨\n",
    "</pre>"
   ]
  },
  {
   "cell_type": "code",
   "execution_count": 25,
   "metadata": {},
   "outputs": [],
   "source": [
    "pattern = re.compile('D\\.A')"
   ]
  },
  {
   "cell_type": "code",
   "execution_count": 26,
   "metadata": {},
   "outputs": [
    {
     "data": {
      "text/plain": [
       "<re.Match object; span=(0, 3), match='D.A'>"
      ]
     },
     "execution_count": 26,
     "metadata": {},
     "output_type": "execute_result"
    }
   ],
   "source": [
    "pattern.search(\"D.A\")"
   ]
  },
  {
   "cell_type": "code",
   "execution_count": 27,
   "metadata": {},
   "outputs": [],
   "source": [
    "pattern.search(\"DDA\")"
   ]
  },
  {
   "cell_type": "code",
   "execution_count": 28,
   "metadata": {},
   "outputs": [],
   "source": [
    "pattern = re.compile('D[.]A')"
   ]
  },
  {
   "cell_type": "markdown",
   "metadata": {},
   "source": [
    "### 찾고 바꾸기 (특정 패턴이 매칭되는 것을 찾아서, 다른 문자열로 바꾸기)"
   ]
  },
  {
   "cell_type": "code",
   "execution_count": 34,
   "metadata": {},
   "outputs": [],
   "source": [
    "string = \"DDA D1A DDA DA\""
   ]
  },
  {
   "cell_type": "code",
   "execution_count": 35,
   "metadata": {},
   "outputs": [
    {
     "data": {
      "text/plain": [
       "'Dave Dave Dave DA'"
      ]
     },
     "execution_count": 35,
     "metadata": {},
     "output_type": "execute_result"
    }
   ],
   "source": [
    "# re.sub(패턴, 바꿀데이터, 원본데이터)\n",
    "re.sub('D.A', 'Dave', string)    # 문자, 숫자가 아닌 데이터를 찾아서, '' 로 대체해라(삭제해라)"
   ]
  },
  {
   "cell_type": "markdown",
   "metadata": {},
   "source": [
    "### 2. 반복 ? , \\* , +\n",
    "* ? 는 앞 문자가 0번 또는 1번 표시되는 패턴 (없어도 되고, 한번 있어도 되는 패턴)\n",
    "* \\* 는 앞 문자가 0번 또는 그 이상 반복되는 패턴\n",
    "* \\+ 는 앞 문자가 1번 또는 그 이상 반복되는 패턴"
   ]
  },
  {
   "cell_type": "markdown",
   "metadata": {},
   "source": [
    "### ? 사용 예"
   ]
  },
  {
   "cell_type": "code",
   "execution_count": 57,
   "metadata": {},
   "outputs": [],
   "source": [
    "pattern = re.compile('D?A')     # 앞에 문자 D가 없거나, 여러번 반복되고 마지막이 A 인 문자열"
   ]
  },
  {
   "cell_type": "code",
   "execution_count": 58,
   "metadata": {},
   "outputs": [
    {
     "data": {
      "text/plain": [
       "<re.Match object; span=(0, 1), match='A'>"
      ]
     },
     "execution_count": 58,
     "metadata": {},
     "output_type": "execute_result"
    }
   ],
   "source": [
    "pattern.search(\"A\")"
   ]
  },
  {
   "cell_type": "code",
   "execution_count": 59,
   "metadata": {},
   "outputs": [
    {
     "data": {
      "text/plain": [
       "<re.Match object; span=(0, 2), match='DA'>"
      ]
     },
     "execution_count": 59,
     "metadata": {},
     "output_type": "execute_result"
    }
   ],
   "source": [
    "pattern.search(\"DA\")"
   ]
  },
  {
   "cell_type": "code",
   "execution_count": 60,
   "metadata": {},
   "outputs": [
    {
     "data": {
      "text/plain": [
       "<re.Match object; span=(5, 7), match='DA'>"
      ]
     },
     "execution_count": 60,
     "metadata": {},
     "output_type": "execute_result"
    }
   ],
   "source": [
    "pattern.search(\"DDDDDDA\")"
   ]
  },
  {
   "cell_type": "code",
   "execution_count": null,
   "metadata": {},
   "outputs": [],
   "source": []
  },
  {
   "cell_type": "markdown",
   "metadata": {},
   "source": [
    "### \\* 사용 예"
   ]
  },
  {
   "cell_type": "code",
   "execution_count": 52,
   "metadata": {},
   "outputs": [],
   "source": [
    "pattern = re.compile('D*A')     # 앞에 문자 D가 없거나, 여러번 반복되고 마지막이 A 인 문자열"
   ]
  },
  {
   "cell_type": "code",
   "execution_count": 53,
   "metadata": {},
   "outputs": [
    {
     "data": {
      "text/plain": [
       "<re.Match object; span=(0, 1), match='A'>"
      ]
     },
     "execution_count": 53,
     "metadata": {},
     "output_type": "execute_result"
    }
   ],
   "source": [
    "pattern.search(\"A\")"
   ]
  },
  {
   "cell_type": "code",
   "execution_count": 54,
   "metadata": {},
   "outputs": [
    {
     "data": {
      "text/plain": [
       "<re.Match object; span=(0, 2), match='DA'>"
      ]
     },
     "execution_count": 54,
     "metadata": {},
     "output_type": "execute_result"
    }
   ],
   "source": [
    "pattern.search(\"DA\")"
   ]
  },
  {
   "cell_type": "code",
   "execution_count": 55,
   "metadata": {},
   "outputs": [
    {
     "data": {
      "text/plain": [
       "<re.Match object; span=(0, 29), match='DDDDDDDDDDDDDDDDDDDDDDDDDDDDA'>"
      ]
     },
     "execution_count": 55,
     "metadata": {},
     "output_type": "execute_result"
    }
   ],
   "source": [
    "pattern.search(\"DDDDDDDDDDDDDDDDDDDDDDDDDDDDA\")"
   ]
  },
  {
   "cell_type": "code",
   "execution_count": 62,
   "metadata": {},
   "outputs": [],
   "source": [
    "pattern = re.compile('AD*A')     # 앞에 문자 D가 없거나, 여러번 반복되고 마지막이 A 인 문자열"
   ]
  },
  {
   "cell_type": "code",
   "execution_count": 63,
   "metadata": {},
   "outputs": [
    {
     "data": {
      "text/plain": [
       "<re.Match object; span=(0, 3), match='ADA'>"
      ]
     },
     "execution_count": 63,
     "metadata": {},
     "output_type": "execute_result"
    }
   ],
   "source": [
    "pattern.search(\"ADA\")"
   ]
  },
  {
   "cell_type": "code",
   "execution_count": 64,
   "metadata": {},
   "outputs": [
    {
     "data": {
      "text/plain": [
       "<re.Match object; span=(0, 20), match='ADDDDDDDDDDDDDDDDDDA'>"
      ]
     },
     "execution_count": 64,
     "metadata": {},
     "output_type": "execute_result"
    }
   ],
   "source": [
    "pattern.search(\"ADDDDDDDDDDDDDDDDDDA\")"
   ]
  },
  {
   "cell_type": "code",
   "execution_count": null,
   "metadata": {
    "collapsed": true
   },
   "outputs": [],
   "source": []
  },
  {
   "cell_type": "markdown",
   "metadata": {},
   "source": [
    "* 참고: https://regexr.com/"
   ]
  },
  {
   "cell_type": "markdown",
   "metadata": {},
   "source": [
    "### + 사용 예"
   ]
  },
  {
   "cell_type": "code",
   "execution_count": 65,
   "metadata": {},
   "outputs": [],
   "source": [
    "pattern = re.compile('D+A')"
   ]
  },
  {
   "cell_type": "code",
   "execution_count": 66,
   "metadata": {},
   "outputs": [],
   "source": [
    "pattern.search(\"A\")"
   ]
  },
  {
   "cell_type": "code",
   "execution_count": 67,
   "metadata": {},
   "outputs": [
    {
     "data": {
      "text/plain": [
       "<re.Match object; span=(0, 2), match='DA'>"
      ]
     },
     "execution_count": 67,
     "metadata": {},
     "output_type": "execute_result"
    }
   ],
   "source": [
    "pattern.search(\"DA\")"
   ]
  },
  {
   "cell_type": "code",
   "execution_count": 68,
   "metadata": {},
   "outputs": [
    {
     "data": {
      "text/plain": [
       "<re.Match object; span=(0, 29), match='DDDDDDDDDDDDDDDDDDDDDDDDDDDDA'>"
      ]
     },
     "execution_count": 68,
     "metadata": {},
     "output_type": "execute_result"
    }
   ],
   "source": [
    "pattern.search(\"DDDDDDDDDDDDDDDDDDDDDDDDDDDDA\")"
   ]
  },
  {
   "cell_type": "markdown",
   "metadata": {},
   "source": [
    "### 또다른 반복 표현: {n}, {m,n}\n",
    "* {n} : 앞 문자가 n 번 반복되는 패턴\n",
    "* {m, n} : 앞 문자가 m 번 반복되는 패턴부터 n 번 반복되는 패턴까지"
   ]
  },
  {
   "cell_type": "markdown",
   "metadata": {},
   "source": [
    "### {n} 사용 예"
   ]
  },
  {
   "cell_type": "code",
   "execution_count": 69,
   "metadata": {},
   "outputs": [],
   "source": [
    "pattern = re.compile('AD{2}A')"
   ]
  },
  {
   "cell_type": "code",
   "execution_count": 70,
   "metadata": {},
   "outputs": [],
   "source": [
    "pattern.search(\"ADA\")"
   ]
  },
  {
   "cell_type": "code",
   "execution_count": 71,
   "metadata": {},
   "outputs": [
    {
     "data": {
      "text/plain": [
       "<re.Match object; span=(0, 4), match='ADDA'>"
      ]
     },
     "execution_count": 71,
     "metadata": {},
     "output_type": "execute_result"
    }
   ],
   "source": [
    "pattern.search(\"ADDA\")"
   ]
  },
  {
   "cell_type": "code",
   "execution_count": 72,
   "metadata": {},
   "outputs": [],
   "source": [
    "pattern.search(\"ADDDA\")"
   ]
  },
  {
   "cell_type": "markdown",
   "metadata": {},
   "source": [
    "### {m,n} 사용 예"
   ]
  },
  {
   "cell_type": "code",
   "execution_count": 73,
   "metadata": {},
   "outputs": [],
   "source": [
    "pattern = re.compile('AD{2,6}A')    # {m,n} 은 붙여 써야 함 {m, n} 으로 쓰면 안됨(특이함)"
   ]
  },
  {
   "cell_type": "code",
   "execution_count": 74,
   "metadata": {},
   "outputs": [
    {
     "data": {
      "text/plain": [
       "<re.Match object; span=(0, 4), match='ADDA'>"
      ]
     },
     "execution_count": 74,
     "metadata": {},
     "output_type": "execute_result"
    }
   ],
   "source": [
    "pattern.search(\"ADDA\")"
   ]
  },
  {
   "cell_type": "code",
   "execution_count": 75,
   "metadata": {},
   "outputs": [
    {
     "data": {
      "text/plain": [
       "<re.Match object; span=(0, 5), match='ADDDA'>"
      ]
     },
     "execution_count": 75,
     "metadata": {},
     "output_type": "execute_result"
    }
   ],
   "source": [
    "pattern.search(\"ADDDA\")"
   ]
  },
  {
   "cell_type": "code",
   "execution_count": 76,
   "metadata": {},
   "outputs": [
    {
     "data": {
      "text/plain": [
       "<re.Match object; span=(0, 8), match='ADDDDDDA'>"
      ]
     },
     "execution_count": 76,
     "metadata": {},
     "output_type": "execute_result"
    }
   ],
   "source": [
    "pattern.search(\"ADDDDDDA\")"
   ]
  },
  {
   "cell_type": "markdown",
   "metadata": {},
   "source": [
    "### 3. [ ] 괄호 : 괄호 안에 들어가는 문자가 들어 있는 패턴\n",
    "* 예:  [abc] 는 a, b, c 중 하나가 들어 있는 패턴을 말함"
   ]
  },
  {
   "cell_type": "code",
   "execution_count": 77,
   "metadata": {},
   "outputs": [],
   "source": [
    "pattern = re.compile('[abcdefgABCDEFG]')    "
   ]
  },
  {
   "cell_type": "code",
   "execution_count": 78,
   "metadata": {},
   "outputs": [
    {
     "data": {
      "text/plain": [
       "<re.Match object; span=(0, 1), match='a'>"
      ]
     },
     "execution_count": 78,
     "metadata": {},
     "output_type": "execute_result"
    }
   ],
   "source": [
    "pattern.search(\"a1234\")"
   ]
  },
  {
   "cell_type": "code",
   "execution_count": 79,
   "metadata": {},
   "outputs": [],
   "source": [
    "pattern.search(\"z1234\")  "
   ]
  },
  {
   "cell_type": "markdown",
   "metadata": {},
   "source": [
    "### 하이픈(-)을 이용하면 알파벳 전체를 나타낼 수 있음\n",
    "* 예:  [a-c] 는 a, b, c 중 하나가 들어 있는 패턴을 말함"
   ]
  },
  {
   "cell_type": "code",
   "execution_count": 80,
   "metadata": {},
   "outputs": [],
   "source": [
    "pattern = re.compile('[a-z]')    "
   ]
  },
  {
   "cell_type": "code",
   "execution_count": 81,
   "metadata": {},
   "outputs": [
    {
     "data": {
      "text/plain": [
       "<re.Match object; span=(0, 1), match='k'>"
      ]
     },
     "execution_count": 81,
     "metadata": {},
     "output_type": "execute_result"
    }
   ],
   "source": [
    "pattern.search(\"k1234\")  "
   ]
  },
  {
   "cell_type": "code",
   "execution_count": 83,
   "metadata": {},
   "outputs": [],
   "source": [
    "pattern.search(\"Z1234\")  "
   ]
  },
  {
   "cell_type": "markdown",
   "metadata": {},
   "source": [
    "### [a-zA-Z] 으로 표기하면 대소문자를 모두 포함해서 알파벳 전체를 나타낼 수 있음"
   ]
  },
  {
   "cell_type": "code",
   "execution_count": 84,
   "metadata": {},
   "outputs": [],
   "source": [
    "pattern = re.compile('[a-zA-Z]') "
   ]
  },
  {
   "cell_type": "code",
   "execution_count": 85,
   "metadata": {},
   "outputs": [
    {
     "data": {
      "text/plain": [
       "<re.Match object; span=(0, 1), match='Z'>"
      ]
     },
     "execution_count": 85,
     "metadata": {},
     "output_type": "execute_result"
    }
   ],
   "source": [
    "pattern.search(\"Z1234\")  "
   ]
  },
  {
   "cell_type": "markdown",
   "metadata": {},
   "source": [
    "### [a-zA-Z0-9] 로 표기하면 대소문자를 모두 포함해서 알파벳 전체와 함께 숫자 전체도 나타낼 수 있음"
   ]
  },
  {
   "cell_type": "code",
   "execution_count": 86,
   "metadata": {},
   "outputs": [],
   "source": [
    "pattern = re.compile('[a-zA-Z0-9]') "
   ]
  },
  {
   "cell_type": "code",
   "execution_count": 87,
   "metadata": {},
   "outputs": [
    {
     "data": {
      "text/plain": [
       "<re.Match object; span=(0, 1), match='1'>"
      ]
     },
     "execution_count": 87,
     "metadata": {},
     "output_type": "execute_result"
    }
   ],
   "source": [
    "pattern.search(\"1234---\") "
   ]
  },
  {
   "cell_type": "code",
   "execution_count": 88,
   "metadata": {},
   "outputs": [],
   "source": [
    "pattern.search(\"---------------!@#!@$!$%#%%%#%%@$!$!---\") "
   ]
  },
  {
   "cell_type": "markdown",
   "metadata": {},
   "source": [
    "### [ ] 괄호 안에서 [ 바로 뒤에 ^ 을 쓰면 그 뒤에 오는 문자가 아닌 패턴을 찾음\n",
    "* 문자를 결국 알파벳, 숫자, 특수문자, whitespace(스페이스, 탭, 엔터등) 로 분류할 수 있으므로\n",
    "* [^ \\t\\n\\r\\f\\v] 는 이중에서 whitespace 가 아닌 알파벳, 숫자, 특수문자를 지칭함"
   ]
  },
  {
   "cell_type": "code",
   "execution_count": 89,
   "metadata": {},
   "outputs": [],
   "source": [
    "pattern = re.compile('[^a-zA-Z0-9]') "
   ]
  },
  {
   "cell_type": "code",
   "execution_count": 90,
   "metadata": {},
   "outputs": [
    {
     "data": {
      "text/plain": [
       "<re.Match object; span=(0, 1), match='-'>"
      ]
     },
     "execution_count": 90,
     "metadata": {},
     "output_type": "execute_result"
    }
   ],
   "source": [
    "pattern.search(\"---------------!@#!@$!$%#%%%#%%@$!$!---\") "
   ]
  },
  {
   "cell_type": "code",
   "execution_count": null,
   "metadata": {
    "collapsed": true
   },
   "outputs": [],
   "source": []
  },
  {
   "cell_type": "code",
   "execution_count": 91,
   "metadata": {},
   "outputs": [],
   "source": [
    "pattern = re.compile('[^ \\t\\n\\r\\f\\v]') "
   ]
  },
  {
   "cell_type": "code",
   "execution_count": 94,
   "metadata": {},
   "outputs": [
    {
     "data": {
      "text/plain": [
       "<re.Match object; span=(0, 1), match='-'>"
      ]
     },
     "execution_count": 94,
     "metadata": {},
     "output_type": "execute_result"
    }
   ],
   "source": [
    "pattern.search(\"-\") "
   ]
  },
  {
   "cell_type": "code",
   "execution_count": 95,
   "metadata": {},
   "outputs": [],
   "source": [
    "pattern.search(\" \")"
   ]
  },
  {
   "cell_type": "markdown",
   "metadata": {},
   "source": [
    "### 그러면 한글만? --> [가-힣]"
   ]
  },
  {
   "cell_type": "code",
   "execution_count": 96,
   "metadata": {},
   "outputs": [],
   "source": [
    "pattern = re.compile('[가-힣]') "
   ]
  },
  {
   "cell_type": "code",
   "execution_count": 97,
   "metadata": {},
   "outputs": [
    {
     "data": {
      "text/plain": [
       "<re.Match object; span=(0, 1), match='안'>"
      ]
     },
     "execution_count": 97,
     "metadata": {},
     "output_type": "execute_result"
    }
   ],
   "source": [
    "pattern.search(\"안\") "
   ]
  },
  {
   "cell_type": "markdown",
   "metadata": {},
   "source": [
    "### 4. 조합해서 써보자"
   ]
  },
  {
   "cell_type": "code",
   "execution_count": 98,
   "metadata": {},
   "outputs": [
    {
     "name": "stdout",
     "output_type": "stream",
     "text": [
      "<re.Match object; span=(0, 4), match='Dave'>\n"
     ]
    }
   ],
   "source": [
    "import re\n",
    "pattern = re.compile('[a-zA-Z]+')\n",
    "matched = pattern.search(\"Dave\")\n",
    "print(matched)"
   ]
  },
  {
   "cell_type": "markdown",
   "metadata": {},
   "source": [
    "### 5. 정규 표현식 라이브러리 함수 사용법"
   ]
  },
  {
   "cell_type": "markdown",
   "metadata": {},
   "source": [
    "### match 와 search 함수\n",
    "* match : 문자열 처음부터 정규식과 매칭되는 패턴을 찾아서 리턴\n",
    "* search : 문자열 전체를 검색해서 정규식과 매칭되는 패턴을 찾아서 리턴"
   ]
  },
  {
   "cell_type": "code",
   "execution_count": 104,
   "metadata": {},
   "outputs": [],
   "source": [
    "import re\n",
    "pattern = re.compile('[a-z]+')"
   ]
  },
  {
   "cell_type": "code",
   "execution_count": 105,
   "metadata": {},
   "outputs": [],
   "source": [
    "matched = pattern.match('Dave')"
   ]
  },
  {
   "cell_type": "code",
   "execution_count": 106,
   "metadata": {},
   "outputs": [],
   "source": [
    "searched = pattern.search(\"Dave\")"
   ]
  },
  {
   "cell_type": "code",
   "execution_count": 107,
   "metadata": {},
   "outputs": [
    {
     "name": "stdout",
     "output_type": "stream",
     "text": [
      "None\n"
     ]
    }
   ],
   "source": [
    "print (matched)"
   ]
  },
  {
   "cell_type": "code",
   "execution_count": 108,
   "metadata": {},
   "outputs": [
    {
     "name": "stdout",
     "output_type": "stream",
     "text": [
      "<re.Match object; span=(1, 4), match='ave'>\n"
     ]
    }
   ],
   "source": [
    "print (searched)"
   ]
  },
  {
   "cell_type": "markdown",
   "metadata": {},
   "source": [
    "### findall 함수: 정규표현식과 매칭되는 모든 문자열을 리스트 객체로 리턴함"
   ]
  },
  {
   "cell_type": "code",
   "execution_count": 109,
   "metadata": {},
   "outputs": [],
   "source": [
    "import re\n",
    "pattern = re.compile('[a-z]+')\n",
    "findalled = pattern.findall('Game of Life in Python')"
   ]
  },
  {
   "cell_type": "code",
   "execution_count": 110,
   "metadata": {},
   "outputs": [
    {
     "name": "stdout",
     "output_type": "stream",
     "text": [
      "['ame', 'of', 'ife', 'in', 'ython']\n"
     ]
    }
   ],
   "source": [
    "print (findalled)"
   ]
  },
  {
   "cell_type": "code",
   "execution_count": 107,
   "metadata": {
    "collapsed": true
   },
   "outputs": [],
   "source": [
    "pattern2 = re.compile('[A-Za-z]+')"
   ]
  },
  {
   "cell_type": "code",
   "execution_count": 108,
   "metadata": {
    "collapsed": true
   },
   "outputs": [],
   "source": [
    "findalled2 = pattern2.findall('Game of Life in Python')"
   ]
  },
  {
   "cell_type": "code",
   "execution_count": 110,
   "metadata": {},
   "outputs": [
    {
     "name": "stdout",
     "output_type": "stream",
     "text": [
      "['Game', 'of', 'Life', 'in', 'Python']\n"
     ]
    }
   ],
   "source": [
    "print (findalled2)"
   ]
  },
  {
   "cell_type": "markdown",
   "metadata": {},
   "source": [
    "### findall 함수를 사용해서 정규표현식에 해당되는 문자열이 있는지 없는지 확인하기"
   ]
  },
  {
   "cell_type": "code",
   "execution_count": 10,
   "metadata": {},
   "outputs": [
    {
     "name": "stdout",
     "output_type": "stream",
     "text": [
      "정규표현식에 맞는 문자열이 존재하지 않음\n"
     ]
    }
   ],
   "source": [
    "import re\n",
    "pattern = re.compile('[a-z]+')\n",
    "findalled = pattern.findall('GAME')\n",
    "if len(findalled) > 0:\n",
    "    print (\"정규표현식에 맞는 문자열이 존재함\")\n",
    "else:\n",
    "    print (\"정규표현식에 맞는 문자열이 존재하지 않음\")"
   ]
  },
  {
   "cell_type": "code",
   "execution_count": null,
   "metadata": {
    "collapsed": true
   },
   "outputs": [],
   "source": []
  },
  {
   "cell_type": "markdown",
   "metadata": {},
   "source": [
    "### split 함수: 찾은 정규표현식 패턴 문자열을 기준으로 문자열을 분리"
   ]
  },
  {
   "cell_type": "code",
   "execution_count": 69,
   "metadata": {
    "collapsed": true
   },
   "outputs": [],
   "source": [
    "import re\n",
    "pattern2 = re.compile(':')\n",
    "splited = pattern2.split('python:java')"
   ]
  },
  {
   "cell_type": "code",
   "execution_count": 70,
   "metadata": {},
   "outputs": [
    {
     "name": "stdout",
     "output_type": "stream",
     "text": [
      "['python', 'java']\n"
     ]
    }
   ],
   "source": [
    "print (splited)"
   ]
  },
  {
   "cell_type": "markdown",
   "metadata": {},
   "source": [
    "<div class=\"alert alert-block alert-success\">\n",
    "<strong><font color=\"blue\" size=\"4em\">프로그래밍 연습</font></strong><br>\n",
    "' VS ' 로 문자열 앞뒤를 분리해보기 \n",
    "</div>"
   ]
  },
  {
   "cell_type": "code",
   "execution_count": 117,
   "metadata": {},
   "outputs": [
    {
     "name": "stdout",
     "output_type": "stream",
     "text": [
      "['python', 'java']\n"
     ]
    }
   ],
   "source": [
    "import re\n",
    "pattern2 = re.compile(' [A-Z]{2} ')\n",
    "splited = pattern2.split('python VS java')\n",
    "print (splited)"
   ]
  },
  {
   "cell_type": "markdown",
   "metadata": {},
   "source": [
    "### sub 함수: 찾은 정규표현식 패턴 문자열을 다른 문자열로 변경"
   ]
  },
  {
   "cell_type": "code",
   "execution_count": 111,
   "metadata": {},
   "outputs": [],
   "source": [
    "import re\n",
    "pattern2 = re.compile('-')\n",
    "subed = pattern2.sub('*', '801210-1011323')  # sub(바꿀문자열, 본래문자열)"
   ]
  },
  {
   "cell_type": "code",
   "execution_count": 112,
   "metadata": {},
   "outputs": [
    {
     "name": "stdout",
     "output_type": "stream",
     "text": [
      "801210*1011323\n"
     ]
    }
   ],
   "source": [
    "print (subed)"
   ]
  },
  {
   "cell_type": "code",
   "execution_count": 113,
   "metadata": {},
   "outputs": [],
   "source": [
    "subed = re.sub('-', '*', '801210-1011323')  # sub(정규표현식, 바꿀문자열, 본래문자열)"
   ]
  },
  {
   "cell_type": "code",
   "execution_count": 114,
   "metadata": {},
   "outputs": [
    {
     "name": "stdout",
     "output_type": "stream",
     "text": [
      "801210*1011323\n"
     ]
    }
   ],
   "source": [
    "print (subed)"
   ]
  },
  {
   "cell_type": "code",
   "execution_count": null,
   "metadata": {
    "collapsed": true
   },
   "outputs": [],
   "source": []
  },
  {
   "cell_type": "markdown",
   "metadata": {},
   "source": [
    "<div class=\"alert alert-block alert-success\">\n",
    "<strong><font color=\"blue\" size=\"4em\">도전 과제</font></strong><br>\n",
    "주민번호 뒷자리를 * 로 바꿔서 가려보기<br>\n",
    "re.sub('-------', '------', each_row[1].value)   <--- 정규표현식, 바꿀문자열 을 넣어봅니다.\n",
    "</div>\n",
    "<pre>\n",
    "import openpyxl\n",
    "work_book = openpyxl.load_workbook('data_kr.xlsx')\n",
    "work_sheet = work_book.active\n",
    "for each_row in work_sheet.rows:\n",
    "    print(re.sub('-------', '------', each_row[1].value))\n",
    "    \n",
    "work_book.close()\n",
    "</pre>"
   ]
  },
  {
   "cell_type": "markdown",
   "metadata": {
    "collapsed": true
   },
   "source": [
    "<div class=\"alert alert-block alert-success\">\n",
    "<strong><font color=\"blue\" size=\"4em\">과제</font></strong><br>\n",
    "다음과 같은 문자열에서 휴대폰 번호 뒷자리인 숫자 4개를 ####로 바꾸는 프로그램을 정규식을 사용하여 작성하시오.<br>\n",
    "</div>\n",
    "<pre>\n",
    "\"\"\"\n",
    "park 010-9999-9988\n",
    "kim 010-9909-7789\n",
    "lee 010-8789-7768\n",
    "\"\"\"\n",
    "</pre>"
   ]
  }
 ],
 "metadata": {
  "kernelspec": {
   "display_name": "Python 3",
   "language": "python",
   "name": "python3"
  },
  "language_info": {
   "codemirror_mode": {
    "name": "ipython",
    "version": 3
   },
   "file_extension": ".py",
   "mimetype": "text/x-python",
   "name": "python",
   "nbconvert_exporter": "python",
   "pygments_lexer": "ipython3",
   "version": "3.7.4"
  },
  "nbTranslate": {
   "displayLangs": [
    "*"
   ],
   "hotkey": "alt-t",
   "langInMainMenu": true,
   "sourceLang": "en",
   "targetLang": "fr",
   "useGoogleTranslate": true
  }
 },
 "nbformat": 4,
 "nbformat_minor": 1
}
