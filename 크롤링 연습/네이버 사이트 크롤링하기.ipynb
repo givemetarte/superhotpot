{
 "cells": [
  {
   "cell_type": "markdown",
   "metadata": {},
   "source": [
    "### 네이버 쇼핑 사이트 크롤링하기\n",
    "\n",
    "with only css selector & BeautifulSoup"
   ]
  },
  {
   "cell_type": "code",
   "execution_count": null,
   "metadata": {},
   "outputs": [],
   "source": [
    "import requests\n",
    "from bs4 import BeautifulSoup\n",
    "\n",
    "res = requests.get('https://search.shopping.naver.com/best100v2/main.nhn')\n",
    "soup = BeautifulSoup(res.content,'html.parser')\n",
    "items = soup.select('#popular_srch_lst span.txt')\n",
    "for item in items:\n",
    "    print (item.get_text())\n"
   ]
  },
  {
   "cell_type": "code",
   "execution_count": null,
   "metadata": {},
   "outputs": [],
   "source": [
    "site_list = ['https://search.shopping.naver.com/best100v2/detail.nhn?catId=50000000', 'https://search.shopping.naver.com/best100v2/detail.nhn?catId=50000001','https://search.shopping.naver.com/best100v2/detail.nhn?catId=50000002']\n",
    "\n",
    "for site in site_list: \n",
    "    res = requests.get(site)\n",
    "    soup = BeautifulSoup(res.content,'html.parser')\n",
    "    items = soup.select('#productListArea > ul > li > p > a')\n",
    "    print(site)\n",
    "    for item in items:\n",
    "        print (item.get_text())"
   ]
  },
  {
   "cell_type": "markdown",
   "metadata": {},
   "source": [
    "### 네이버 주식 사이트 크롤링하기\n"
   ]
  },
  {
   "cell_type": "code",
   "execution_count": 31,
   "metadata": {},
   "outputs": [
    {
     "data": {
      "text/plain": [
       "0    슈펙스비앤피\n",
       "1      삼보산업\n",
       "2      모나리자\n",
       "3      나노캠텍\n",
       "4     남선알미늄\n",
       "5       포티스\n",
       "dtype: object"
      ]
     },
     "execution_count": 31,
     "metadata": {},
     "output_type": "execute_result"
    }
   ],
   "source": [
    "import requests\n",
    "from bs4 import BeautifulSoup\n",
    "import pandas as pd\n",
    "\n",
    "res = requests.get('https://finance.naver.com/')\n",
    "soup = BesautifulSoup(res.content,'html.parser')\n",
    "items = soup.select('#_topItems1 > tr')\n",
    "\n",
    "name = []\n",
    "\n",
    "for item in items:\n",
    "    name.append(item.find('a').get_text())\n",
    "\n",
    "s = pd.Series(name)\n",
    "s"
   ]
  },
  {
   "cell_type": "code",
   "execution_count": null,
   "metadata": {},
   "outputs": [],
   "source": []
  }
 ],
 "metadata": {
  "kernelspec": {
   "display_name": "Python 3",
   "language": "python",
   "name": "python3"
  },
  "language_info": {
   "codemirror_mode": {
    "name": "ipython",
    "version": 3
   },
   "file_extension": ".py",
   "mimetype": "text/x-python",
   "name": "python",
   "nbconvert_exporter": "python",
   "pygments_lexer": "ipython3",
   "version": "3.7.4"
  }
 },
 "nbformat": 4,
 "nbformat_minor": 2
}
