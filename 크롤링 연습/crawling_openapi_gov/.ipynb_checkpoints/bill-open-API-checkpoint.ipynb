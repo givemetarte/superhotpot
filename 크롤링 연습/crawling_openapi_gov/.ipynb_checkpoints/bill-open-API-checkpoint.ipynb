{
 "cells": [
  {
   "cell_type": "code",
   "execution_count": 91,
   "metadata": {},
   "outputs": [],
   "source": [
    "import pandas as pd\n",
    "from bs4 import BeautifulSoup\n",
    "import requests\n",
    "from tqdm import tqdm\n",
    "import numpy as np\n",
    "\n",
    "def get_bill(page_num, start_propose_date, end_propose_date): \n",
    "    billid = []\n",
    "    billname = []\n",
    "    billno = []\n",
    "    generalresult = []\n",
    "    passgubn = []\n",
    "    procdt = []\n",
    "    procstagecd = []\n",
    "    proposedt = []\n",
    "    proposerkind = []\n",
    "    summary = []\n",
    "    \n",
    "    key = 'X8D3ieWlnaETG%2F8ao7onl%2FJ6safe1VHOT8dnqbiBW%2BrHTqj7uFAtJKpcSJ0XHli3SbGa0clTNkcne8G0xFWXWg%3D%3D'\n",
    "    for n in tqdm(range(1, page_num+1), desc='Page No.'): \n",
    "        open_api = \"http://apis.data.go.kr/9710000/BillInfoService2/getBillInfoList?serviceKey=\" + key + \\\n",
    "                   f\"&pageNo={n}\" + f\"&numOfRows=1000&mem_name_check=&mem_name=&hj_nm=&ord=&start_ord=&end_ord=&process_num=-&start_process_num=-&end_process_num=-&propose_num=-&start_propose_num=-&end_propose_num=-&start_propose_date={start_propose_date}&end_propose_date={end_propose_date}&start_committee_dt=&end_committee_dt=&bill_kind_cd=B04&curr_committee=&proposer_kind_cd=&p_proc_result_cd=&b_proc_result_cd=&bill_name=&gbn=&amendmentyn=&budget=&\"\n",
    "\n",
    "        res = requests.get(open_api)\n",
    "        soup = BeautifulSoup(res.content, 'html.parser')\n",
    "        items = soup.find_all('item')\n",
    "        print('의안 수:', len(items))\n",
    "        for item in tqdm(items, desc='item No.'):\n",
    "            billid.append(item.find('billid').text)\n",
    "            billname.append(item.find('billname').text)\n",
    "            billno.append(item.find('billno').text)\n",
    "            try: \n",
    "                generalresult.append(item.find('generalresult').text)\n",
    "            except:\n",
    "                generalresult.append('-')\n",
    "            try: \n",
    "                passgubn.append(item.find('passgubn').text)\n",
    "            except: \n",
    "                passgubn.append('-')\n",
    "            try: \n",
    "                procdt.append(item.find('procdt').text)\n",
    "            except: \n",
    "                procdt.append('-')\n",
    "            try: \n",
    "                procstagecd.append(item.find('procstagecd').text)\n",
    "            except: \n",
    "                procstagecd.append('-')\n",
    "            proposedt.append(item.find('proposedt').text)\n",
    "            proposerkind.append(item.find('proposerkind').text)\n",
    "            try: \n",
    "                summary.append(item.find('summary').text)\n",
    "            except: \n",
    "                summary.append('-')\n",
    "           \n",
    "    bill_dict = {'의안 ID': billid, '의안명': billname, '의안번호': billno, \n",
    "                    '처리결과':generalresult, '처리구분': passgubn, '의결일자':procdt,\n",
    "                    '심사진행상태':procstagecd, '제안일자': proposedt, '제안자구분':proposerkind,\n",
    "                    '주요내용':summary}\n",
    "    bill_df = pd.DataFrame(bill_dict)\n",
    "    return bill_df "
   ]
  },
  {
   "cell_type": "code",
   "execution_count": 92,
   "metadata": {},
   "outputs": [
    {
     "name": "stderr",
     "output_type": "stream",
     "text": [
      "Page No.:   0%|          | 0/7 [00:00<?, ?it/s]\n",
      "item No.:   0%|          | 0/1000 [00:00<?, ?it/s]\u001b[A\n",
      "item No.:  29%|██▊       | 286/1000 [00:00<00:00, 2853.18it/s]\u001b[A"
     ]
    },
    {
     "name": "stdout",
     "output_type": "stream",
     "text": [
      "의안 수: 1000\n"
     ]
    },
    {
     "name": "stderr",
     "output_type": "stream",
     "text": [
      "\n",
      "item No.:  58%|█████▊    | 577/1000 [00:00<00:00, 2868.26it/s]\u001b[A\n",
      "item No.: 100%|██████████| 1000/1000 [00:00<00:00, 2772.69it/s][A\n",
      "Page No.:  14%|█▍        | 1/7 [00:06<00:40,  6.69s/it]\n",
      "item No.:   0%|          | 0/1000 [00:00<?, ?it/s]\u001b[A\n",
      "item No.:  17%|█▋        | 166/1000 [00:00<00:00, 1582.67it/s]\u001b[A"
     ]
    },
    {
     "name": "stdout",
     "output_type": "stream",
     "text": [
      "의안 수: 1000\n"
     ]
    },
    {
     "name": "stderr",
     "output_type": "stream",
     "text": [
      "\n",
      "item No.:  23%|██▎       | 229/1000 [00:00<00:00, 1087.85it/s]\u001b[A\n",
      "item No.:  29%|██▊       | 287/1000 [00:00<00:00, 835.31it/s] \u001b[A\n",
      "item No.:  37%|███▋      | 368/1000 [00:00<00:00, 827.30it/s]\u001b[A\n",
      "item No.:  48%|████▊     | 484/1000 [00:00<00:00, 904.67it/s]\u001b[A\n",
      "item No.:  61%|██████    | 607/1000 [00:00<00:00, 981.59it/s]\u001b[A\n",
      "item No.:  71%|███████▏  | 714/1000 [00:00<00:00, 1005.89it/s]\u001b[A\n",
      "item No.:  81%|████████  | 810/1000 [00:00<00:00, 810.55it/s] \u001b[A\n",
      "item No.:  89%|████████▉ | 894/1000 [00:01<00:00, 770.57it/s]\u001b[A\n",
      "item No.: 100%|██████████| 1000/1000 [00:01<00:00, 887.85it/s][A\n",
      "Page No.:  29%|██▊       | 2/7 [00:12<00:31,  6.38s/it]\n",
      "item No.:   0%|          | 0/1000 [00:00<?, ?it/s]\u001b[A\n",
      "item No.:  15%|█▌        | 150/1000 [00:00<00:00, 1495.35it/s]\u001b[A"
     ]
    },
    {
     "name": "stdout",
     "output_type": "stream",
     "text": [
      "의안 수: 1000\n"
     ]
    },
    {
     "name": "stderr",
     "output_type": "stream",
     "text": [
      "\n",
      "item No.:  36%|███▌      | 356/1000 [00:00<00:00, 1627.29it/s]\u001b[A\n",
      "item No.:  60%|██████    | 600/1000 [00:00<00:00, 1807.93it/s]\u001b[A\n",
      "item No.: 100%|██████████| 1000/1000 [00:00<00:00, 2173.20it/s][A\n",
      "Page No.:  43%|████▎     | 3/7 [00:18<00:25,  6.27s/it]\n",
      "item No.:   0%|          | 0/1000 [00:00<?, ?it/s]\u001b[A\n",
      "item No.:  28%|██▊       | 276/1000 [00:00<00:00, 2755.51it/s]\u001b[A"
     ]
    },
    {
     "name": "stdout",
     "output_type": "stream",
     "text": [
      "의안 수: 1000\n"
     ]
    },
    {
     "name": "stderr",
     "output_type": "stream",
     "text": [
      "\n",
      "item No.:  53%|█████▎    | 530/1000 [00:00<00:00, 2683.46it/s]\u001b[A\n",
      "item No.: 100%|██████████| 1000/1000 [00:00<00:00, 2671.08it/s][A\n",
      "Page No.:  57%|█████▋    | 4/7 [00:23<00:17,  5.90s/it]\n",
      "item No.:   0%|          | 0/1000 [00:00<?, ?it/s]\u001b[A\n",
      "item No.:  26%|██▌       | 262/1000 [00:00<00:00, 2618.32it/s]\u001b[A"
     ]
    },
    {
     "name": "stdout",
     "output_type": "stream",
     "text": [
      "의안 수: 1000\n"
     ]
    },
    {
     "name": "stderr",
     "output_type": "stream",
     "text": [
      "\n",
      "item No.:  53%|█████▎    | 526/1000 [00:00<00:00, 2624.51it/s]\u001b[A\n",
      "item No.: 100%|██████████| 1000/1000 [00:00<00:00, 2675.70it/s][A\n",
      "Page No.:  71%|███████▏  | 5/7 [00:29<00:11,  5.82s/it]\n",
      "item No.:   0%|          | 0/1000 [00:00<?, ?it/s]\u001b[A\n",
      "item No.:  26%|██▌       | 261/1000 [00:00<00:00, 2604.82it/s]\u001b[A"
     ]
    },
    {
     "name": "stdout",
     "output_type": "stream",
     "text": [
      "의안 수: 1000\n"
     ]
    },
    {
     "name": "stderr",
     "output_type": "stream",
     "text": [
      "\n",
      "item No.:  50%|█████     | 501/1000 [00:00<00:00, 2539.72it/s]\u001b[A\n",
      "item No.:  74%|███████▍  | 744/1000 [00:00<00:00, 2502.04it/s]\u001b[A\n",
      "item No.: 100%|██████████| 1000/1000 [00:00<00:00, 2376.34it/s][A\n",
      "Page No.:  86%|████████▌ | 6/7 [00:33<00:05,  5.30s/it]\n",
      "item No.:   0%|          | 0/633 [00:00<?, ?it/s]\u001b[A\n",
      "item No.:  32%|███▏      | 205/633 [00:00<00:00, 2045.95it/s]\u001b[A"
     ]
    },
    {
     "name": "stdout",
     "output_type": "stream",
     "text": [
      "의안 수: 633\n"
     ]
    },
    {
     "name": "stderr",
     "output_type": "stream",
     "text": [
      "\n",
      "item No.: 100%|██████████| 633/633 [00:00<00:00, 2205.82it/s]\u001b[A\n",
      "Page No.: 100%|██████████| 7/7 [00:36<00:00,  5.24s/it]\n"
     ]
    },
    {
     "data": {
      "text/plain": [
       "6633"
      ]
     },
     "execution_count": 92,
     "metadata": {},
     "output_type": "execute_result"
    }
   ],
   "source": [
    "# 13대 pageNo=7까지 \n",
    "start_propose_date = '1988-05-30'\n",
    "end_propose_date = '1992-05-29'\n",
    "page_num = 7\n",
    "\n",
    "bill_df = get_bill(page_num, start_propose_date, end_propose_date)\n",
    "len(bill_df)"
   ]
  },
  {
   "cell_type": "code",
   "execution_count": 94,
   "metadata": {},
   "outputs": [
    {
     "data": {
      "text/plain": [
       "945"
      ]
     },
     "execution_count": 94,
     "metadata": {},
     "output_type": "execute_result"
    }
   ],
   "source": [
    "bill_df = bill_df.drop_duplicates()\n",
    "len(bill_df)"
   ]
  },
  {
   "cell_type": "code",
   "execution_count": 95,
   "metadata": {},
   "outputs": [],
   "source": [
    "bill_df.to_csv('13th-lawbill-list.csv', encoding='utf-8-sig')"
   ]
  },
  {
   "cell_type": "code",
   "execution_count": null,
   "metadata": {},
   "outputs": [],
   "source": []
  },
  {
   "cell_type": "code",
   "execution_count": null,
   "metadata": {},
   "outputs": [],
   "source": []
  },
  {
   "cell_type": "code",
   "execution_count": null,
   "metadata": {},
   "outputs": [],
   "source": []
  },
  {
   "cell_type": "code",
   "execution_count": null,
   "metadata": {},
   "outputs": [],
   "source": []
  },
  {
   "cell_type": "code",
   "execution_count": null,
   "metadata": {},
   "outputs": [],
   "source": []
  },
  {
   "cell_type": "code",
   "execution_count": null,
   "metadata": {},
   "outputs": [],
   "source": []
  },
  {
   "cell_type": "code",
   "execution_count": null,
   "metadata": {},
   "outputs": [],
   "source": []
  },
  {
   "cell_type": "code",
   "execution_count": null,
   "metadata": {},
   "outputs": [],
   "source": []
  },
  {
   "cell_type": "markdown",
   "metadata": {},
   "source": [
    "## 국회의원 추출"
   ]
  },
  {
   "cell_type": "code",
   "execution_count": 31,
   "metadata": {},
   "outputs": [],
   "source": [
    "service_key = 'X8D3ieWlnaETG%2F8ao7onl%2FJ6safe1VHOT8dnqbiBW%2BrHTqj7uFAtJKpcSJ0XHli3SbGa0clTNkcne8G0xFWXWg%3D%3D'\n",
    "params = 'bill_id=PRC_O1R4A0O3X1K3K1O4S0E7A2E5O6G8Z0&gbn1=bill&gbn2=reception&gbnCd=&hjNm=&polyNm=&ServiceKey='\n",
    "\n",
    "open_api = 'http://apis.data.go.kr/9710000/BillInfoService2/getBillPetitionMemberList?' + params + service_key\n",
    "\n",
    "res = requests.get(open_api)\n",
    "soup = BeautifulSoup(res.content, 'html.parser')\n",
    "\n",
    "items = soup.find_all('item')"
   ]
  },
  {
   "cell_type": "code",
   "execution_count": 30,
   "metadata": {},
   "outputs": [
    {
     "data": {
      "text/plain": [
       "[<item><gbn1>의안</gbn1><gbn2>접수정보목록</gbn2><gbncd>발의자</gbncd><hjnm>姜琪正</hjnm><memname>강기정</memname><polynm>민주당</polynm></item>,\n",
       " <item><gbn1>의안</gbn1><gbn2>접수정보목록</gbn2><gbncd>발의자</gbncd><hjnm>金東喆</hjnm><memname>김동철</memname><polynm>민주당</polynm></item>,\n",
       " <item><gbn1>의안</gbn1><gbn2>접수정보목록</gbn2><gbncd>발의자</gbncd><hjnm>金榮珠</hjnm><memname>김영주</memname><polynm>민주당</polynm></item>,\n",
       " <item><gbn1>의안</gbn1><gbn2>접수정보목록</gbn2><gbncd>발의자</gbncd><hjnm>金宇南</hjnm><memname>김우남</memname><polynm>민주당</polynm></item>,\n",
       " <item><gbn1>의안</gbn1><gbn2>접수정보목록</gbn2><gbncd>발의자</gbncd><hjnm>金潤德</hjnm><memname>김윤덕</memname><polynm>민주당</polynm></item>,\n",
       " <item><gbn1>의안</gbn1><gbn2>접수정보목록</gbn2><gbncd>발의자</gbncd><hjnm>金玄</hjnm><memname>김현</memname><polynm>민주당</polynm></item>,\n",
       " <item><gbn1>의안</gbn1><gbn2>접수정보목록</gbn2><gbncd>발의자</gbncd><hjnm>朴敏秀</hjnm><memname>박민수</memname><polynm>민주당</polynm></item>,\n",
       " <item><gbn1>의안</gbn1><gbn2>접수정보목록</gbn2><gbncd>발의자</gbncd><hjnm>朴洪根</hjnm><memname>박홍근</memname><polynm>민주당</polynm></item>,\n",
       " <item><gbn1>의안</gbn1><gbn2>접수정보목록</gbn2><gbncd>발의자</gbncd><hjnm>裵奇雲</hjnm><memname>배기운</memname><polynm>민주당</polynm></item>,\n",
       " <item><gbn1>의안</gbn1><gbn2>접수정보목록</gbn2><gbncd>발의자</gbncd><hjnm>吳泳食</hjnm><memname>오영식</memname><polynm>민주당</polynm></item>,\n",
       " <item><gbn1>의안</gbn1><gbn2>접수정보목록</gbn2><gbncd>발의자</gbncd><hjnm>李錫玄</hjnm><memname>이석현</memname><polynm>민주당</polynm></item>,\n",
       " <item><gbn1>의안</gbn1><gbn2>접수정보목록</gbn2><gbncd>발의자</gbncd><hjnm>李學永</hjnm><memname>이학영</memname><polynm>민주당</polynm></item>,\n",
       " <item><gbn1>의안</gbn1><gbn2>접수정보목록</gbn2><gbncd>발의자</gbncd><hjnm>林來玄</hjnm><memname>임내현</memname><polynm>민주당</polynm></item>]"
      ]
     },
     "execution_count": 30,
     "metadata": {},
     "output_type": "execute_result"
    }
   ],
   "source": [
    "items"
   ]
  },
  {
   "cell_type": "code",
   "execution_count": null,
   "metadata": {},
   "outputs": [],
   "source": []
  }
 ],
 "metadata": {
  "kernelspec": {
   "display_name": "Python 3",
   "language": "python",
   "name": "python3"
  },
  "language_info": {
   "codemirror_mode": {
    "name": "ipython",
    "version": 3
   },
   "file_extension": ".py",
   "mimetype": "text/x-python",
   "name": "python",
   "nbconvert_exporter": "python",
   "pygments_lexer": "ipython3",
   "version": "3.8.5"
  }
 },
 "nbformat": 4,
 "nbformat_minor": 4
}
