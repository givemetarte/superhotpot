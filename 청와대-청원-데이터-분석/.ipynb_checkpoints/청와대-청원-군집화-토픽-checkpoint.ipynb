{
 "cells": [
  {
   "cell_type": "markdown",
   "metadata": {},
   "source": [
    "# 청와대 청원 분석 \n",
    "\n",
    "1. 청와대 청원 웹크롤링 \n",
    "2. 텍스트 클렌징, 단어 토큰화, 불용어 제거, 어근 추출 \n",
    "3. TF-IDF 기반 벡터화 수행(lemmatization) \n",
    "4. kmeans 군집화: n 바꿔가면서 최적의 군집단위 찾기 \n",
    "5. cluster_centers_로 각 군집별 핵심 단어 찾기 \n",
    "\n",
    "## 파일 불러오기"
   ]
  },
  {
   "cell_type": "code",
   "execution_count": 1,
   "metadata": {},
   "outputs": [],
   "source": [
    "import pandas as pd\n",
    "import numpy as np \n",
    "from nltk import sent_tokenize, word_tokenize\n",
    "from glob import glob"
   ]
  },
  {
   "cell_type": "code",
   "execution_count": 2,
   "metadata": {},
   "outputs": [],
   "source": [
    "df1 = pd.read_excel('우한폐렴-BlueHouse-Petition-data.xlsx', index_col=0, header=1, encoding='utf-8')\n",
    "df2 = pd.read_excel('코로나-BlueHouse-Petition-data.xlsx', index_col=0, header=1, encoding='utf-8')\n",
    "df3 = pd.read_excel('코비드-BlueHouse-Petition-data.xlsx', index_col=0, encoding='utf-8')\n",
    "df4 = pd.read_excel('corona-BlueHouse-Petition-data.xlsx', index_col=0, header=1, encoding='utf-8')\n",
    "df5 = pd.read_excel('covid-BlueHouse-Petition-data.xlsx', index_col=0, header=1, encoding='utf-8')\n",
    "df6 = pd.read_excel('covid19-BlueHouse-Petition-data.xlsx', index_col=0, encoding='utf-8')"
   ]
  },
  {
   "cell_type": "code",
   "execution_count": 3,
   "metadata": {},
   "outputs": [
    {
     "name": "stdout",
     "output_type": "stream",
     "text": [
      "(156, 8) (2996, 8) (3, 8) (2, 8) (43, 8) (10, 8)\n"
     ]
    }
   ],
   "source": [
    "print(df1.shape, df2.shape, df3.shape, df4.shape, df5.shape, df6.shape)"
   ]
  },
  {
   "cell_type": "code",
   "execution_count": 4,
   "metadata": {},
   "outputs": [
    {
     "data": {
      "text/plain": [
       "(3210, 8)"
      ]
     },
     "execution_count": 4,
     "metadata": {},
     "output_type": "execute_result"
    }
   ],
   "source": [
    "petition_raw = pd.concat([df1, df2, df3, df4, df5, df6])\n",
    "petition_raw.shape"
   ]
  },
  {
   "cell_type": "markdown",
   "metadata": {},
   "source": [
    "## 중복 데이터 제거"
   ]
  },
  {
   "cell_type": "code",
   "execution_count": 5,
   "metadata": {},
   "outputs": [
    {
     "data": {
      "text/plain": [
       "(3105, 8)"
      ]
     },
     "execution_count": 5,
     "metadata": {},
     "output_type": "execute_result"
    }
   ],
   "source": [
    "petition = petition_raw.drop_duplicates()\n",
    "petition.shape"
   ]
  },
  {
   "cell_type": "markdown",
   "metadata": {},
   "source": [
    "## 2020년 이외 데이터 제외"
   ]
  },
  {
   "cell_type": "code",
   "execution_count": 6,
   "metadata": {},
   "outputs": [
    {
     "name": "stderr",
     "output_type": "stream",
     "text": [
      "/usr/local/lib/python3.7/site-packages/ipykernel_launcher.py:3: SettingWithCopyWarning: \n",
      "A value is trying to be set on a copy of a slice from a DataFrame.\n",
      "Try using .loc[row_indexer,col_indexer] = value instead\n",
      "\n",
      "See the caveats in the documentation: http://pandas.pydata.org/pandas-docs/stable/user_guide/indexing.html#returning-a-view-versus-a-copy\n",
      "  This is separate from the ipykernel package so we can avoid doing imports until\n",
      "/usr/local/lib/python3.7/site-packages/ipykernel_launcher.py:4: SettingWithCopyWarning: \n",
      "A value is trying to be set on a copy of a slice from a DataFrame.\n",
      "Try using .loc[row_indexer,col_indexer] = value instead\n",
      "\n",
      "See the caveats in the documentation: http://pandas.pydata.org/pandas-docs/stable/user_guide/indexing.html#returning-a-view-versus-a-copy\n",
      "  after removing the cwd from sys.path.\n"
     ]
    },
    {
     "data": {
      "text/plain": [
       "(3105, 10)"
      ]
     },
     "execution_count": 6,
     "metadata": {},
     "output_type": "execute_result"
    }
   ],
   "source": [
    "month = pd.to_datetime(petition['청원시작일']).dt.month\n",
    "year = pd.to_datetime(petition['청원시작일']).dt.year\n",
    "petition['월'] = month\n",
    "petition['년'] = year\n",
    "petition = petition.sort_values(by='월')\n",
    "petition.shape"
   ]
  },
  {
   "cell_type": "code",
   "execution_count": 18,
   "metadata": {},
   "outputs": [
    {
     "name": "stdout",
     "output_type": "stream",
     "text": [
      "2020년 이외의 데이터:  0\n"
     ]
    },
    {
     "data": {
      "text/plain": [
       "(3095, 10)"
      ]
     },
     "execution_count": 18,
     "metadata": {},
     "output_type": "execute_result"
    }
   ],
   "source": [
    "print('2020년 이외의 데이터: ', len(petition[petition['년'] < 2020]))\n",
    "petition = petition[petition['년'] == 2020]\n",
    "petition.shape"
   ]
  },
  {
   "cell_type": "code",
   "execution_count": 19,
   "metadata": {},
   "outputs": [],
   "source": [
    "petition_feb = petition[(petition['월'] == 1) | (petition['월'] == 2)]\n",
    "petition_mar = petition[petition['월'] == 3]\n",
    "petition_apr = petition[petition['월'] == 4]\n",
    "petition_may = petition[petition['월'] == 5]\n",
    "petition_jun = petition[petition['월'] == 6]\n",
    "petition_jul = petition[petition['월'] == 7]"
   ]
  },
  {
   "cell_type": "markdown",
   "metadata": {},
   "source": [
    "### 텍스트 클렌징"
   ]
  },
  {
   "cell_type": "code",
   "execution_count": null,
   "metadata": {},
   "outputs": [],
   "source": []
  }
 ],
 "metadata": {
  "kernelspec": {
   "display_name": "Python 3",
   "language": "python",
   "name": "python3"
  },
  "language_info": {
   "codemirror_mode": {
    "name": "ipython",
    "version": 3
   },
   "file_extension": ".py",
   "mimetype": "text/x-python",
   "name": "python",
   "nbconvert_exporter": "python",
   "pygments_lexer": "ipython3",
   "version": "3.7.6"
  }
 },
 "nbformat": 4,
 "nbformat_minor": 2
}
