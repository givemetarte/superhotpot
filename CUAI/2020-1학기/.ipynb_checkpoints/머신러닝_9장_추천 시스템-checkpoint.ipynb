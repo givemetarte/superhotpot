{
 "cells": [
  {
   "cell_type": "markdown",
   "metadata": {},
   "source": [
    "# 🍎 파이썬 머신러닝 완벽 가이드 혼공\n",
    "\n",
    "### 2019.05.27 ~ 2019.06.02 교재 09장\n",
    "\n",
    "### 09. 추천 시스템"
   ]
  },
  {
   "cell_type": "markdown",
   "metadata": {},
   "source": [
    "#### 01. 추천 시스템의 개요와 배경 \n",
    "\n",
    "1. 콘텐츠 기반 필터링 \n",
    "2. 협업 필터링: 1) 최근접 이웃 협업 필터링 2) 잠재 요인 협업 필터링(행렬 분해 기법을 이용한 잠재 요인 협업 필터링 많이 이용되고 있음) \n",
    "\n",
    "#### 02. 콘텐츠 기반 필터링 추천 시스템 \n",
    "- 사용자가 특정한 아이템을 매우 선호하는 경우, 그 아이템과 비슷한 콘텐츠를 가진 다른 아이템을 추천하는 방식. \n",
    "\n",
    "#### 03. 최근접 이웃 협업 필터링\n",
    "- 사용자가 아이템에 매긴 평점 정보나 상품 구매 이력과 같은 사용자 행동 양식만을 기반으로 추천을 수행하는 것. \n",
    "- 주요 목표는 축적된 사용자 행동 데이터를 기반으로 사용자가 아직 평가하지 않은 아이템을 예측 평가하는 것이다. \n",
    "\n",
    "1) 사용자 기반 최근접 이웃 방식 \n",
    ": 특정 사용자와 타 사용자 간의 유사도 측정해 그들이 선호하는 아이템 추천 \n",
    "2) 아이템 기반 최근접 이웃 방식\n",
    ": 사용자들이 그 아이템을 좋아하는지/싫어하는지의 평가 척도가 유사한 아이템을 추천하는 기준이 되는 알고리즘 \n",
    ": 비슷한 영화를 좋아한다고 해서 취향이 비슷하다고 볼 수 없으므로 아이템 기반이 정확도 높음. \n",
    "\n",
    "#### 04. 잠재 요인 협업 필터링 \n",
    "- 사용자-아이템 평점 매트릭스 속에 숨어있는 잠재 요인을 추출해 추천 예측을 할 수 있게 하는 기법 \n",
    "- 대규모 다차원 행렬을 차원 감소 기법으로 분해하는 과정에서 잠재 요인을 추출하는데, 이러한 기법을 **행렬 분해**라고 함. \n",
    "\n",
    "##### 행렬 분해의 이해 \n",
    "- R = P * Q.T(Q의 전치행렬) \n",
    "- R행렬을 P와 Q로 분해하는 방식은 주로 SVD를 이용하는데, 이는 널값이 없어야 할 수 있으므로 확률적 경사 하강법이나 ALS 방식을 사용해 SVD를 수행함. \n",
    "\n",
    "##### 확률적 경사 하강법을 이용한 행렬 분해 \n",
    "P와 Q 행렬로 계산된 예측 R 행렬 값이 실제 R 행렬 값과 가장 최소의 오류를 가질 수 있도록 반복적인 비용 함수 최적화를 통해 P와 Q를 유추해내는 것 "
   ]
  },
  {
   "cell_type": "code",
   "execution_count": 6,
   "metadata": {},
   "outputs": [],
   "source": [
    "import numpy as np \n",
    "\n",
    "# 원본 행렬 R 생성, 분해 행렬 P와 Q 초기화, 잠재 요인 차원 K는 3으로 설정. \n",
    "R = np.array([[4, np.NaN, np.NaN, 2, np.NaN],\n",
    "             [np.NaN, 5, np.NaN, 3, 1],\n",
    "             [np.NaN, np.NaN, 3,4,4],\n",
    "             [5,2,1,2,np.NaN]])\n",
    "num_users, num_items = R.shape \n",
    "K=3 \n",
    "\n",
    "# 같은 값이 나오도록 해주는 것이 seed \n",
    "np.random.seed(1)\n",
    "# 정규분포 \n",
    "P = np.random.normal(scale=1./K, size=(num_users, K))\n",
    "Q = np.random.normal(scale=1./K, size=(num_items, K))"
   ]
  },
  {
   "cell_type": "code",
   "execution_count": 7,
   "metadata": {},
   "outputs": [
    {
     "data": {
      "text/plain": [
       "array([[ 0.54144845, -0.2039188 , -0.17605725],\n",
       "       [-0.35765621,  0.28846921, -0.76717957],\n",
       "       [ 0.58160392, -0.25373563,  0.10634637],\n",
       "       [-0.08312346,  0.48736931, -0.68671357]])"
      ]
     },
     "execution_count": 7,
     "metadata": {},
     "output_type": "execute_result"
    }
   ],
   "source": [
    "P"
   ]
  },
  {
   "cell_type": "code",
   "execution_count": 8,
   "metadata": {},
   "outputs": [
    {
     "data": {
      "text/plain": [
       "array([[-0.1074724 , -0.12801812,  0.37792315],\n",
       "       [-0.36663042, -0.05747607, -0.29261947],\n",
       "       [ 0.01407125,  0.19427174, -0.36687306],\n",
       "       [ 0.38157457,  0.30053024,  0.16749811],\n",
       "       [ 0.30028532, -0.22790929, -0.04096341]])"
      ]
     },
     "execution_count": 8,
     "metadata": {},
     "output_type": "execute_result"
    }
   ],
   "source": [
    "Q"
   ]
  },
  {
   "cell_type": "code",
   "execution_count": 15,
   "metadata": {},
   "outputs": [],
   "source": [
    "from sklearn.metrics import mean_squared_error\n",
    "\n",
    "def get_rmse(R,P,Q,non_zeros): \n",
    "    error = 0\n",
    "    # P와 Q.T로 예측 R 행렬 생성 \n",
    "    full_pred_matrix = np.dot(P, Q.T)\n",
    "    \n",
    "    # 실제 R 행렬에서 널이 아닌 값의 위치 인덱스를 추출해 실제 R 행렬과 예측 행렬읭 RMSE 추철 \n",
    "    x_non_zero_ind = [non_zero[0] for non_zero in non_zeros]\n",
    "    y_non_zero_ind = [non_zero[1] for non_zero in non_zeros]\n",
    "    R_non_zeros = R[x_non_zero_ind, y_non_zero_ind]\n",
    "    full_pred_matrix_non_zeros = full_pred_matrix[x_non_zero_ind, y_non_zero_ind]\n",
    "    mse = mean_squared_error(R_non_zeros, full_pred_matrix_non_zeros)\n",
    "    rmse = np.sqrt(mse)\n",
    "    \n",
    "    return rmse "
   ]
  },
  {
   "cell_type": "code",
   "execution_count": 16,
   "metadata": {},
   "outputs": [
    {
     "name": "stdout",
     "output_type": "stream",
     "text": [
      "### iteration step :  0  rmse :  3.163171357006542\n",
      "### iteration step :  50  rmse :  0.4389017438590779\n",
      "### iteration step :  100  rmse :  0.14861310312424297\n",
      "### iteration step :  150  rmse :  0.0717993834045935\n",
      "### iteration step :  200  rmse :  0.04207724450545748\n",
      "### iteration step :  250  rmse :  0.02869692063910318\n",
      "### iteration step :  300  rmse :  0.022359730224501988\n",
      "### iteration step :  350  rmse :  0.019370899957832723\n",
      "### iteration step :  400  rmse :  0.01796460828284354\n",
      "### iteration step :  450  rmse :  0.017291464655364495\n",
      "### iteration step :  500  rmse :  0.01695948023269639\n",
      "### iteration step :  550  rmse :  0.01678935617109113\n",
      "### iteration step :  600  rmse :  0.016697114742762628\n",
      "### iteration step :  650  rmse :  0.01664204933097735\n",
      "### iteration step :  700  rmse :  0.01660387855446133\n",
      "### iteration step :  750  rmse :  0.016572390873566774\n",
      "### iteration step :  800  rmse :  0.016542516757758176\n",
      "### iteration step :  850  rmse :  0.01651186868886508\n",
      "### iteration step :  900  rmse :  0.016479465105486334\n",
      "### iteration step :  950  rmse :  0.01644505098768118\n"
     ]
    }
   ],
   "source": [
    "# R > 0 인 행 위치, 열 위치, 값을 non_zeros 리스트에 저장. \n",
    "non_zeros = [ (i, j, R[i,j]) for i in range(num_users) for j in range(num_items) if R[i,j] > 0 ]\n",
    "\n",
    "steps=1000\n",
    "learning_rate=0.01\n",
    "r_lambda=0.01\n",
    "\n",
    "# SGD 기법으로 P와 Q 매트릭스를 계속 업데이트. \n",
    "for step in range(steps):\n",
    "    for i, j, r in non_zeros:\n",
    "        # 실제 값과 예측 값의 차이인 오류 값 구함\n",
    "        eij = r - np.dot(P[i, :], Q[j, :].T)\n",
    "        # Regularization을 반영한 SGD 업데이트 공식 적용\n",
    "        P[i,:] = P[i,:] + learning_rate*(eij * Q[j, :] - r_lambda*P[i,:])\n",
    "        Q[j,:] = Q[j,:] + learning_rate*(eij * P[i, :] - r_lambda*Q[j,:])\n",
    "\n",
    "    rmse = get_rmse(R, P, Q, non_zeros)\n",
    "    if (step % 50) == 0 :\n",
    "        print(\"### iteration step : \", step,\" rmse : \", rmse)"
   ]
  },
  {
   "cell_type": "code",
   "execution_count": 17,
   "metadata": {},
   "outputs": [
    {
     "name": "stdout",
     "output_type": "stream",
     "text": [
      "[[3.991 0.897 1.306 2.002 1.663]\n",
      " [6.694 4.978 0.978 2.981 1.003]\n",
      " [6.676 0.392 2.987 3.977 3.986]\n",
      " [4.968 2.005 1.006 2.017 1.141]]\n"
     ]
    }
   ],
   "source": [
    "pred_matrix = np.dot(P, Q.T)\n",
    "print(np.round(pred_matrix, 3))"
   ]
  },
  {
   "cell_type": "code",
   "execution_count": null,
   "metadata": {},
   "outputs": [],
   "source": []
  }
 ],
 "metadata": {
  "kernelspec": {
   "display_name": "Python 3",
   "language": "python",
   "name": "python3"
  },
  "language_info": {
   "codemirror_mode": {
    "name": "ipython",
    "version": 3
   },
   "file_extension": ".py",
   "mimetype": "text/x-python",
   "name": "python",
   "nbconvert_exporter": "python",
   "pygments_lexer": "ipython3",
   "version": "3.7.6"
  }
 },
 "nbformat": 4,
 "nbformat_minor": 2
}
