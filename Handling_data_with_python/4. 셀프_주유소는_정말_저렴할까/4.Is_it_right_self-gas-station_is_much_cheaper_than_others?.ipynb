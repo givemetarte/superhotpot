{
 "cells": [
  {
   "cell_type": "markdown",
   "metadata": {},
   "source": [
    "# 🐸 파이썬으로 데이터 주무르기 \n",
    "\n",
    "## 4장 셀프 주유소는 정말 저렴할까\n",
    "\n",
    "일자: 2020-03-31 ~"
   ]
  },
  {
   "cell_type": "markdown",
   "metadata": {},
   "source": [
    "- [opinet - 싼 주유소 찾기 - 지역별](http://www.opinet.co.kr/searRgSelect.do)\n",
    "- pip install selenium 터미널에 입력 \n",
    "- Selenium 모듈 뿐만 아니라 브라우저에 맞춰 웹 드라이버를 다운받아야 함. \n",
    "- [본인에게 맞는 웹브라우저 별로 드라이브 설치 - 경로설정 주의](https://sacko.tistory.com/13)"
   ]
  },
  {
   "cell_type": "code",
   "execution_count": 46,
   "metadata": {},
   "outputs": [],
   "source": [
    "from selenium import webdriver"
   ]
  },
  {
   "cell_type": "markdown",
   "metadata": {},
   "source": [
    "- 이동경로 확인: 분홍색으로 적혀있는 부분에서 확인할 수 있음!\n",
    "- 'Chrome이 자동화된 테스트 소프트웨어에 의해 제어되고 있습니다'가 뜬 문구의 웹 브라우저는 되도록 건들이지 말 것!\n",
    "\n",
    "![파일 경로](file_path_img.png)"
   ]
  },
  {
   "cell_type": "code",
   "execution_count": 13,
   "metadata": {},
   "outputs": [],
   "source": [
    "driver = webdriver.Chrome('/Users/harampark/Documents/chromedriver')\n",
    "driver.get(\"https://nid.naver.com/nidlogin.login?mode=form&url=https%3A%2F%2Fwww.naver.com\")"
   ]
  },
  {
   "cell_type": "code",
   "execution_count": 9,
   "metadata": {},
   "outputs": [
    {
     "data": {
      "text/plain": [
       "True"
      ]
     },
     "execution_count": 9,
     "metadata": {},
     "output_type": "execute_result"
    }
   ],
   "source": [
    "# 스크린샷 - 파일 경로 확인, 확장자 확인, 미리 폴더 만들어놓아야 함\n",
    "driver.save_screenshot('images/001.png')"
   ]
  },
  {
   "cell_type": "code",
   "execution_count": 14,
   "metadata": {},
   "outputs": [],
   "source": [
    "elem_login = driver.find_element_by_id(\"id\")\n",
    "elem_login.clear()\n",
    "elem_login.send_keys(\"**********\")\n",
    "\n",
    "elem_login = driver.find_element_by_id(\"pw\")\n",
    "elem_login.clear()\n",
    "elem_login.send_keys(\"**********\")"
   ]
  },
  {
   "cell_type": "code",
   "execution_count": 15,
   "metadata": {},
   "outputs": [],
   "source": [
    "xpath = \"\"\"//*[@id=\"log.login\"]\"\"\"\n",
    "driver.find_element_by_xpath(xpath).click()"
   ]
  },
  {
   "cell_type": "markdown",
   "metadata": {},
   "source": [
    "이렇게 하면, CAPCHA에 걸림. 네이버 쉿키를 열심히 일하네^^ \n",
    "\n",
    "그래서 저는 다음으로 했삼^^"
   ]
  },
  {
   "cell_type": "code",
   "execution_count": 25,
   "metadata": {},
   "outputs": [],
   "source": [
    "from selenium import webdriver\n",
    "import time\n",
    "\n",
    "driver = webdriver.Chrome('/Users/harampark/Documents/chromedriver')\n",
    "driver.get(\"https://accounts.kakao.com/login?continue=https%3A%2F%2Flogins.daum.net%2Faccounts%2Fksso.do%3Frescue%3Dtrue%26url%3Dhttps%253A%252F%252Fwww.daum.net%252F\")\n",
    "\n",
    "elem_login = driver.find_element_by_id(\"id_email_2\")\n",
    "elem_login.clear()\n",
    "elem_login.send_keys(\"**********\")\n",
    "time.sleep(3)\n",
    "\n",
    "elem_login = driver.find_element_by_id(\"id_password_3\")\n",
    "elem_login.clear()\n",
    "elem_login.send_keys(\"***********\")\n",
    "time.sleep(3)\n",
    "\n",
    "xpath = \"\"\"//*[@id=\"login-form\"]/fieldset/div[8]/button\"\"\"\n",
    "driver.find_element_by_xpath(xpath).click()"
   ]
  },
  {
   "cell_type": "code",
   "execution_count": 26,
   "metadata": {},
   "outputs": [],
   "source": [
    "# 메일 접근 \n",
    "driver.get(\"https://mail.daum.net/\")"
   ]
  },
  {
   "cell_type": "code",
   "execution_count": 27,
   "metadata": {},
   "outputs": [],
   "source": [
    "from bs4 import BeautifulSoup\n",
    "\n",
    "html = driver.page_source # 현재 접근한 페이지의 소스를 받을 수 있음.\n",
    "soup = BeautifulSoup(html, 'html.parser')"
   ]
  },
  {
   "cell_type": "code",
   "execution_count": 28,
   "metadata": {},
   "outputs": [
    {
     "data": {
      "text/plain": [
       "[<a class=\"link_from\" href=\"javascript:;\" title='\"코아벨스 미국법 연구소 운영자\" &lt;koa-bels@hanmail.net&gt;'>코아벨스 미국법 연구소 운영자</a>,\n",
       " <a class=\"link_from\" href=\"javascript:;\" title='\"코아벨스 미국법 연구소 운영자\" &lt;koa-bels@hanmail.net&gt;'>코아벨스 미국법 연구소 운영자</a>,\n",
       " <a class=\"link_from\" href=\"javascript:;\" title='\"영어이야기클럽 운영자\" &lt;yhhah@hanmail.net&gt;'>영어이야기클럽 운영자</a>,\n",
       " <a class=\"link_from\" href=\"javascript:;\" title='\"코아벨스 미국법 연구소 운영자\" &lt;koa-bels@hanmail.net&gt;'>코아벨스 미국법 연구소 운영자</a>,\n",
       " <a class=\"link_from\" href=\"javascript:;\" title='\"코아벨스 미국법 연구소 운영자\" &lt;koa-bels@hanmail.net&gt;'>코아벨스 미국법 연구소 운영자</a>,\n",
       " <a class=\"link_from\" href=\"javascript:;\" title='\"코아벨스 미국법 연구소 운영자\" &lt;koa-bels@hanmail.net&gt;'>코아벨스 미국법 연구소 운영자</a>,\n",
       " <a class=\"link_from\" href=\"javascript:;\" title='\"코아벨스 미국법 연구소 운영자\" &lt;koa-bels@hanmail.net&gt;'>코아벨스 미국법 연구소 운영자</a>,\n",
       " <a class=\"link_from\" href=\"javascript:;\" title='\"코아벨스 미국법 연구소 운영자\" &lt;koa-bels@hanmail.net&gt;'>코아벨스 미국법 연구소 운영자</a>,\n",
       " <a class=\"link_from\" href=\"javascript:;\" title='\"코아벨스 미국법 연구소 운영자\" &lt;koa-bels@hanmail.net&gt;'>코아벨스 미국법 연구소 운영자</a>,\n",
       " <a class=\"link_from\" href=\"javascript:;\" title='\"코아벨스 미국법 연구소 운영자\" &lt;koa-bels@hanmail.net&gt;'>코아벨스 미국법 연구소 운영자</a>,\n",
       " <a class=\"link_from\" href=\"javascript:;\" title='\"코아벨스 미국법 연구소 운영자\" &lt;koa-bels@hanmail.net&gt;'>코아벨스 미국법 연구소 운영자</a>,\n",
       " <a class=\"link_from\" href=\"javascript:;\" title='\"코아벨스 미국법 연구소 운영자\" &lt;koa-bels@hanmail.net&gt;'>코아벨스 미국법 연구소 운영자</a>,\n",
       " <a class=\"link_from\" href=\"javascript:;\" title='\"코아벨스 미국법 연구소 운영자\" &lt;koa-bels@hanmail.net&gt;'>코아벨스 미국법 연구소 운영자</a>,\n",
       " <a class=\"link_from\" href=\"javascript:;\" title='\"코아벨스 미국법 연구소 운영자\" &lt;koa-bels@hanmail.net&gt;'>코아벨스 미국법 연구소 운영자</a>,\n",
       " <a class=\"link_from\" href=\"javascript:;\" title='\"코아벨스 미국법 연구소 운영자\" &lt;koa-bels@hanmail.net&gt;'>코아벨스 미국법 연구소 운영자</a>]"
      ]
     },
     "execution_count": 28,
     "metadata": {},
     "output_type": "execute_result"
    }
   ],
   "source": [
    "raw_list = soup.find_all('a', 'link_from')\n",
    "raw_list"
   ]
  },
  {
   "cell_type": "code",
   "execution_count": 31,
   "metadata": {},
   "outputs": [
    {
     "data": {
      "text/plain": [
       "'코아벨스 미국법 연구소 운영자'"
      ]
     },
     "execution_count": 31,
     "metadata": {},
     "output_type": "execute_result"
    }
   ],
   "source": [
    "raw_list[0].get_text()"
   ]
  },
  {
   "cell_type": "code",
   "execution_count": 32,
   "metadata": {},
   "outputs": [
    {
     "name": "stdout",
     "output_type": "stream",
     "text": [
      "코아벨스 미국법 연구소 운영자\n",
      "코아벨스 미국법 연구소 운영자\n",
      "영어이야기클럽 운영자\n",
      "코아벨스 미국법 연구소 운영자\n",
      "코아벨스 미국법 연구소 운영자\n",
      "코아벨스 미국법 연구소 운영자\n",
      "코아벨스 미국법 연구소 운영자\n",
      "코아벨스 미국법 연구소 운영자\n",
      "코아벨스 미국법 연구소 운영자\n",
      "코아벨스 미국법 연구소 운영자\n",
      "코아벨스 미국법 연구소 운영자\n",
      "코아벨스 미국법 연구소 운영자\n",
      "코아벨스 미국법 연구소 운영자\n",
      "코아벨스 미국법 연구소 운영자\n",
      "코아벨스 미국법 연구소 운영자\n"
     ]
    }
   ],
   "source": [
    "for n in range(0, len(raw_list)):\n",
    "    send_list = raw_list[n].get_text()\n",
    "    print(send_list)"
   ]
  },
  {
   "cell_type": "markdown",
   "metadata": {},
   "source": [
    "메일 보낸 사람 리스트 확보 "
   ]
  },
  {
   "cell_type": "code",
   "execution_count": 33,
   "metadata": {},
   "outputs": [],
   "source": [
    "driver.close()  # 크롬 드라이버 종료"
   ]
  },
  {
   "cell_type": "code",
   "execution_count": 74,
   "metadata": {},
   "outputs": [],
   "source": [
    "driver = webdriver.Chrome('/Users/harampark/Documents/chromedriver')\n",
    "driver.get(\"http://www.opinet.co.kr/searRgSelect.do\")\n",
    "driver.get(\"http://www.opinet.co.kr/searRgSelect.do\") # 두번 해야 들어가 짐."
   ]
  },
  {
   "cell_type": "code",
   "execution_count": 75,
   "metadata": {},
   "outputs": [],
   "source": [
    "gu_list_raw = driver.find_element_by_xpath(\"\"\"//*[@id=\"SIGUNGU_NM0\"]\"\"\")\n",
    "gu_list = gu_list_raw.find_elements_by_tag_name(\"option\")"
   ]
  },
  {
   "cell_type": "code",
   "execution_count": 76,
   "metadata": {},
   "outputs": [
    {
     "data": {
      "text/plain": [
       "['강남구',\n",
       " '강동구',\n",
       " '강북구',\n",
       " '강서구',\n",
       " '관악구',\n",
       " '광진구',\n",
       " '구로구',\n",
       " '금천구',\n",
       " '노원구',\n",
       " '도봉구',\n",
       " '동대문구',\n",
       " '동작구',\n",
       " '마포구',\n",
       " '서대문구',\n",
       " '서초구',\n",
       " '성동구',\n",
       " '성북구',\n",
       " '송파구',\n",
       " '양천구',\n",
       " '영등포구',\n",
       " '용산구',\n",
       " '은평구',\n",
       " '종로구',\n",
       " '중구',\n",
       " '중랑구']"
      ]
     },
     "execution_count": 76,
     "metadata": {},
     "output_type": "execute_result"
    }
   ],
   "source": [
    "gu_names = [option.get_attribute(\"value\") for option in gu_list]\n",
    "gu_names.remove('')\n",
    "gu_names"
   ]
  },
  {
   "cell_type": "code",
   "execution_count": 77,
   "metadata": {},
   "outputs": [],
   "source": [
    "element = driver.find_element_by_id(\"SIGUNGU_NM0\")\n",
    "element.send_keys(gu_names[0])"
   ]
  },
  {
   "cell_type": "code",
   "execution_count": 78,
   "metadata": {},
   "outputs": [],
   "source": [
    "#조회버튼의 Xpath를 찾아서 클릭\n",
    "xpath ='''//*[@id=\"searRgSelect\"]/span'''\n",
    "element_sel_gu = driver.find_element_by_xpath(xpath).click()"
   ]
  },
  {
   "cell_type": "code",
   "execution_count": 79,
   "metadata": {},
   "outputs": [],
   "source": [
    "xpath ='''//*[@id=\"glopopd_excel\"]/span'''\n",
    "element_get_excel = driver.find_element_by_xpath(xpath).click()"
   ]
  },
  {
   "cell_type": "code",
   "execution_count": 81,
   "metadata": {},
   "outputs": [
    {
     "data": {
      "application/vnd.jupyter.widget-view+json": {
       "model_id": "113fe2611905419790a8f047141b2ddd",
       "version_major": 2,
       "version_minor": 0
      },
      "text/plain": [
       "HBox(children=(IntProgress(value=0, max=25), HTML(value='')))"
      ]
     },
     "metadata": {},
     "output_type": "display_data"
    },
    {
     "name": "stdout",
     "output_type": "stream",
     "text": [
      "\n"
     ]
    }
   ],
   "source": [
    "import time\n",
    "from tqdm import tqdm_notebook\n",
    "\n",
    "for gu in tqdm_notebook(gu_names): \n",
    "    element = driver.find_element_by_id(\"SIGUNGU_NM0\")\n",
    "    element.send_keys(gu)\n",
    "    \n",
    "    time.sleep(2)\n",
    "    \n",
    "    xpath ='''//*[@id=\"searRgSelect\"]/span'''\n",
    "    element_sel_gu = driver.find_element_by_xpath(xpath).click()\n",
    "    \n",
    "    time.sleep(1)\n",
    "    \n",
    "    xpath ='''//*[@id=\"glopopd_excel\"]/span'''\n",
    "    element_get_excel = driver.find_element_by_xpath(xpath).click()\n",
    "    \n",
    "    time.sleep(1)"
   ]
  },
  {
   "cell_type": "code",
   "execution_count": 82,
   "metadata": {},
   "outputs": [],
   "source": [
    "driver.close()"
   ]
  },
  {
   "cell_type": "code",
   "execution_count": null,
   "metadata": {},
   "outputs": [],
   "source": []
  }
 ],
 "metadata": {
  "kernelspec": {
   "display_name": "Python 3",
   "language": "python",
   "name": "python3"
  },
  "language_info": {
   "codemirror_mode": {
    "name": "ipython",
    "version": 3
   },
   "file_extension": ".py",
   "mimetype": "text/x-python",
   "name": "python",
   "nbconvert_exporter": "python",
   "pygments_lexer": "ipython3",
   "version": "3.7.4"
  }
 },
 "nbformat": 4,
 "nbformat_minor": 2
}
